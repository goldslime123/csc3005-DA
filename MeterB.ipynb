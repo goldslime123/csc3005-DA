{
 "cells": [
  {
   "cell_type": "markdown",
   "source": [
    "# __Data Preprocessing__"
   ],
   "metadata": {}
  },
  {
   "cell_type": "code",
   "execution_count": 1784,
   "source": [
    "# global settings\n",
    "# show all col/rows without hiding \n",
    "# pd.set_option('display.max_columns', None)\n",
    "# pd.set_option('display.max_rows', None) "
   ],
   "outputs": [],
   "metadata": {}
  },
  {
   "cell_type": "markdown",
   "source": [
    "## __1) Load Dataset__"
   ],
   "metadata": {}
  },
  {
   "cell_type": "code",
   "execution_count": 1785,
   "source": [
    "import pandas as pd\n",
    "import numpy as np\n",
    "import matplotlib.pyplot as plt\n",
    "from sklearn import *\n",
    "from scipy import stats\n",
    "import seaborn as sns\n",
    "\n",
    "# headers\n",
    "col_name_meterA = [\n",
    "    'Flatness ratio', 'Symmetry', 'Crossflow', 'Flow Velocity P1',\n",
    "    'Flow Velocity P2', 'Flow Velocity P3', 'Flow Velocity P4',\n",
    "    'Flow Velocity P5', 'Flow Velocity P6', 'Flow Velocity P7',\n",
    "    'Flow Velocity P8', 'Speed of Sound P1', 'Speed of Sound P2',\n",
    "    'Speed of Sound P3', 'Speed of Sound P4', 'Speed of Sound P5',\n",
    "    'Speed of Sound P6', 'Speed of Sound P7', 'Speed of Sound P8',\n",
    "    'Average Speed of Sound', 'Gain P1T', 'Gain P1R', 'Gain P2T', 'Gain P2R',\n",
    "    'Gain P3T', 'Gain P3R', 'Gain P4T', 'Gain P4R', 'Gain P5T', 'Gain P5R',\n",
    "    'Gain P6T', 'Gain P6R', 'Gain P7T', 'Gain P7R', 'Gain P8T', 'Gain P8R',\n",
    "    'Class'\n",
    "]\n",
    "\n",
    "col_name_meterB = [\n",
    "    'Profile factor', 'Symmetry', 'Crossflow', 'Swirl Angle',\n",
    "    'Flow Velocity P1', 'Flow Velocity P2', 'Flow Velocity P3',\n",
    "    'Flow Velocity P4', 'Average Flow Velocity', 'Speed of Sound P1',\n",
    "    'Speed of Sound P2', 'Speed of Sound P3', 'Speed of Sound P4',\n",
    "    'Average Speed of Sound', 'Signal Strength P1T', 'Signal Strength P1R',\n",
    "    'Signal Strength P2T', 'Signal Strength P2R', 'Signal Strength P3T',\n",
    "    'Signal Strength P3R', 'Signal Strength P4T', 'Signal Strength P4R',\n",
    "    'Turbulence P1', 'Turbulence P2', 'Turbulence P3', 'Turbulence P4',\n",
    "    'Meter Performance', 'Signal Quality P1T', 'Signal Quality P1R',\n",
    "    'Signal Quality P2T', 'Signal Quality P2R', 'Signal Quality P3T',\n",
    "    'Signal Quality P3R', 'Signal Quality P4T', 'Signal Quality P4R',\n",
    "    'Gain P1T', 'Gain P1R', 'Gain P2T', 'Gain P2R', 'Gain P3T', 'Gain P3R',\n",
    "    'Gain P4T', 'Gain P4R', 'Transit Time P1T', 'Transit Time P1R',\n",
    "    'Transit Time P2T', 'Transit Time P2R', 'Transit Time P3T',\n",
    "    'Transit Time P3R', 'Transit Time P4T', 'Transit Time P4R', 'Class'\n",
    "]\n",
    "\n",
    "col_name_meterB_no_class = [\n",
    "    'Profile factor', 'Symmetry', 'Crossflow', 'Swirl Angle',\n",
    "    'Flow Velocity P1', 'Flow Velocity P2', 'Flow Velocity P3',\n",
    "    'Flow Velocity P4', 'Average Flow Velocity', 'Speed of Sound P1',\n",
    "    'Speed of Sound P2', 'Speed of Sound P3', 'Speed of Sound P4',\n",
    "    'Average Speed of Sound', 'Signal Strength P1T', 'Signal Strength P1R',\n",
    "    'Signal Strength P2T', 'Signal Strength P2R', 'Signal Strength P3T',\n",
    "    'Signal Strength P3R', 'Signal Strength P4T', 'Signal Strength P4R',\n",
    "    'Turbulence P1', 'Turbulence P2', 'Turbulence P3', 'Turbulence P4',\n",
    "    'Meter Performance', 'Signal Quality P1T', 'Signal Quality P1R',\n",
    "    'Signal Quality P2T', 'Signal Quality P2R', 'Signal Quality P3T',\n",
    "    'Signal Quality P3R', 'Signal Quality P4T', 'Signal Quality P4R',\n",
    "    'Gain P1T', 'Gain P1R', 'Gain P2T', 'Gain P2R', 'Gain P3T', 'Gain P3R',\n",
    "    'Gain P4T', 'Gain P4R', 'Transit Time P1T', 'Transit Time P1R',\n",
    "    'Transit Time P2T', 'Transit Time P2R', 'Transit Time P3T',\n",
    "    'Transit Time P3R', 'Transit Time P4T', 'Transit Time P4R'\n",
    "]\n",
    "\n",
    "col_name_meterD = [\n",
    "    'Profile factor', 'Symmetry', 'Crossflow', 'Flow Velocity P1',\n",
    "    'Flow Velocity P2', 'Flow Velocity P3', 'Flow Velocity P4',\n",
    "    'Speed of Sound P1', 'Speed of Sound P2', 'Speed of Sound P3',\n",
    "    'Speed of Sound P4', 'Signal Strength P1T', 'Signal Strength P1R',\n",
    "    'Signal Strength P2T', 'Signal Strength P2R', 'Signal Strength P3T',\n",
    "    'Signal Strength P3R', 'Signal Strength P4T', 'Signal Strength P4R',\n",
    "    'Signal Quality P1T', 'Signal Quality P1R', 'Signal Quality P2T',\n",
    "    'Signal Quality P2R', 'Signal Quality P3T', 'Signal Quality P3R',\n",
    "    'Signal Quality P4T', 'Signal Quality P4R', 'Gain P1T', 'Gain P1R',\n",
    "    'Gain P2T', 'Gain P2R', 'Gain P3T', 'Gain P3R', 'Gain P4T', 'Gain P4R',\n",
    "    'Transit Time P1T', 'Transit Time P1R', 'Transit Time P2T',\n",
    "    'Transit Time P2R', 'Transit Time P3T', 'Transit Time P3R',\n",
    "    'Transit Time P4T', 'Transit Time P4R', 'Class'\n",
    "]\n",
    "\n",
    "df_meterA = pd.read_csv('dataset/Meter A', header=None, sep='\\t')\n",
    "df_meterA.columns = col_name_meterA\n",
    "\n",
    "df_meterB = pd.read_csv('dataset/Meter B', header=None, sep='\\t')\n",
    "df_meterB.columns = col_name_meterB\n",
    "\n",
    "df_meterD = pd.read_csv('dataset/Meter D', header=None, sep='\\t')\n",
    "df_meterD.columns = col_name_meterD\n",
    "\n",
    "# df_meterA\n",
    "# df_meterB\n",
    "# df_meterD\n"
   ],
   "outputs": [],
   "metadata": {}
  },
  {
   "cell_type": "markdown",
   "source": [
    "## __2) Identity Outlier Data in the attributes__\n",
    "View boxplot for indivdual attributes\n",
    "- Profile factor selected as it has highest number of outliers"
   ],
   "metadata": {}
  },
  {
   "cell_type": "code",
   "execution_count": 1786,
   "source": [
    "col_name_list= [\n",
    "    'Profile factor', 'Symmetry', 'Crossflow', 'Swirl Angle', 'Meter Performance' ,\n",
    "]\n",
    "\n",
    "df_meterB[col_name_list].boxplot(figsize=(20,10))"
   ],
   "outputs": [
    {
     "output_type": "execute_result",
     "data": {
      "text/plain": [
       "<AxesSubplot:>"
      ]
     },
     "metadata": {},
     "execution_count": 1786
    },
    {
     "output_type": "display_data",
     "data": {
      "image/png": "[encoded data removed]",
      "text/plain": [
       "<Figure size 1440x720 with 1 Axes>"
      ]
     },
     "metadata": {
      "needs_background": "light"
     }
    }
   ],
   "metadata": {}
  },
  {
   "cell_type": "markdown",
   "source": [
    "## __3) Check Missing Value__\n",
    "Check missing value and drop row with missing value. Meter B no missing value or row drop\n",
    "\n"
   ],
   "metadata": {}
  },
  {
   "cell_type": "code",
   "execution_count": 1787,
   "source": [
    "# count the rows and columns in a DataFrame\n",
    "print(\"\\nNumber of rows and column in our DataFrame = \",df_meterB.shape)\n",
    "res = df_meterB.notnull()\n",
    "print(\"\\nDataFrame displaying False for Null (NaN) value = \\n\",res)\n",
    "\n",
    "df_meterB = df_meterB.dropna()\n",
    "print(\"\\nDataFrame after removing null values...\\n\",df_meterB)\n",
    "print(\"\\n(Updated) Number of rows and column in our DataFrame = \",df_meterB.shape)"
   ],
   "outputs": [
    {
     "output_type": "stream",
     "name": "stdout",
     "text": [
      "\n",
      "Number of rows and column in our DataFrame =  (92, 52)\n",
      "\n",
      "DataFrame displaying False for Null (NaN) value = \n",
      "     Profile factor  Symmetry  Crossflow  Swirl Angle  Flow Velocity P1  \\\n",
      "0             True      True       True         True              True   \n",
      "1             True      True       True         True              True   \n",
      "2             True      True       True         True              True   \n",
      "3             True      True       True         True              True   \n",
      "4             True      True       True         True              True   \n",
      "..             ...       ...        ...          ...               ...   \n",
      "87            True      True       True         True              True   \n",
      "88            True      True       True         True              True   \n",
      "89            True      True       True         True              True   \n",
      "90            True      True       True         True              True   \n",
      "91            True      True       True         True              True   \n",
      "\n",
      "    Flow Velocity P2  Flow Velocity P3  Flow Velocity P4  \\\n",
      "0               True              True              True   \n",
      "1               True              True              True   \n",
      "2               True              True              True   \n",
      "3               True              True              True   \n",
      "4               True              True              True   \n",
      "..               ...               ...               ...   \n",
      "87              True              True              True   \n",
      "88              True              True              True   \n",
      "89              True              True              True   \n",
      "90              True              True              True   \n",
      "91              True              True              True   \n",
      "\n",
      "    Average Flow Velocity  Speed of Sound P1  ...  Gain P4R  Transit Time P1T  \\\n",
      "0                    True               True  ...      True              True   \n",
      "1                    True               True  ...      True              True   \n",
      "2                    True               True  ...      True              True   \n",
      "3                    True               True  ...      True              True   \n",
      "4                    True               True  ...      True              True   \n",
      "..                    ...                ...  ...       ...               ...   \n",
      "87                   True               True  ...      True              True   \n",
      "88                   True               True  ...      True              True   \n",
      "89                   True               True  ...      True              True   \n",
      "90                   True               True  ...      True              True   \n",
      "91                   True               True  ...      True              True   \n",
      "\n",
      "    Transit Time P1R  Transit Time P2T  Transit Time P2R  Transit Time P3T  \\\n",
      "0               True              True              True              True   \n",
      "1               True              True              True              True   \n",
      "2               True              True              True              True   \n",
      "3               True              True              True              True   \n",
      "4               True              True              True              True   \n",
      "..               ...               ...               ...               ...   \n",
      "87              True              True              True              True   \n",
      "88              True              True              True              True   \n",
      "89              True              True              True              True   \n",
      "90              True              True              True              True   \n",
      "91              True              True              True              True   \n",
      "\n",
      "    Transit Time P3R  Transit Time P4T  Transit Time P4R  Class  \n",
      "0               True              True              True   True  \n",
      "1               True              True              True   True  \n",
      "2               True              True              True   True  \n",
      "3               True              True              True   True  \n",
      "4               True              True              True   True  \n",
      "..               ...               ...               ...    ...  \n",
      "87              True              True              True   True  \n",
      "88              True              True              True   True  \n",
      "89              True              True              True   True  \n",
      "90              True              True              True   True  \n",
      "91              True              True              True   True  \n",
      "\n",
      "[92 rows x 52 columns]\n",
      "\n",
      "DataFrame after removing null values...\n",
      "     Profile factor  Symmetry  Crossflow  Swirl Angle  Flow Velocity P1  \\\n",
      "0          1.18509   1.02813    1.01648      0.15000           2.19574   \n",
      "1          1.19181   1.03375    1.01941      0.21700           2.19247   \n",
      "2          1.18198   1.02809    1.02099      0.08890           3.24667   \n",
      "3          1.18276   1.02878    1.02107      0.11700           3.24449   \n",
      "4          1.18227   1.02892    1.02135      0.02220           3.24594   \n",
      "..             ...       ...        ...          ...               ...   \n",
      "87         2.41811   0.00000    0.00000      0.00000           5.33230   \n",
      "88         3.29042   0.00000    0.00000      0.00000           5.42057   \n",
      "89         2.60104   0.00000    0.00000      0.00000           5.25696   \n",
      "90         2.33680   0.00000    0.00000      0.00000           5.22271   \n",
      "91        -0.90917   0.00000    0.00000      0.00000           4.34120   \n",
      "\n",
      "    Flow Velocity P2  Flow Velocity P3  Flow Velocity P4  \\\n",
      "0            2.54094           2.51196           2.08789   \n",
      "1            2.54659           2.51674           2.07571   \n",
      "2            3.73838           3.71522           3.07936   \n",
      "3            3.74186           3.71884           3.08040   \n",
      "4            3.74222           3.71546           3.08095   \n",
      "..               ...               ...               ...   \n",
      "87           6.66246           6.28844           0.00000   \n",
      "88           6.65359           6.30976           0.00000   \n",
      "89           6.67208           6.28764           0.00000   \n",
      "90           6.66906           6.28877           0.00000   \n",
      "91           7.22239           6.79667           0.00000   \n",
      "\n",
      "    Average Flow Velocity  Speed of Sound P1  ...  Gain P4R  Transit Time P1T  \\\n",
      "0                 2.39444         1483.86983  ...  49.80000          84.10707   \n",
      "1                 2.39609         1483.74739  ...  49.80000          84.11412   \n",
      "2                 3.52352         1483.77706  ...  49.80000          84.13749   \n",
      "3                 3.52593         1483.84744  ...  49.80000          84.13349   \n",
      "4                 3.52513         1483.81906  ...  49.80000          84.13535   \n",
      "..                    ...                ...  ...       ...               ...   \n",
      "87                5.92227         1550.59817  ...  96.46278          80.55223   \n",
      "88                5.92410         1542.06344  ...  96.53444          80.10194   \n",
      "89                5.91677         1550.68844  ...  96.65389          80.54497   \n",
      "90                5.89538         1550.80089  ...  96.61278          80.53819   \n",
      "91                5.97133         1542.70828  ...  95.08278          80.04462   \n",
      "\n",
      "    Transit Time P1R  Transit Time P2T  Transit Time P2R  Transit Time P3T  \\\n",
      "0           84.00310         120.33878         120.14424         120.37177   \n",
      "1           84.00997         120.34909         120.15389         120.38170   \n",
      "2           83.98334         120.39245         120.10621         120.42542   \n",
      "3           83.97941         120.38703         120.10044         120.41988   \n",
      "4           83.98081         120.38936         120.10280         120.42205   \n",
      "..               ...               ...               ...               ...   \n",
      "87          80.32385         118.22929         117.73855         118.00721   \n",
      "88          79.87268         118.22930         117.73886         118.00559   \n",
      "89          80.32195         118.22767         117.73610         118.00202   \n",
      "90          80.31735         118.22373         117.73239         117.99717   \n",
      "91          79.86321         118.23541         117.70344         118.00693   \n",
      "\n",
      "    Transit Time P3R  Transit Time P4T  Transit Time P4R  Class  \n",
      "0          120.17908          84.01905          83.91997      1  \n",
      "1          120.18880          84.02561          83.92726      1  \n",
      "2          120.14058          84.04781          83.90159      1  \n",
      "3          120.13493          84.04372          83.89760      1  \n",
      "4          120.13747          84.04535          83.89896      1  \n",
      "..               ...               ...               ...    ...  \n",
      "87         117.54275           0.00000           0.00000      3  \n",
      "88         117.53949           0.00000           0.00000      3  \n",
      "89         117.53813           0.00000           0.00000      3  \n",
      "90         117.53278           0.00000           0.00000      3  \n",
      "91         117.50549           0.00000           0.00000      3  \n",
      "\n",
      "[92 rows x 52 columns]\n",
      "\n",
      "(Updated) Number of rows and column in our DataFrame =  (92, 52)\n"
     ]
    }
   ],
   "metadata": {}
  },
  {
   "cell_type": "markdown",
   "source": [
    "## __4) Check for Duplicate Values__"
   ],
   "metadata": {}
  },
  {
   "cell_type": "code",
   "execution_count": 1788,
   "source": [
    "dups = df_meterB.duplicated()\n",
    "print('Number of duplicate rows = %d' % (dups.sum()))"
   ],
   "outputs": [
    {
     "output_type": "stream",
     "name": "stdout",
     "text": [
      "Number of duplicate rows = 0\n"
     ]
    }
   ],
   "metadata": {}
  },
  {
   "cell_type": "markdown",
   "source": [
    "## __5) Check for 0 value in dataset__"
   ],
   "metadata": {}
  },
  {
   "cell_type": "code",
   "execution_count": 1789,
   "source": [
    "# Count number of zeros in all columns of Dataframe\n",
    "for column_name in df_meterB.columns:\n",
    "    column = df_meterB[column_name]\n",
    "    # Get the count of Zeros in each column \n",
    "    count = (column == 0).sum()\n",
    "    print(f'Count of zeros in column: {column_name} is : {count}')"
   ],
   "outputs": [
    {
     "output_type": "stream",
     "name": "stdout",
     "text": [
      "Count of zeros in column: Profile factor is : 0\n",
      "Count of zeros in column: Symmetry is : 15\n",
      "Count of zeros in column: Crossflow is : 15\n",
      "Count of zeros in column: Swirl Angle is : 15\n",
      "Count of zeros in column: Flow Velocity P1 is : 0\n",
      "Count of zeros in column: Flow Velocity P2 is : 0\n",
      "Count of zeros in column: Flow Velocity P3 is : 0\n",
      "Count of zeros in column: Flow Velocity P4 is : 15\n",
      "Count of zeros in column: Average Flow Velocity is : 0\n",
      "Count of zeros in column: Speed of Sound P1 is : 0\n",
      "Count of zeros in column: Speed of Sound P2 is : 0\n",
      "Count of zeros in column: Speed of Sound P3 is : 0\n",
      "Count of zeros in column: Speed of Sound P4 is : 15\n",
      "Count of zeros in column: Average Speed of Sound is : 0\n",
      "Count of zeros in column: Signal Strength P1T is : 0\n",
      "Count of zeros in column: Signal Strength P1R is : 0\n",
      "Count of zeros in column: Signal Strength P2T is : 0\n",
      "Count of zeros in column: Signal Strength P2R is : 0\n",
      "Count of zeros in column: Signal Strength P3T is : 0\n",
      "Count of zeros in column: Signal Strength P3R is : 0\n",
      "Count of zeros in column: Signal Strength P4T is : 15\n",
      "Count of zeros in column: Signal Strength P4R is : 15\n",
      "Count of zeros in column: Turbulence P1 is : 0\n",
      "Count of zeros in column: Turbulence P2 is : 0\n",
      "Count of zeros in column: Turbulence P3 is : 0\n",
      "Count of zeros in column: Turbulence P4 is : 15\n",
      "Count of zeros in column: Meter Performance is : 0\n",
      "Count of zeros in column: Signal Quality P1T is : 0\n",
      "Count of zeros in column: Signal Quality P1R is : 0\n",
      "Count of zeros in column: Signal Quality P2T is : 0\n",
      "Count of zeros in column: Signal Quality P2R is : 0\n",
      "Count of zeros in column: Signal Quality P3T is : 0\n",
      "Count of zeros in column: Signal Quality P3R is : 0\n",
      "Count of zeros in column: Signal Quality P4T is : 3\n",
      "Count of zeros in column: Signal Quality P4R is : 0\n",
      "Count of zeros in column: Gain P1T is : 0\n",
      "Count of zeros in column: Gain P1R is : 0\n",
      "Count of zeros in column: Gain P2T is : 0\n",
      "Count of zeros in column: Gain P2R is : 0\n",
      "Count of zeros in column: Gain P3T is : 0\n",
      "Count of zeros in column: Gain P3R is : 0\n",
      "Count of zeros in column: Gain P4T is : 0\n",
      "Count of zeros in column: Gain P4R is : 0\n",
      "Count of zeros in column: Transit Time P1T is : 0\n",
      "Count of zeros in column: Transit Time P1R is : 0\n",
      "Count of zeros in column: Transit Time P2T is : 0\n",
      "Count of zeros in column: Transit Time P2R is : 0\n",
      "Count of zeros in column: Transit Time P3T is : 0\n",
      "Count of zeros in column: Transit Time P3R is : 0\n",
      "Count of zeros in column: Transit Time P4T is : 15\n",
      "Count of zeros in column: Transit Time P4R is : 15\n",
      "Count of zeros in column: Class is : 0\n"
     ]
    }
   ],
   "metadata": {}
  },
  {
   "cell_type": "markdown",
   "source": [
    "## __6) Count Labels:__\n",
    "- Healthy: 19\n",
    "- Gas Injection: 14\n",
    "- Waxing: 35\n",
    " "
   ],
   "metadata": {}
  },
  {
   "cell_type": "code",
   "execution_count": 1790,
   "source": [
    "ax = sns.countplot(x=df_meterB['Class'], label=\"Count\") \n",
    "ax.bar_label(ax.containers[0]) \n",
    "ax.set_xticklabels(['Healthy', 'Gas injection',  'Waxing'], fontsize=8) \n",
    "plt.show()"
   ],
   "outputs": [
    {
     "output_type": "display_data",
     "data": {
      "image/png": "[encoded data removed]",
      "text/plain": [
       "<Figure size 432x288 with 1 Axes>"
      ]
     },
     "metadata": {
      "needs_background": "light"
     }
    }
   ],
   "metadata": {}
  },
  {
   "cell_type": "markdown",
   "source": [
    "## __7) 2 Paths to handle 0 value:__ \n",
    "1. Remove whole row with 0 (df_remove_meterB)\n",
    "- 57 rows remained (35 rows removed)\n",
    "\n",
    "2. Replace 0 with median (df_median_meterB)\n",
    "- 62 rows remained (30 rows removed)\n",
    "\n",
    "Steps: \n",
    "1)  Select Profile Factor \n",
    "2)  View Box plot (IQT), Line graph\n",
    "    - The IQR can be used to identify outliers by defining limits on the sample values that are a factor k of the IQR below the 25th percentile or above the 75th percentile. The common value for the factor k is the value 1.5. A factor k of 3 or more can be used to identify values that are extreme outliers or “far outs” when described in the context of box and whisker plots.\n",
    "3) Remove outlier with Zscore\n",
    "    - The further away an observation’s Z-score is from zero, the more unusual it is. A standard cut-off value for finding outliers are Z-scores of +/-3 or further from zero."
   ],
   "metadata": {}
  },
  {
   "cell_type": "markdown",
   "source": [
    "### __7.1) 1st Method: Remove whole row with 0__"
   ],
   "metadata": {}
  },
  {
   "cell_type": "code",
   "execution_count": 1791,
   "source": [
    "print('Inital Shape: '+str(df_meterB.shape))\n",
    "df_remove_meterB = df_meterB.replace(0, np.nan)\n",
    "df_remove_meterB = df_remove_meterB.dropna(how='any', axis=0) # axis = 0(row), = 1(columns)\n",
    "df_remove_meterB = df_remove_meterB.replace(np.nan, 0)\n",
    "print('After remove 0 Shape: '+str(df_remove_meterB.shape))"
   ],
   "outputs": [
    {
     "output_type": "stream",
     "name": "stdout",
     "text": [
      "Inital Shape: (92, 52)\n",
      "After remove 0 Shape: (77, 52)\n"
     ]
    }
   ],
   "metadata": {}
  },
  {
   "cell_type": "markdown",
   "source": [
    "Initial Line Graph "
   ],
   "metadata": {}
  },
  {
   "cell_type": "code",
   "execution_count": 1792,
   "source": [
    "val_1 = df_remove_meterB['Profile factor']\n",
    "plt.plot(val_1)\n",
    "fig = plt.figure(figsize =(10, 7))\n",
    "plt.show()"
   ],
   "outputs": [
    {
     "output_type": "display_data",
     "data": {
      "image/png": "[encoded data removed]",
      "text/plain": [
       "<Figure size 432x288 with 1 Axes>"
      ]
     },
     "metadata": {
      "needs_background": "light"
     }
    },
    {
     "output_type": "display_data",
     "data": {
      "text/plain": [
       "<Figure size 720x504 with 0 Axes>"
      ]
     },
     "metadata": {}
    }
   ],
   "metadata": {}
  },
  {
   "cell_type": "markdown",
   "source": [
    "#### IQT Boxplot for Profile Factor (df_remove)"
   ],
   "metadata": {}
  },
  {
   "cell_type": "code",
   "execution_count": 1793,
   "source": [
    "val_1 = df_remove_meterB['Profile factor']\n",
    "plt.boxplot(val_1)\n",
    "fig = plt.figure(figsize =(10, 7))\n",
    "plt.show()\n",
    "\n",
    "# finding the 1st quartile\n",
    "q1 = np.quantile(val_1, 0.25)\n",
    " \n",
    "# finding the 3rd quartile\n",
    "q3 = np.quantile(val_1, 0.75)\n",
    "med = np.median(val_1)\n",
    " \n",
    "# finding the iqr region\n",
    "iqr = q3-q1\n",
    " \n",
    "# finding upper and lower whiskers\n",
    "upper_bound = q3+(1.5*iqr)\n",
    "lower_bound = q1-(1.5*iqr)\n",
    "print('IQR:',iqr, 'Upper bound:',upper_bound, 'Lower bound:',lower_bound)\n",
    "\n",
    "\n",
    "outliers = val_1[(val_1 <= lower_bound) | (val_1 >= upper_bound)]\n",
    "print(\"Number of outliers: \"+ str(len(outliers)))\n",
    "print('The following are the outliers in the boxplot: \\n{}'.format(outliers))\n",
    "print('After remove 0 Shape: '+str(df_remove_meterB.shape))"
   ],
   "outputs": [
    {
     "output_type": "display_data",
     "data": {
      "image/png": "[encoded data removed]",
      "text/plain": [
       "<Figure size 432x288 with 1 Axes>"
      ]
     },
     "metadata": {
      "needs_background": "light"
     }
    },
    {
     "output_type": "display_data",
     "data": {
      "text/plain": [
       "<Figure size 720x504 with 0 Axes>"
      ]
     },
     "metadata": {}
    },
    {
     "output_type": "stream",
     "name": "stdout",
     "text": [
      "IQR: 0.11020555599999993 Upper bound: 1.4574972229999998 Lower bound: 1.0166749990000001\n",
      "Number of outliers: 10\n",
      "The following are the outliers in the boxplot: \n",
      "21   2.30833\n",
      "22   0.86628\n",
      "23   2.23479\n",
      "24   2.16995\n",
      "28   0.64294\n",
      "29   1.47445\n",
      "30   1.90803\n",
      "34   2.18176\n",
      "42   1.62528\n",
      "66   1.57610\n",
      "Name: Profile factor, dtype: float64\n",
      "After remove 0 Shape: (77, 52)\n"
     ]
    }
   ],
   "metadata": {}
  },
  {
   "cell_type": "markdown",
   "source": [
    "#### Remove outliers"
   ],
   "metadata": {}
  },
  {
   "cell_type": "code",
   "execution_count": 1794,
   "source": [
    "df_remove_meterB.drop(df_remove_meterB.index[[21,22,23,24,28,29,30,34,42,66]],inplace=True)\n",
    "\n",
    "val_1 = df_remove_meterB['Profile factor']\n",
    "plt.boxplot(val_1)\n",
    "fig = plt.figure(figsize =(10, 7))\n",
    "plt.show()\n",
    "\n",
    "\n",
    "print('After remove IQT outliers Shape: '+str(df_remove_meterB.shape))\n"
   ],
   "outputs": [
    {
     "output_type": "display_data",
     "data": {
      "image/png": "[encoded data removed]",
      "text/plain": [
       "<Figure size 432x288 with 1 Axes>"
      ]
     },
     "metadata": {
      "needs_background": "light"
     }
    },
    {
     "output_type": "display_data",
     "data": {
      "text/plain": [
       "<Figure size 720x504 with 0 Axes>"
      ]
     },
     "metadata": {}
    },
    {
     "output_type": "stream",
     "name": "stdout",
     "text": [
      "After remove IQT outliers Shape: (67, 52)\n"
     ]
    }
   ],
   "metadata": {}
  },
  {
   "cell_type": "markdown",
   "source": [
    "#### Line graph for Profile Factor (df_remove)"
   ],
   "metadata": {}
  },
  {
   "cell_type": "code",
   "execution_count": 1795,
   "source": [
    "val_1 = df_remove_meterB['Profile factor']\n",
    "plt.plot(val_1)\n",
    "fig = plt.figure(figsize =(10, 7))\n",
    "plt.show()"
   ],
   "outputs": [
    {
     "output_type": "display_data",
     "data": {
      "image/png": "[encoded data removed]",
      "text/plain": [
       "<Figure size 432x288 with 1 Axes>"
      ]
     },
     "metadata": {
      "needs_background": "light"
     }
    },
    {
     "output_type": "display_data",
     "data": {
      "text/plain": [
       "<Figure size 720x504 with 0 Axes>"
      ]
     },
     "metadata": {}
    }
   ],
   "metadata": {}
  },
  {
   "cell_type": "markdown",
   "source": [
    "#### Apply Zscore to all columns (df_remove)\n",
    "- 67 to 57 =  10 rows removed "
   ],
   "metadata": {}
  },
  {
   "cell_type": "code",
   "execution_count": 1796,
   "source": [
    "z_scores = stats.zscore(df_remove_meterB)\n",
    "abs_z_scores = np.abs(z_scores)\n",
    "filtered_entries = (abs_z_scores < 3).all(axis=1)\n",
    "df_remove_meterB = df_remove_meterB[filtered_entries]\n",
    "\n",
    "print('After Zscore Shape: '+str(df_remove_meterB.shape))"
   ],
   "outputs": [
    {
     "output_type": "stream",
     "name": "stdout",
     "text": [
      "After Zscore Shape: (57, 52)\n"
     ]
    }
   ],
   "metadata": {}
  },
  {
   "cell_type": "markdown",
   "source": [
    "### __7.2) 2nd Method: Replace 0 with median__\n",
    "- df_median_meterB(IQT->Zscore) \n",
    "- df_median_meterB2(Zcore -> IQT)"
   ],
   "metadata": {}
  },
  {
   "cell_type": "markdown",
   "source": [
    "#### __df_median_meterB(IQT->Zscore)__ "
   ],
   "metadata": {}
  },
  {
   "cell_type": "markdown",
   "source": [
    "Replace 0 with median"
   ],
   "metadata": {}
  },
  {
   "cell_type": "code",
   "execution_count": 1797,
   "source": [
    "df_median_meterB = df_meterB\n",
    "for col_name in df_meterB.columns:\n",
    "    df_median_meterB.loc[df_median_meterB[col_name] == 0, str(col_name)] = df_median_meterB[col_name].median()\n",
    "print('Inital Shape: '+str(df_median_meterB.shape))"
   ],
   "outputs": [
    {
     "output_type": "stream",
     "name": "stdout",
     "text": [
      "Inital Shape: (92, 52)\n"
     ]
    }
   ],
   "metadata": {}
  },
  {
   "cell_type": "markdown",
   "source": [
    "Inital Line Graph "
   ],
   "metadata": {}
  },
  {
   "cell_type": "code",
   "execution_count": 1798,
   "source": [
    "val_1 = df_median_meterB['Profile factor']\n",
    "plt.plot(val_1)\n",
    "fig = plt.figure(figsize =(10, 7))\n",
    "plt.show()\n"
   ],
   "outputs": [
    {
     "output_type": "display_data",
     "data": {
      "image/png": "[encoded data removed]",
      "text/plain": [
       "<Figure size 432x288 with 1 Axes>"
      ]
     },
     "metadata": {
      "needs_background": "light"
     }
    },
    {
     "output_type": "display_data",
     "data": {
      "text/plain": [
       "<Figure size 720x504 with 0 Axes>"
      ]
     },
     "metadata": {}
    }
   ],
   "metadata": {}
  },
  {
   "cell_type": "markdown",
   "source": [
    "IQT Boxplot for Profile Factor (df_median)"
   ],
   "metadata": {}
  },
  {
   "cell_type": "code",
   "execution_count": 1799,
   "source": [
    "val_1 = df_median_meterB['Profile factor']\n",
    "plt.boxplot(val_1)\n",
    "fig = plt.figure(figsize =(10, 7))\n",
    "plt.show()\n",
    "\n",
    "# finding the 1st quartile\n",
    "q1 = np.quantile(val_1, 0.25)\n",
    " \n",
    "# finding the 3rd quartile\n",
    "q3 = np.quantile(val_1, 0.75)\n",
    "med = np.median(val_1)\n",
    " \n",
    "# finding the iqr region\n",
    "iqr = q3-q1\n",
    " \n",
    "# finding upper and lower whiskers\n",
    "upper_bound = q3+(1.5*iqr)\n",
    "lower_bound = q1-(1.5*iqr)\n",
    "print('IQR:',iqr, 'Upper bound:',upper_bound, 'Lower bound:',lower_bound)\n",
    "\n",
    "outliers = val_1[(val_1 <= lower_bound) | (val_1 >= upper_bound)]\n",
    "print('The following are the outliers in the boxplot:{}'.format(outliers))\n",
    "print(\"Number of outliers: \"+ str(len(outliers)))"
   ],
   "outputs": [
    {
     "output_type": "display_data",
     "data": {
      "image/png": "[encoded data removed]",
      "text/plain": [
       "<Figure size 432x288 with 1 Axes>"
      ]
     },
     "metadata": {
      "needs_background": "light"
     }
    },
    {
     "output_type": "display_data",
     "data": {
      "text/plain": [
       "<Figure size 720x504 with 0 Axes>"
      ]
     },
     "metadata": {}
    },
    {
     "output_type": "stream",
     "name": "stdout",
     "text": [
      "IQR: 0.19005833324999966 Upper bound: 1.6577847218749993 Lower bound: 0.8975513888750006\n",
      "The following are the outliers in the boxplot:21    2.30833\n",
      "22    0.86628\n",
      "23    2.23479\n",
      "24    2.16995\n",
      "28    0.64294\n",
      "30    1.90803\n",
      "34    2.18176\n",
      "79    1.84874\n",
      "80    2.32609\n",
      "81    2.39119\n",
      "82    6.16316\n",
      "83    2.40243\n",
      "84    2.52812\n",
      "85    2.79266\n",
      "86   10.20850\n",
      "87    2.41811\n",
      "88    3.29042\n",
      "89    2.60104\n",
      "90    2.33680\n",
      "91   -0.90917\n",
      "Name: Profile factor, dtype: float64\n",
      "Number of outliers: 20\n"
     ]
    }
   ],
   "metadata": {}
  },
  {
   "cell_type": "markdown",
   "source": [
    "Remove outliers"
   ],
   "metadata": {}
  },
  {
   "cell_type": "code",
   "execution_count": 1800,
   "source": [
    "\n",
    "df_median_meterB.drop(df_median_meterB.index[[21,22,23,24,28,28,30,34,79,80,81,82,83,84,85,86,87,88,89,90,91,25,29,42,66]],inplace=True)\n",
    "# 25,29,42,66\n",
    "val_1 = df_median_meterB['Profile factor']\n",
    "plt.boxplot(val_1)\n",
    "fig = plt.figure(figsize =(10, 7))\n",
    "plt.show()\n",
    "print('After remove IQT outliers Shape: '+str(df_median_meterB.shape))\n"
   ],
   "outputs": [
    {
     "output_type": "display_data",
     "data": {
      "image/png": "[encoded data removed]",
      "text/plain": [
       "<Figure size 432x288 with 1 Axes>"
      ]
     },
     "metadata": {
      "needs_background": "light"
     }
    },
    {
     "output_type": "display_data",
     "data": {
      "text/plain": [
       "<Figure size 720x504 with 0 Axes>"
      ]
     },
     "metadata": {}
    },
    {
     "output_type": "stream",
     "name": "stdout",
     "text": [
      "After remove IQT outliers Shape: (68, 52)\n"
     ]
    }
   ],
   "metadata": {}
  },
  {
   "cell_type": "markdown",
   "source": [
    "Line graph for Profile Factor (df_median)"
   ],
   "metadata": {}
  },
  {
   "cell_type": "code",
   "execution_count": 1801,
   "source": [
    "val_1 = df_median_meterB['Profile factor']\n",
    "plt.plot(val_1)\n",
    "fig = plt.figure(figsize =(10, 7))\n",
    "plt.show()"
   ],
   "outputs": [
    {
     "output_type": "display_data",
     "data": {
      "image/png": "[encoded data removed]",
      "text/plain": [
       "<Figure size 432x288 with 1 Axes>"
      ]
     },
     "metadata": {
      "needs_background": "light"
     }
    },
    {
     "output_type": "display_data",
     "data": {
      "text/plain": [
       "<Figure size 720x504 with 0 Axes>"
      ]
     },
     "metadata": {}
    }
   ],
   "metadata": {}
  },
  {
   "cell_type": "markdown",
   "source": [
    "Apply Zscore to all columns (df_median)\n",
    "\n",
    "68 to 58 = 10 rows removed"
   ],
   "metadata": {}
  },
  {
   "cell_type": "code",
   "execution_count": 1802,
   "source": [
    "z_scores = stats.zscore(df_median_meterB)\n",
    "abs_z_scores = np.abs(z_scores)\n",
    "filtered_entries = (abs_z_scores < 3).all(axis=1)\n",
    "df_median_meterB = df_median_meterB[filtered_entries]\n",
    "print('After Zscore Shape: '+str(df_median_meterB.shape))"
   ],
   "outputs": [
    {
     "output_type": "stream",
     "name": "stdout",
     "text": [
      "After Zscore Shape: (58, 52)\n"
     ]
    }
   ],
   "metadata": {}
  },
  {
   "cell_type": "code",
   "execution_count": 1803,
   "source": [
    "dataset = df_median_meterB\n",
    "\n",
    "X= dataset.drop(['Class'],axis=1)\n",
    "Y= dataset['Class']\n",
    "\n",
    "scaler = StandardScaler()\n",
    "X=scaler.fit_transform(X)\n",
    "\n",
    "\n",
    "plt.scatter(X[:, 0], X[:, 1],\n",
    "            c=dataset['Class'], edgecolor='none', alpha=0.5,\n",
    "            cmap=plt.cm.get_cmap('gist_rainbow_r', 3))\n",
    "plt.xlabel('Component 1')\n",
    "plt.ylabel('Component 2')\n",
    "plt.title('Without PCA')\n",
    "plt.colorbar()"
   ],
   "outputs": [
    {
     "output_type": "execute_result",
     "data": {
      "text/plain": [
       "<matplotlib.colorbar.Colorbar at 0x7f85b175c1f0>"
      ]
     },
     "metadata": {},
     "execution_count": 1803
    },
    {
     "output_type": "display_data",
     "data": {
      "image/png": "[encoded data removed]",
      "text/plain": [
       "<Figure size 432x288 with 2 Axes>"
      ]
     },
     "metadata": {
      "needs_background": "light"
     }
    }
   ],
   "metadata": {}
  },
  {
   "cell_type": "code",
   "execution_count": 1804,
   "source": [
    "df_median_meterB2 = df_meterB\n",
    "for col_name in df_meterB.columns:\n",
    "    df_median_meterB2.loc[df_median_meterB2[col_name] == 0, str(col_name)] = df_median_meterB2[col_name].median()\n",
    "print('Inital Shape: '+str(df_median_meterB2.shape))\n",
    "\n"
   ],
   "outputs": [
    {
     "output_type": "stream",
     "name": "stdout",
     "text": [
      "Inital Shape: (68, 52)\n"
     ]
    }
   ],
   "metadata": {}
  },
  {
   "cell_type": "code",
   "execution_count": 1805,
   "source": [
    "z_scores = stats.zscore(df_median_meterB2)\n",
    "abs_z_scores = np.abs(z_scores)\n",
    "filtered_entries = (abs_z_scores < 3).all(axis=1)\n",
    "df_median_meterB2 = df_median_meterB2[filtered_entries]\n",
    "print('After Zscore Shape: '+str(df_median_meterB2.shape))"
   ],
   "outputs": [
    {
     "output_type": "stream",
     "name": "stdout",
     "text": [
      "After Zscore Shape: (58, 52)\n"
     ]
    }
   ],
   "metadata": {}
  },
  {
   "cell_type": "code",
   "execution_count": 1806,
   "source": [
    "val_1 = df_median_meterB2['Profile factor']\n",
    "plt.boxplot(val_1)\n",
    "fig = plt.figure(figsize =(10, 7))\n",
    "plt.show()\n",
    "\n",
    "# finding the 1st quartile\n",
    "q1 = np.quantile(val_1, 0.25)\n",
    " \n",
    "# finding the 3rd quartile\n",
    "q3 = np.quantile(val_1, 0.75)\n",
    "med = np.median(val_1)\n",
    " \n",
    "# finding the iqr region\n",
    "iqr = q3-q1\n",
    " \n",
    "# finding upper and lower whiskers\n",
    "upper_bound = q3+(1.5*iqr)\n",
    "lower_bound = q1-(1.5*iqr)\n",
    "print('IQR:',iqr, 'Upper bound:',upper_bound, 'Lower bound:',lower_bound)\n",
    "\n",
    "outliers = val_1[(val_1 <= lower_bound) | (val_1 >= upper_bound)]\n",
    "print('The following are the outliers in the boxplot:{}'.format(outliers))\n",
    "print(\"Number of outliers: \"+ str(len(outliers)))"
   ],
   "outputs": [
    {
     "output_type": "display_data",
     "data": {
      "image/png": "[encoded data removed]",
      "text/plain": [
       "<Figure size 432x288 with 1 Axes>"
      ]
     },
     "metadata": {
      "needs_background": "light"
     }
    },
    {
     "output_type": "display_data",
     "data": {
      "text/plain": [
       "<Figure size 720x504 with 0 Axes>"
      ]
     },
     "metadata": {}
    },
    {
     "output_type": "stream",
     "name": "stdout",
     "text": [
      "IQR: 0.10135277824999989 Upper bound: 1.4354375008749998 Lower bound: 1.0300263878750002\n",
      "The following are the outliers in the boxplot:Series([], Name: Profile factor, dtype: float64)\n",
      "Number of outliers: 0\n"
     ]
    }
   ],
   "metadata": {}
  },
  {
   "cell_type": "code",
   "execution_count": 1807,
   "source": [
    "dataset = df_median_meterB\n",
    "\n",
    "X= dataset.drop(['Class'],axis=1)\n",
    "Y= dataset['Class']\n",
    "\n",
    "scaler = StandardScaler()\n",
    "X=scaler.fit_transform(X)\n",
    "\n",
    "\n",
    "plt.scatter(X[:, 0], X[:, 1],\n",
    "            c=dataset['Class'], edgecolor='none', alpha=0.5,\n",
    "            cmap=plt.cm.get_cmap('gist_rainbow_r', 3))\n",
    "plt.xlabel('Component 1')\n",
    "plt.ylabel('Component 2')\n",
    "plt.title('Without PCA')\n",
    "plt.colorbar()"
   ],
   "outputs": [
    {
     "output_type": "execute_result",
     "data": {
      "text/plain": [
       "<matplotlib.colorbar.Colorbar at 0x7f85b3cd2a30>"
      ]
     },
     "metadata": {},
     "execution_count": 1807
    },
    {
     "output_type": "display_data",
     "data": {
      "image/png": "[encoded data removed]",
      "text/plain": [
       "<Figure size 432x288 with 2 Axes>"
      ]
     },
     "metadata": {
      "needs_background": "light"
     }
    }
   ],
   "metadata": {}
  },
  {
   "cell_type": "markdown",
   "source": [
    "#### __df_median_meterB2(Zscore->IQT)__ "
   ],
   "metadata": {}
  },
  {
   "cell_type": "code",
   "execution_count": 1808,
   "source": [
    "df_meterB = pd.read_csv('dataset/Meter B', header=None, sep='\\t')\n",
    "df_meterB.columns = col_name_meterB\n",
    "\n",
    "df_median_meterB2 = df_meterB\n",
    "for col_name in df_meterB.columns:\n",
    "    df_median_meterB2.loc[df_median_meterB2[col_name] == 0, str(col_name)] = df_median_meterB2[col_name].median()\n",
    "print('Inital Shape: '+str(df_median_meterB2.shape))"
   ],
   "outputs": [
    {
     "output_type": "stream",
     "name": "stdout",
     "text": [
      "Inital Shape: (92, 52)\n"
     ]
    }
   ],
   "metadata": {}
  },
  {
   "cell_type": "code",
   "execution_count": 1809,
   "source": [
    "val_1 = df_median_meterB2['Profile factor']\n",
    "plt.plot(val_1)\n",
    "fig = plt.figure(figsize =(10, 7))\n",
    "plt.show()"
   ],
   "outputs": [
    {
     "output_type": "display_data",
     "data": {
      "image/png": "[encoded data removed]",
      "text/plain": [
       "<Figure size 432x288 with 1 Axes>"
      ]
     },
     "metadata": {
      "needs_background": "light"
     }
    },
    {
     "output_type": "display_data",
     "data": {
      "text/plain": [
       "<Figure size 720x504 with 0 Axes>"
      ]
     },
     "metadata": {}
    }
   ],
   "metadata": {}
  },
  {
   "cell_type": "markdown",
   "source": [
    "Zcore = 92 to 82"
   ],
   "metadata": {}
  },
  {
   "cell_type": "code",
   "execution_count": 1810,
   "source": [
    "z_scores = stats.zscore(df_median_meterB2)\n",
    "abs_z_scores = np.abs(z_scores)\n",
    "filtered_entries = (abs_z_scores < 3).all(axis=1)\n",
    "df_median_meterB2 = df_median_meterB2[filtered_entries]\n",
    "print('After Zscore Shape: '+str(df_median_meterB2.shape))"
   ],
   "outputs": [
    {
     "output_type": "stream",
     "name": "stdout",
     "text": [
      "After Zscore Shape: (82, 52)\n"
     ]
    }
   ],
   "metadata": {}
  },
  {
   "cell_type": "code",
   "execution_count": 1811,
   "source": [
    "val_1 = df_median_meterB2['Profile factor']\n",
    "plt.boxplot(val_1)\n",
    "fig = plt.figure(figsize =(10, 7))\n",
    "plt.show()\n",
    "\n",
    "# finding the 1st quartile\n",
    "q1 = np.quantile(val_1, 0.25)\n",
    " \n",
    "# finding the 3rd quartile\n",
    "q3 = np.quantile(val_1, 0.75)\n",
    "med = np.median(val_1)\n",
    " \n",
    "# finding the iqr region\n",
    "iqr = q3-q1\n",
    " \n",
    "# finding upper and lower whiskers\n",
    "upper_bound = q3+(1.5*iqr)\n",
    "lower_bound = q1-(1.5*iqr)\n",
    "print('IQR:',iqr, 'Upper bound:',upper_bound, 'Lower bound:',lower_bound)\n",
    "\n",
    "outliers = val_1[(val_1 <= lower_bound) | (val_1 >= upper_bound)]\n",
    "print('The following are the outliers in the boxplot:\\n{}'.format(outliers))\n",
    "print(\"Number of outliers: \"+ str(len(outliers)))"
   ],
   "outputs": [
    {
     "output_type": "display_data",
     "data": {
      "image/png": "[encoded data removed]",
      "text/plain": [
       "<Figure size 432x288 with 1 Axes>"
      ]
     },
     "metadata": {
      "needs_background": "light"
     }
    },
    {
     "output_type": "display_data",
     "data": {
      "text/plain": [
       "<Figure size 720x504 with 0 Axes>"
      ]
     },
     "metadata": {}
    },
    {
     "output_type": "stream",
     "name": "stdout",
     "text": [
      "IQR: 0.11160138874999981 Upper bound: 1.4610590271249997 Lower bound: 1.0146534721250005\n",
      "The following are the outliers in the boxplot:\n",
      "21    2.30833\n",
      "22    0.86628\n",
      "28    0.64294\n",
      "42    1.62528\n",
      "66    1.57610\n",
      "79    1.84874\n",
      "80    2.32609\n",
      "81    2.39119\n",
      "83    2.40243\n",
      "84    2.52812\n",
      "85    2.79266\n",
      "87    2.41811\n",
      "88    3.29042\n",
      "89    2.60104\n",
      "90    2.33680\n",
      "91   -0.90917\n",
      "Name: Profile factor, dtype: float64\n",
      "Number of outliers: 16\n"
     ]
    }
   ],
   "metadata": {}
  },
  {
   "cell_type": "markdown",
   "source": [
    "Remove outliers"
   ],
   "metadata": {}
  },
  {
   "cell_type": "code",
   "execution_count": 1812,
   "source": [
    "\n",
    "df_median_meterB2.drop(df_median_meterB2.index[[21,22,28,42,66,79,80,81,83,84,85,87,88,89,90,91]],inplace=True)\n",
    "val_1 = df_median_meterB2['Profile factor']\n",
    "plt.boxplot(val_1)\n",
    "fig = plt.figure(figsize =(10, 7))\n",
    "plt.show()\n",
    "print('After remove IQT outliers Shape: '+str(df_median_meterB2.shape))"
   ],
   "outputs": [
    {
     "output_type": "error",
     "ename": "IndexError",
     "evalue": "index 66 is out of bounds for axis 0 with size 58",
     "traceback": [
      "\u001b[0;31m---------------------------------------------------------------------------\u001b[0m",
      "\u001b[0;31mIndexError\u001b[0m                                Traceback (most recent call last)",
      "\u001b[0;32m/var/folders/7x/1p6my40n6kb5znc18rklfy9h0000gn/T/ipykernel_72289/1858536337.py\u001b[0m in \u001b[0;36m<module>\u001b[0;34m\u001b[0m\n\u001b[0;32m----> 1\u001b[0;31m \u001b[0mdf_median_meterB2\u001b[0m\u001b[0;34m.\u001b[0m\u001b[0mdrop\u001b[0m\u001b[0;34m(\u001b[0m\u001b[0mdf_median_meterB\u001b[0m\u001b[0;34m.\u001b[0m\u001b[0mindex\u001b[0m\u001b[0;34m[\u001b[0m\u001b[0;34m[\u001b[0m\u001b[0;36m21\u001b[0m\u001b[0;34m,\u001b[0m\u001b[0;36m22\u001b[0m\u001b[0;34m,\u001b[0m\u001b[0;36m28\u001b[0m\u001b[0;34m,\u001b[0m\u001b[0;36m42\u001b[0m\u001b[0;34m,\u001b[0m\u001b[0;36m66\u001b[0m\u001b[0;34m,\u001b[0m\u001b[0;36m79\u001b[0m\u001b[0;34m,\u001b[0m\u001b[0;36m80\u001b[0m\u001b[0;34m,\u001b[0m\u001b[0;36m81\u001b[0m\u001b[0;34m,\u001b[0m\u001b[0;36m83\u001b[0m\u001b[0;34m,\u001b[0m\u001b[0;36m84\u001b[0m\u001b[0;34m,\u001b[0m\u001b[0;36m85\u001b[0m\u001b[0;34m,\u001b[0m\u001b[0;36m87\u001b[0m\u001b[0;34m,\u001b[0m\u001b[0;36m88\u001b[0m\u001b[0;34m,\u001b[0m\u001b[0;36m89\u001b[0m\u001b[0;34m,\u001b[0m\u001b[0;36m90\u001b[0m\u001b[0;34m,\u001b[0m\u001b[0;36m91\u001b[0m\u001b[0;34m]\u001b[0m\u001b[0;34m]\u001b[0m\u001b[0;34m,\u001b[0m\u001b[0minplace\u001b[0m\u001b[0;34m=\u001b[0m\u001b[0;32mTrue\u001b[0m\u001b[0;34m)\u001b[0m\u001b[0;34m\u001b[0m\u001b[0;34m\u001b[0m\u001b[0m\n\u001b[0m\u001b[1;32m      2\u001b[0m \u001b[0mval_1\u001b[0m \u001b[0;34m=\u001b[0m \u001b[0mdf_median_meterB\u001b[0m\u001b[0;34m[\u001b[0m\u001b[0;34m'Profile factor'\u001b[0m\u001b[0;34m]\u001b[0m\u001b[0;34m\u001b[0m\u001b[0;34m\u001b[0m\u001b[0m\n\u001b[1;32m      3\u001b[0m \u001b[0mplt\u001b[0m\u001b[0;34m.\u001b[0m\u001b[0mboxplot\u001b[0m\u001b[0;34m(\u001b[0m\u001b[0mval_1\u001b[0m\u001b[0;34m)\u001b[0m\u001b[0;34m\u001b[0m\u001b[0;34m\u001b[0m\u001b[0m\n\u001b[1;32m      4\u001b[0m \u001b[0mfig\u001b[0m \u001b[0;34m=\u001b[0m \u001b[0mplt\u001b[0m\u001b[0;34m.\u001b[0m\u001b[0mfigure\u001b[0m\u001b[0;34m(\u001b[0m\u001b[0mfigsize\u001b[0m \u001b[0;34m=\u001b[0m\u001b[0;34m(\u001b[0m\u001b[0;36m10\u001b[0m\u001b[0;34m,\u001b[0m \u001b[0;36m7\u001b[0m\u001b[0;34m)\u001b[0m\u001b[0;34m)\u001b[0m\u001b[0;34m\u001b[0m\u001b[0;34m\u001b[0m\u001b[0m\n\u001b[1;32m      5\u001b[0m \u001b[0mplt\u001b[0m\u001b[0;34m.\u001b[0m\u001b[0mshow\u001b[0m\u001b[0;34m(\u001b[0m\u001b[0;34m)\u001b[0m\u001b[0;34m\u001b[0m\u001b[0;34m\u001b[0m\u001b[0m\n",
      "\u001b[0;32m~/opt/anaconda3/lib/python3.9/site-packages/pandas/core/indexes/base.py\u001b[0m in \u001b[0;36m__getitem__\u001b[0;34m(self, key)\u001b[0m\n\u001b[1;32m   4112\u001b[0m             \u001b[0mkey\u001b[0m \u001b[0;34m=\u001b[0m \u001b[0mnp\u001b[0m\u001b[0;34m.\u001b[0m\u001b[0masarray\u001b[0m\u001b[0;34m(\u001b[0m\u001b[0mkey\u001b[0m\u001b[0;34m,\u001b[0m \u001b[0mdtype\u001b[0m\u001b[0;34m=\u001b[0m\u001b[0mbool\u001b[0m\u001b[0;34m)\u001b[0m\u001b[0;34m\u001b[0m\u001b[0;34m\u001b[0m\u001b[0m\n\u001b[1;32m   4113\u001b[0m \u001b[0;34m\u001b[0m\u001b[0m\n\u001b[0;32m-> 4114\u001b[0;31m         \u001b[0mresult\u001b[0m \u001b[0;34m=\u001b[0m \u001b[0mgetitem\u001b[0m\u001b[0;34m(\u001b[0m\u001b[0mkey\u001b[0m\u001b[0;34m)\u001b[0m\u001b[0;34m\u001b[0m\u001b[0;34m\u001b[0m\u001b[0m\n\u001b[0m\u001b[1;32m   4115\u001b[0m         \u001b[0;32mif\u001b[0m \u001b[0;32mnot\u001b[0m \u001b[0mis_scalar\u001b[0m\u001b[0;34m(\u001b[0m\u001b[0mresult\u001b[0m\u001b[0;34m)\u001b[0m\u001b[0;34m:\u001b[0m\u001b[0;34m\u001b[0m\u001b[0;34m\u001b[0m\u001b[0m\n\u001b[1;32m   4116\u001b[0m             \u001b[0;32mif\u001b[0m \u001b[0mnp\u001b[0m\u001b[0;34m.\u001b[0m\u001b[0mndim\u001b[0m\u001b[0;34m(\u001b[0m\u001b[0mresult\u001b[0m\u001b[0;34m)\u001b[0m \u001b[0;34m>\u001b[0m \u001b[0;36m1\u001b[0m\u001b[0;34m:\u001b[0m\u001b[0;34m\u001b[0m\u001b[0;34m\u001b[0m\u001b[0m\n",
      "\u001b[0;31mIndexError\u001b[0m: index 66 is out of bounds for axis 0 with size 58"
     ]
    }
   ],
   "metadata": {}
  },
  {
   "cell_type": "code",
   "execution_count": null,
   "source": [
    "val_1 = df_median_meterB2['Profile factor']\n",
    "plt.plot(val_1)\n",
    "fig = plt.figure(figsize =(10, 7))\n",
    "plt.show()"
   ],
   "outputs": [
    {
     "output_type": "display_data",
     "data": {
      "image/png": "[encoded data removed]",
      "text/plain": [
       "<Figure size 432x288 with 1 Axes>"
      ]
     },
     "metadata": {
      "needs_background": "light"
     }
    },
    {
     "output_type": "display_data",
     "data": {
      "text/plain": [
       "<Figure size 720x504 with 0 Axes>"
      ]
     },
     "metadata": {}
    }
   ],
   "metadata": {}
  },
  {
   "cell_type": "code",
   "execution_count": null,
   "source": [
    "dataset = df_median_meterB2\n",
    "\n",
    "X= dataset.drop(['Class'],axis=1)\n",
    "Y= dataset['Class']\n",
    "\n",
    "scaler = StandardScaler()\n",
    "X=scaler.fit_transform(X)\n",
    "\n",
    "\n",
    "plt.scatter(X[:, 0], X[:, 1],\n",
    "            c=dataset['Class'], edgecolor='none', alpha=0.5,\n",
    "            cmap=plt.cm.get_cmap('gist_rainbow_r', 3))\n",
    "plt.xlabel('Component 1')\n",
    "plt.ylabel('Component 2')\n",
    "plt.title('Without PCA')\n",
    "plt.colorbar()"
   ],
   "outputs": [
    {
     "output_type": "execute_result",
     "data": {
      "text/plain": [
       "<matplotlib.colorbar.Colorbar at 0x7f85acc6b040>"
      ]
     },
     "metadata": {},
     "execution_count": 1734
    },
    {
     "output_type": "display_data",
     "data": {
      "image/png": "[encoded data removed]",
      "text/plain": [
       "<Figure size 432x288 with 2 Axes>"
      ]
     },
     "metadata": {
      "needs_background": "light"
     }
    }
   ],
   "metadata": {}
  },
  {
   "cell_type": "markdown",
   "source": [
    "## __8) Reduce Dimension with Principal Componenent Analysis (PCA)__\n",
    "Principal component analysis (PCA) is a classical method for reducing the number of \n",
    "attributes in the data by projecting the data from its original high-dimensional space \n",
    "into a lower-dimensional space. The new attributes (also known as components) created by \n",
    "PCA have the following properties: \n",
    "\n",
    "(1) they are linear combinations of the original attributes, \n",
    "\n",
    "(2) they are orthogonal (perpendicular) to each other \n",
    "\n",
    "(3) they capture the maximum amount of variation in the data.  "
   ],
   "metadata": {}
  },
  {
   "cell_type": "markdown",
   "source": [
    "### Normalize data\n",
    "PCA performs best with a normalized feature set. We will perform standard scalar normalization to normalize our feature set"
   ],
   "metadata": {}
  },
  {
   "cell_type": "code",
   "execution_count": null,
   "source": [
    "from sklearn.preprocessing import StandardScaler\n",
    "# load dataset\n",
    "dataset = df_median_meterB\n",
    "X= dataset.drop(['Class'],axis=1)\n",
    "Y= dataset['Class']\n",
    "# normalize data\n",
    "scaler = StandardScaler()\n",
    "X=scaler.fit_transform(X)"
   ],
   "outputs": [],
   "metadata": {}
  },
  {
   "cell_type": "markdown",
   "source": [
    "### Store projected values of the into a dataframe called projected 1"
   ],
   "metadata": {}
  },
  {
   "cell_type": "code",
   "execution_count": null,
   "source": [
    "from sklearn.decomposition import PCA\n",
    "\n",
    "pca = PCA(.95)\n",
    "X_pca = pca.fit_transform(X) # make model learn prepare the eigenvector/values\n",
    "\n",
    "projected = pd.DataFrame(X_pca,columns=['PC1','PC2','PC3','PC4','PC5','PC6']) \n",
    "projected.head()\n"
   ],
   "outputs": [
    {
     "output_type": "execute_result",
     "data": {
      "text/html": [
       "<div>\n",
       "<style scoped>\n",
       "    .dataframe tbody tr th:only-of-type {\n",
       "        vertical-align: middle;\n",
       "    }\n",
       "\n",
       "    .dataframe tbody tr th {\n",
       "        vertical-align: top;\n",
       "    }\n",
       "\n",
       "    .dataframe thead th {\n",
       "        text-align: right;\n",
       "    }\n",
       "</style>\n",
       "<table border=\"1\" class=\"dataframe\">\n",
       "  <thead>\n",
       "    <tr style=\"text-align: right;\">\n",
       "      <th></th>\n",
       "      <th>PC1</th>\n",
       "      <th>PC2</th>\n",
       "      <th>PC3</th>\n",
       "      <th>PC4</th>\n",
       "      <th>PC5</th>\n",
       "      <th>PC6</th>\n",
       "    </tr>\n",
       "  </thead>\n",
       "  <tbody>\n",
       "    <tr>\n",
       "      <th>0</th>\n",
       "      <td>2.39343</td>\n",
       "      <td>-3.91634</td>\n",
       "      <td>0.26906</td>\n",
       "      <td>-0.27356</td>\n",
       "      <td>1.42223</td>\n",
       "      <td>-1.65552</td>\n",
       "    </tr>\n",
       "    <tr>\n",
       "      <th>1</th>\n",
       "      <td>2.32804</td>\n",
       "      <td>-3.86697</td>\n",
       "      <td>0.26836</td>\n",
       "      <td>-0.38445</td>\n",
       "      <td>1.42419</td>\n",
       "      <td>-1.74416</td>\n",
       "    </tr>\n",
       "    <tr>\n",
       "      <th>2</th>\n",
       "      <td>2.05864</td>\n",
       "      <td>-3.47697</td>\n",
       "      <td>1.14106</td>\n",
       "      <td>-0.03141</td>\n",
       "      <td>0.58310</td>\n",
       "      <td>-1.36027</td>\n",
       "    </tr>\n",
       "    <tr>\n",
       "      <th>3</th>\n",
       "      <td>2.05645</td>\n",
       "      <td>-3.34874</td>\n",
       "      <td>1.15899</td>\n",
       "      <td>0.00232</td>\n",
       "      <td>0.56991</td>\n",
       "      <td>-1.30275</td>\n",
       "    </tr>\n",
       "    <tr>\n",
       "      <th>4</th>\n",
       "      <td>2.07041</td>\n",
       "      <td>-3.45097</td>\n",
       "      <td>1.17343</td>\n",
       "      <td>0.03617</td>\n",
       "      <td>0.58930</td>\n",
       "      <td>-1.34888</td>\n",
       "    </tr>\n",
       "  </tbody>\n",
       "</table>\n",
       "</div>"
      ],
      "text/plain": [
       "      PC1      PC2     PC3      PC4     PC5      PC6\n",
       "0 2.39343 -3.91634 0.26906 -0.27356 1.42223 -1.65552\n",
       "1 2.32804 -3.86697 0.26836 -0.38445 1.42419 -1.74416\n",
       "2 2.05864 -3.47697 1.14106 -0.03141 0.58310 -1.36027\n",
       "3 2.05645 -3.34874 1.15899  0.00232 0.56991 -1.30275\n",
       "4 2.07041 -3.45097 1.17343  0.03617 0.58930 -1.34888"
      ]
     },
     "metadata": {},
     "execution_count": 1736
    }
   ],
   "metadata": {}
  },
  {
   "cell_type": "markdown",
   "source": [
    "### Plot Cummulative variances with individual variance\n",
    "- add as many pc components possible closest to 100%\n",
    "\n",
    "Result: 4 PC components is sufficent to represent the entire variance of the data. 3 PC is too low \n",
    "while 5 PC is too much"
   ],
   "metadata": {}
  },
  {
   "cell_type": "code",
   "execution_count": null,
   "source": [
    "# calculate cumulative sum of explained variances\n",
    "tot = sum(pca.explained_variance_)\n",
    "print(f\"Explained variance ratio: {pca.explained_variance_}\")\n",
    "print(f\"Total cummulative sum: {tot}\")\n",
    "var_exp = [(i / tot) for i in sorted(pca.explained_variance_, reverse=True)]\n",
    "cum_var_exp = np.cumsum(var_exp)\n",
    "\n",
    "# plot explained variances\n",
    "plt.bar(range(1,7), var_exp, alpha=0.5,\n",
    "        align='center', label='Individual Explained Variance')\n",
    "plt.step(range(1,7), cum_var_exp, where='mid',\n",
    "         label='Cumulative Explained Variance')\n",
    "plt.ylabel('Explained Variance Ratio')\n",
    "plt.xlabel('Principal Component Index')\n",
    "plt.title('Number of PC Components')\n",
    "plt.legend(loc='best')\n",
    "plt.show()"
   ],
   "outputs": [
    {
     "output_type": "stream",
     "name": "stdout",
     "text": [
      "Explained variance ratio: [20.14216279 11.16934501  7.56208547  5.70289444  2.96188212  1.99030232]\n",
      "Total cummulative sum: 49.52867214529293\n"
     ]
    },
    {
     "output_type": "display_data",
     "data": {
      "image/png": "[encoded data removed]",
      "text/plain": [
       "<Figure size 432x288 with 1 Axes>"
      ]
     },
     "metadata": {
      "needs_background": "light"
     }
    }
   ],
   "metadata": {}
  },
  {
   "cell_type": "markdown",
   "source": [
    "### Plot explained variance ratio"
   ],
   "metadata": {}
  },
  {
   "cell_type": "code",
   "execution_count": null,
   "source": [
    "plt.plot(np.cumsum(pca.explained_variance_ratio_))\n",
    "plt.title('PCA components')\n",
    "plt.xlabel('Number of Components')\n",
    "plt.ylabel('Cumulative Varience')"
   ],
   "outputs": [
    {
     "output_type": "execute_result",
     "data": {
      "text/plain": [
       "Text(0, 0.5, 'Cumulative Varience')"
      ]
     },
     "metadata": {},
     "execution_count": 1738
    },
    {
     "output_type": "display_data",
     "data": {
      "image/png": "[encoded data removed]",
      "text/plain": [
       "<Figure size 432x288 with 1 Axes>"
      ]
     },
     "metadata": {
      "needs_background": "light"
     }
    }
   ],
   "metadata": {}
  },
  {
   "cell_type": "code",
   "execution_count": null,
   "source": [
    "plt.scatter(X[:, 0], X[:, 1],\n",
    "            c=dataset['Class'], edgecolor='none', alpha=0.5,\n",
    "            cmap=plt.cm.get_cmap('gist_rainbow_r', 3))\n",
    "plt.xlabel('Component 1')\n",
    "plt.ylabel('Component 2')\n",
    "plt.title('Without PCA')\n",
    "plt.colorbar()"
   ],
   "outputs": [
    {
     "output_type": "execute_result",
     "data": {
      "text/plain": [
       "<matplotlib.colorbar.Colorbar at 0x7f85ae8318b0>"
      ]
     },
     "metadata": {},
     "execution_count": 1739
    },
    {
     "output_type": "display_data",
     "data": {
      "image/png": "[encoded data removed]",
      "text/plain": [
       "<Figure size 432x288 with 2 Axes>"
      ]
     },
     "metadata": {
      "needs_background": "light"
     }
    }
   ],
   "metadata": {}
  },
  {
   "cell_type": "markdown",
   "source": [
    "### Plot scatter plot for PCA"
   ],
   "metadata": {}
  },
  {
   "cell_type": "code",
   "execution_count": null,
   "source": [
    "plt.scatter(X_pca[:, 0], X_pca[:, 1],\n",
    "            c=dataset['Class'], edgecolor='none', alpha=0.5,\n",
    "            cmap=plt.cm.get_cmap('gist_rainbow_r', 3))\n",
    "plt.xlabel('Component 1')\n",
    "plt.ylabel('Component 2')\n",
    "plt.title('PCA Scatterplot')\n",
    "plt.colorbar()"
   ],
   "outputs": [
    {
     "output_type": "execute_result",
     "data": {
      "text/plain": [
       "<matplotlib.colorbar.Colorbar at 0x7f85ac851f70>"
      ]
     },
     "metadata": {},
     "execution_count": 1740
    },
    {
     "output_type": "display_data",
     "data": {
      "image/png": "[encoded data removed]",
      "text/plain": [
       "<Figure size 432x288 with 2 Axes>"
      ]
     },
     "metadata": {
      "needs_background": "light"
     }
    }
   ],
   "metadata": {}
  },
  {
   "cell_type": "markdown",
   "source": [
    "## __11) Feature Importance - PCA__\n",
    " \n",
    "The importance of each feature is reflected by the magnitude of the corresponding values in the eigenvectors (higher magnitude — higher importance)."
   ],
   "metadata": {}
  },
  {
   "cell_type": "markdown",
   "source": [
    "### All Results"
   ],
   "metadata": {}
  },
  {
   "cell_type": "code",
   "execution_count": null,
   "source": [
    "df_pca = pd.DataFrame(abs(pca.components_), columns=col_name_meterB_no_class)\n",
    "df_pca = df_pca.set_axis(['PC1','PC2','PC3','PC4','PC5','PC6'])\n",
    "pd.set_option('display.float_format', lambda x: '%.5f' % x) \n",
    "df_pca"
   ],
   "outputs": [
    {
     "output_type": "execute_result",
     "data": {
      "text/html": [
       "<div>\n",
       "<style scoped>\n",
       "    .dataframe tbody tr th:only-of-type {\n",
       "        vertical-align: middle;\n",
       "    }\n",
       "\n",
       "    .dataframe tbody tr th {\n",
       "        vertical-align: top;\n",
       "    }\n",
       "\n",
       "    .dataframe thead th {\n",
       "        text-align: right;\n",
       "    }\n",
       "</style>\n",
       "<table border=\"1\" class=\"dataframe\">\n",
       "  <thead>\n",
       "    <tr style=\"text-align: right;\">\n",
       "      <th></th>\n",
       "      <th>Profile factor</th>\n",
       "      <th>Symmetry</th>\n",
       "      <th>Crossflow</th>\n",
       "      <th>Swirl Angle</th>\n",
       "      <th>Flow Velocity P1</th>\n",
       "      <th>Flow Velocity P2</th>\n",
       "      <th>Flow Velocity P3</th>\n",
       "      <th>Flow Velocity P4</th>\n",
       "      <th>Average Flow Velocity</th>\n",
       "      <th>Speed of Sound P1</th>\n",
       "      <th>...</th>\n",
       "      <th>Gain P4T</th>\n",
       "      <th>Gain P4R</th>\n",
       "      <th>Transit Time P1T</th>\n",
       "      <th>Transit Time P1R</th>\n",
       "      <th>Transit Time P2T</th>\n",
       "      <th>Transit Time P2R</th>\n",
       "      <th>Transit Time P3T</th>\n",
       "      <th>Transit Time P3R</th>\n",
       "      <th>Transit Time P4T</th>\n",
       "      <th>Transit Time P4R</th>\n",
       "    </tr>\n",
       "  </thead>\n",
       "  <tbody>\n",
       "    <tr>\n",
       "      <th>PC1</th>\n",
       "      <td>0.05683</td>\n",
       "      <td>0.20314</td>\n",
       "      <td>0.18274</td>\n",
       "      <td>0.12474</td>\n",
       "      <td>0.11188</td>\n",
       "      <td>0.11197</td>\n",
       "      <td>0.10450</td>\n",
       "      <td>0.07771</td>\n",
       "      <td>0.10518</td>\n",
       "      <td>0.13232</td>\n",
       "      <td>...</td>\n",
       "      <td>0.18586</td>\n",
       "      <td>0.18586</td>\n",
       "      <td>0.13979</td>\n",
       "      <td>0.13295</td>\n",
       "      <td>0.11044</td>\n",
       "      <td>0.00057</td>\n",
       "      <td>0.06964</td>\n",
       "      <td>0.09866</td>\n",
       "      <td>0.18591</td>\n",
       "      <td>0.18842</td>\n",
       "    </tr>\n",
       "    <tr>\n",
       "      <th>PC2</th>\n",
       "      <td>0.12383</td>\n",
       "      <td>0.08619</td>\n",
       "      <td>0.00929</td>\n",
       "      <td>0.09833</td>\n",
       "      <td>0.10150</td>\n",
       "      <td>0.10721</td>\n",
       "      <td>0.09874</td>\n",
       "      <td>0.08732</td>\n",
       "      <td>0.10170</td>\n",
       "      <td>0.12246</td>\n",
       "      <td>...</td>\n",
       "      <td>0.11919</td>\n",
       "      <td>0.11919</td>\n",
       "      <td>0.07944</td>\n",
       "      <td>0.09446</td>\n",
       "      <td>0.11651</td>\n",
       "      <td>0.01391</td>\n",
       "      <td>0.07081</td>\n",
       "      <td>0.09816</td>\n",
       "      <td>0.10584</td>\n",
       "      <td>0.10897</td>\n",
       "    </tr>\n",
       "    <tr>\n",
       "      <th>PC3</th>\n",
       "      <td>0.20135</td>\n",
       "      <td>0.05990</td>\n",
       "      <td>0.01006</td>\n",
       "      <td>0.14504</td>\n",
       "      <td>0.23229</td>\n",
       "      <td>0.22890</td>\n",
       "      <td>0.24056</td>\n",
       "      <td>0.27177</td>\n",
       "      <td>0.23917</td>\n",
       "      <td>0.16529</td>\n",
       "      <td>...</td>\n",
       "      <td>0.12153</td>\n",
       "      <td>0.12153</td>\n",
       "      <td>0.20628</td>\n",
       "      <td>0.18844</td>\n",
       "      <td>0.20373</td>\n",
       "      <td>0.03354</td>\n",
       "      <td>0.12902</td>\n",
       "      <td>0.05208</td>\n",
       "      <td>0.13832</td>\n",
       "      <td>0.12663</td>\n",
       "    </tr>\n",
       "    <tr>\n",
       "      <th>PC4</th>\n",
       "      <td>0.22864</td>\n",
       "      <td>0.06804</td>\n",
       "      <td>0.21171</td>\n",
       "      <td>0.25673</td>\n",
       "      <td>0.08097</td>\n",
       "      <td>0.07696</td>\n",
       "      <td>0.04907</td>\n",
       "      <td>0.08882</td>\n",
       "      <td>0.06857</td>\n",
       "      <td>0.02029</td>\n",
       "      <td>...</td>\n",
       "      <td>0.08220</td>\n",
       "      <td>0.08220</td>\n",
       "      <td>0.01312</td>\n",
       "      <td>0.02275</td>\n",
       "      <td>0.09375</td>\n",
       "      <td>0.24164</td>\n",
       "      <td>0.34191</td>\n",
       "      <td>0.34481</td>\n",
       "      <td>0.07862</td>\n",
       "      <td>0.07523</td>\n",
       "    </tr>\n",
       "    <tr>\n",
       "      <th>PC5</th>\n",
       "      <td>0.12319</td>\n",
       "      <td>0.09731</td>\n",
       "      <td>0.01425</td>\n",
       "      <td>0.05441</td>\n",
       "      <td>0.24564</td>\n",
       "      <td>0.24771</td>\n",
       "      <td>0.26412</td>\n",
       "      <td>0.25239</td>\n",
       "      <td>0.25544</td>\n",
       "      <td>0.25400</td>\n",
       "      <td>...</td>\n",
       "      <td>0.02371</td>\n",
       "      <td>0.02371</td>\n",
       "      <td>0.23922</td>\n",
       "      <td>0.27702</td>\n",
       "      <td>0.11857</td>\n",
       "      <td>0.17968</td>\n",
       "      <td>0.14007</td>\n",
       "      <td>0.05592</td>\n",
       "      <td>0.01486</td>\n",
       "      <td>0.00469</td>\n",
       "    </tr>\n",
       "    <tr>\n",
       "      <th>PC6</th>\n",
       "      <td>0.05208</td>\n",
       "      <td>0.00970</td>\n",
       "      <td>0.18688</td>\n",
       "      <td>0.12867</td>\n",
       "      <td>0.07193</td>\n",
       "      <td>0.07158</td>\n",
       "      <td>0.09076</td>\n",
       "      <td>0.05031</td>\n",
       "      <td>0.07730</td>\n",
       "      <td>0.18449</td>\n",
       "      <td>...</td>\n",
       "      <td>0.06541</td>\n",
       "      <td>0.06541</td>\n",
       "      <td>0.10014</td>\n",
       "      <td>0.09640</td>\n",
       "      <td>0.30511</td>\n",
       "      <td>0.53484</td>\n",
       "      <td>0.07426</td>\n",
       "      <td>0.04433</td>\n",
       "      <td>0.08163</td>\n",
       "      <td>0.08329</td>\n",
       "    </tr>\n",
       "  </tbody>\n",
       "</table>\n",
       "<p>6 rows × 51 columns</p>\n",
       "</div>"
      ],
      "text/plain": [
       "     Profile factor  Symmetry  Crossflow  Swirl Angle  Flow Velocity P1  \\\n",
       "PC1         0.05683   0.20314    0.18274      0.12474           0.11188   \n",
       "PC2         0.12383   0.08619    0.00929      0.09833           0.10150   \n",
       "PC3         0.20135   0.05990    0.01006      0.14504           0.23229   \n",
       "PC4         0.22864   0.06804    0.21171      0.25673           0.08097   \n",
       "PC5         0.12319   0.09731    0.01425      0.05441           0.24564   \n",
       "PC6         0.05208   0.00970    0.18688      0.12867           0.07193   \n",
       "\n",
       "     Flow Velocity P2  Flow Velocity P3  Flow Velocity P4  \\\n",
       "PC1           0.11197           0.10450           0.07771   \n",
       "PC2           0.10721           0.09874           0.08732   \n",
       "PC3           0.22890           0.24056           0.27177   \n",
       "PC4           0.07696           0.04907           0.08882   \n",
       "PC5           0.24771           0.26412           0.25239   \n",
       "PC6           0.07158           0.09076           0.05031   \n",
       "\n",
       "     Average Flow Velocity  Speed of Sound P1  ...  Gain P4T  Gain P4R  \\\n",
       "PC1                0.10518            0.13232  ...   0.18586   0.18586   \n",
       "PC2                0.10170            0.12246  ...   0.11919   0.11919   \n",
       "PC3                0.23917            0.16529  ...   0.12153   0.12153   \n",
       "PC4                0.06857            0.02029  ...   0.08220   0.08220   \n",
       "PC5                0.25544            0.25400  ...   0.02371   0.02371   \n",
       "PC6                0.07730            0.18449  ...   0.06541   0.06541   \n",
       "\n",
       "     Transit Time P1T  Transit Time P1R  Transit Time P2T  Transit Time P2R  \\\n",
       "PC1           0.13979           0.13295           0.11044           0.00057   \n",
       "PC2           0.07944           0.09446           0.11651           0.01391   \n",
       "PC3           0.20628           0.18844           0.20373           0.03354   \n",
       "PC4           0.01312           0.02275           0.09375           0.24164   \n",
       "PC5           0.23922           0.27702           0.11857           0.17968   \n",
       "PC6           0.10014           0.09640           0.30511           0.53484   \n",
       "\n",
       "     Transit Time P3T  Transit Time P3R  Transit Time P4T  Transit Time P4R  \n",
       "PC1           0.06964           0.09866           0.18591           0.18842  \n",
       "PC2           0.07081           0.09816           0.10584           0.10897  \n",
       "PC3           0.12902           0.05208           0.13832           0.12663  \n",
       "PC4           0.34191           0.34481           0.07862           0.07523  \n",
       "PC5           0.14007           0.05592           0.01486           0.00469  \n",
       "PC6           0.07426           0.04433           0.08163           0.08329  \n",
       "\n",
       "[6 rows x 51 columns]"
      ]
     },
     "metadata": {},
     "execution_count": 1741
    }
   ],
   "metadata": {}
  },
  {
   "cell_type": "markdown",
   "source": [
    "### Individual PC Results"
   ],
   "metadata": {}
  },
  {
   "cell_type": "markdown",
   "source": [
    "#### PC1 "
   ],
   "metadata": {}
  },
  {
   "cell_type": "code",
   "execution_count": null,
   "source": [
    "df_pc1 =df_pca.iloc[[0]]\n",
    "a = abs(pca_k_means.components_[0])\n",
    "b = zip(col_name_meterB_no_class,a)\n",
    "# Using sorted and lambda\n",
    "res = sorted(b, key = lambda x: x[1],reverse=True)\n",
    "\n",
    "values = []\n",
    "columns =[]\n",
    "for col,val in res:\n",
    "    values.append(val)\n",
    "    columns.append(col)\n",
    "values =[values]\n",
    "\n",
    "df_pc1 = pd.DataFrame(values,columns=columns)\n",
    "df_pc1"
   ],
   "outputs": [
    {
     "output_type": "execute_result",
     "data": {
      "text/html": [
       "<div>\n",
       "<style scoped>\n",
       "    .dataframe tbody tr th:only-of-type {\n",
       "        vertical-align: middle;\n",
       "    }\n",
       "\n",
       "    .dataframe tbody tr th {\n",
       "        vertical-align: top;\n",
       "    }\n",
       "\n",
       "    .dataframe thead th {\n",
       "        text-align: right;\n",
       "    }\n",
       "</style>\n",
       "<table border=\"1\" class=\"dataframe\">\n",
       "  <thead>\n",
       "    <tr style=\"text-align: right;\">\n",
       "      <th></th>\n",
       "      <th>Symmetry</th>\n",
       "      <th>Average Speed of Sound</th>\n",
       "      <th>Signal Strength P1T</th>\n",
       "      <th>Signal Strength P1R</th>\n",
       "      <th>Signal Strength P4T</th>\n",
       "      <th>Transit Time P4R</th>\n",
       "      <th>Speed of Sound P4</th>\n",
       "      <th>Transit Time P4T</th>\n",
       "      <th>Gain P4T</th>\n",
       "      <th>Gain P4R</th>\n",
       "      <th>...</th>\n",
       "      <th>Signal Strength P3R</th>\n",
       "      <th>Transit Time P3T</th>\n",
       "      <th>Signal Quality P3T</th>\n",
       "      <th>Gain P2T</th>\n",
       "      <th>Gain P2R</th>\n",
       "      <th>Signal Quality P3R</th>\n",
       "      <th>Profile factor</th>\n",
       "      <th>Turbulence P3</th>\n",
       "      <th>Meter Performance</th>\n",
       "      <th>Transit Time P2R</th>\n",
       "    </tr>\n",
       "  </thead>\n",
       "  <tbody>\n",
       "    <tr>\n",
       "      <th>0</th>\n",
       "      <td>0.20314</td>\n",
       "      <td>0.19124</td>\n",
       "      <td>0.19109</td>\n",
       "      <td>0.18989</td>\n",
       "      <td>0.18907</td>\n",
       "      <td>0.18842</td>\n",
       "      <td>0.18721</td>\n",
       "      <td>0.18591</td>\n",
       "      <td>0.18586</td>\n",
       "      <td>0.18586</td>\n",
       "      <td>...</td>\n",
       "      <td>0.07008</td>\n",
       "      <td>0.06964</td>\n",
       "      <td>0.06943</td>\n",
       "      <td>0.06898</td>\n",
       "      <td>0.06898</td>\n",
       "      <td>0.06653</td>\n",
       "      <td>0.05683</td>\n",
       "      <td>0.02880</td>\n",
       "      <td>0.00393</td>\n",
       "      <td>0.00057</td>\n",
       "    </tr>\n",
       "  </tbody>\n",
       "</table>\n",
       "<p>1 rows × 51 columns</p>\n",
       "</div>"
      ],
      "text/plain": [
       "   Symmetry  Average Speed of Sound  Signal Strength P1T  Signal Strength P1R  \\\n",
       "0   0.20314                 0.19124              0.19109              0.18989   \n",
       "\n",
       "   Signal Strength P4T  Transit Time P4R  Speed of Sound P4  Transit Time P4T  \\\n",
       "0              0.18907           0.18842            0.18721           0.18591   \n",
       "\n",
       "   Gain P4T  Gain P4R  ...  Signal Strength P3R  Transit Time P3T  \\\n",
       "0   0.18586   0.18586  ...              0.07008           0.06964   \n",
       "\n",
       "   Signal Quality P3T  Gain P2T  Gain P2R  Signal Quality P3R  Profile factor  \\\n",
       "0             0.06943   0.06898   0.06898             0.06653         0.05683   \n",
       "\n",
       "   Turbulence P3  Meter Performance  Transit Time P2R  \n",
       "0        0.02880            0.00393           0.00057  \n",
       "\n",
       "[1 rows x 51 columns]"
      ]
     },
     "metadata": {},
     "execution_count": 1742
    }
   ],
   "metadata": {}
  },
  {
   "cell_type": "markdown",
   "source": [
    "#### PC2"
   ],
   "metadata": {}
  },
  {
   "cell_type": "code",
   "execution_count": null,
   "source": [
    "df_pc2 =df_pca.iloc[[1]]\n",
    "a = abs(pca_k_means.components_[1])\n",
    "b = zip(col_name_meterB_no_class,a)\n",
    "# Using sorted and lambda\n",
    "res = sorted(b, key = lambda x: x[1],reverse=True)\n",
    "\n",
    "values = []\n",
    "columns =[]\n",
    "for col,val in res:\n",
    "    values.append(val)\n",
    "    columns.append(col)\n",
    "values =[values]\n",
    "\n",
    "df_pc2 = pd.DataFrame(values,columns=columns)\n",
    "df_pc2"
   ],
   "outputs": [
    {
     "output_type": "execute_result",
     "data": {
      "text/html": [
       "<div>\n",
       "<style scoped>\n",
       "    .dataframe tbody tr th:only-of-type {\n",
       "        vertical-align: middle;\n",
       "    }\n",
       "\n",
       "    .dataframe tbody tr th {\n",
       "        vertical-align: top;\n",
       "    }\n",
       "\n",
       "    .dataframe thead th {\n",
       "        text-align: right;\n",
       "    }\n",
       "</style>\n",
       "<table border=\"1\" class=\"dataframe\">\n",
       "  <thead>\n",
       "    <tr style=\"text-align: right;\">\n",
       "      <th></th>\n",
       "      <th>Meter Performance</th>\n",
       "      <th>Turbulence P3</th>\n",
       "      <th>Signal Strength P3R</th>\n",
       "      <th>Turbulence P2</th>\n",
       "      <th>Gain P2T</th>\n",
       "      <th>Gain P2R</th>\n",
       "      <th>Signal Strength P3T</th>\n",
       "      <th>Signal Quality P3T</th>\n",
       "      <th>Signal Quality P3R</th>\n",
       "      <th>Signal Quality P2R</th>\n",
       "      <th>...</th>\n",
       "      <th>Gain P1T</th>\n",
       "      <th>Gain P1R</th>\n",
       "      <th>Speed of Sound P2</th>\n",
       "      <th>Flow Velocity P4</th>\n",
       "      <th>Symmetry</th>\n",
       "      <th>Speed of Sound P3</th>\n",
       "      <th>Transit Time P1T</th>\n",
       "      <th>Transit Time P3T</th>\n",
       "      <th>Transit Time P2R</th>\n",
       "      <th>Crossflow</th>\n",
       "    </tr>\n",
       "  </thead>\n",
       "  <tbody>\n",
       "    <tr>\n",
       "      <th>0</th>\n",
       "      <td>0.26252</td>\n",
       "      <td>0.25336</td>\n",
       "      <td>0.22397</td>\n",
       "      <td>0.21126</td>\n",
       "      <td>0.19966</td>\n",
       "      <td>0.19966</td>\n",
       "      <td>0.19673</td>\n",
       "      <td>0.18772</td>\n",
       "      <td>0.18712</td>\n",
       "      <td>0.18669</td>\n",
       "      <td>...</td>\n",
       "      <td>0.09145</td>\n",
       "      <td>0.09145</td>\n",
       "      <td>0.08857</td>\n",
       "      <td>0.08732</td>\n",
       "      <td>0.08619</td>\n",
       "      <td>0.08616</td>\n",
       "      <td>0.07944</td>\n",
       "      <td>0.07081</td>\n",
       "      <td>0.01391</td>\n",
       "      <td>0.00929</td>\n",
       "    </tr>\n",
       "  </tbody>\n",
       "</table>\n",
       "<p>1 rows × 51 columns</p>\n",
       "</div>"
      ],
      "text/plain": [
       "   Meter Performance  Turbulence P3  Signal Strength P3R  Turbulence P2  \\\n",
       "0            0.26252        0.25336              0.22397        0.21126   \n",
       "\n",
       "   Gain P2T  Gain P2R  Signal Strength P3T  Signal Quality P3T  \\\n",
       "0   0.19966   0.19966              0.19673             0.18772   \n",
       "\n",
       "   Signal Quality P3R  Signal Quality P2R  ...  Gain P1T  Gain P1R  \\\n",
       "0             0.18712             0.18669  ...   0.09145   0.09145   \n",
       "\n",
       "   Speed of Sound P2  Flow Velocity P4  Symmetry  Speed of Sound P3  \\\n",
       "0            0.08857           0.08732   0.08619            0.08616   \n",
       "\n",
       "   Transit Time P1T  Transit Time P3T  Transit Time P2R  Crossflow  \n",
       "0           0.07944           0.07081           0.01391    0.00929  \n",
       "\n",
       "[1 rows x 51 columns]"
      ]
     },
     "metadata": {},
     "execution_count": 1743
    }
   ],
   "metadata": {}
  },
  {
   "cell_type": "markdown",
   "source": [
    "#### PC3 "
   ],
   "metadata": {}
  },
  {
   "cell_type": "code",
   "execution_count": null,
   "source": [
    "df_pc3 =df_pca.iloc[[2]]\n",
    "a = abs(pca_k_means.components_[2])\n",
    "b = zip(col_name_meterB_no_class,a)\n",
    "# Using sorted and lambda\n",
    "res = sorted(b, key = lambda x: x[1],reverse=True)\n",
    "\n",
    "values = []\n",
    "columns =[]\n",
    "for col,val in res:\n",
    "    values.append(val)\n",
    "    columns.append(col)\n",
    "values =[values]\n",
    "\n",
    "df_pc3 = pd.DataFrame(values,columns=columns)\n",
    "df_pc3"
   ],
   "outputs": [
    {
     "output_type": "execute_result",
     "data": {
      "text/html": [
       "<div>\n",
       "<style scoped>\n",
       "    .dataframe tbody tr th:only-of-type {\n",
       "        vertical-align: middle;\n",
       "    }\n",
       "\n",
       "    .dataframe tbody tr th {\n",
       "        vertical-align: top;\n",
       "    }\n",
       "\n",
       "    .dataframe thead th {\n",
       "        text-align: right;\n",
       "    }\n",
       "</style>\n",
       "<table border=\"1\" class=\"dataframe\">\n",
       "  <thead>\n",
       "    <tr style=\"text-align: right;\">\n",
       "      <th></th>\n",
       "      <th>Flow Velocity P4</th>\n",
       "      <th>Flow Velocity P3</th>\n",
       "      <th>Average Flow Velocity</th>\n",
       "      <th>Flow Velocity P1</th>\n",
       "      <th>Flow Velocity P2</th>\n",
       "      <th>Transit Time P1T</th>\n",
       "      <th>Transit Time P2T</th>\n",
       "      <th>Profile factor</th>\n",
       "      <th>Signal Quality P3T</th>\n",
       "      <th>Signal Quality P3R</th>\n",
       "      <th>...</th>\n",
       "      <th>Transit Time P3R</th>\n",
       "      <th>Signal Strength P2R</th>\n",
       "      <th>Signal Strength P4T</th>\n",
       "      <th>Signal Strength P2T</th>\n",
       "      <th>Turbulence P2</th>\n",
       "      <th>Transit Time P2R</th>\n",
       "      <th>Crossflow</th>\n",
       "      <th>Turbulence P4</th>\n",
       "      <th>Signal Quality P2T</th>\n",
       "      <th>Signal Quality P2R</th>\n",
       "    </tr>\n",
       "  </thead>\n",
       "  <tbody>\n",
       "    <tr>\n",
       "      <th>0</th>\n",
       "      <td>0.27177</td>\n",
       "      <td>0.24056</td>\n",
       "      <td>0.23917</td>\n",
       "      <td>0.23229</td>\n",
       "      <td>0.22890</td>\n",
       "      <td>0.20628</td>\n",
       "      <td>0.20373</td>\n",
       "      <td>0.20135</td>\n",
       "      <td>0.19847</td>\n",
       "      <td>0.19374</td>\n",
       "      <td>...</td>\n",
       "      <td>0.05208</td>\n",
       "      <td>0.05098</td>\n",
       "      <td>0.04738</td>\n",
       "      <td>0.04128</td>\n",
       "      <td>0.03697</td>\n",
       "      <td>0.03354</td>\n",
       "      <td>0.01006</td>\n",
       "      <td>0.00265</td>\n",
       "      <td>0.00185</td>\n",
       "      <td>0.00185</td>\n",
       "    </tr>\n",
       "  </tbody>\n",
       "</table>\n",
       "<p>1 rows × 51 columns</p>\n",
       "</div>"
      ],
      "text/plain": [
       "   Flow Velocity P4  Flow Velocity P3  Average Flow Velocity  \\\n",
       "0           0.27177           0.24056                0.23917   \n",
       "\n",
       "   Flow Velocity P1  Flow Velocity P2  Transit Time P1T  Transit Time P2T  \\\n",
       "0           0.23229           0.22890           0.20628           0.20373   \n",
       "\n",
       "   Profile factor  Signal Quality P3T  Signal Quality P3R  ...  \\\n",
       "0         0.20135             0.19847             0.19374  ...   \n",
       "\n",
       "   Transit Time P3R  Signal Strength P2R  Signal Strength P4T  \\\n",
       "0           0.05208              0.05098              0.04738   \n",
       "\n",
       "   Signal Strength P2T  Turbulence P2  Transit Time P2R  Crossflow  \\\n",
       "0              0.04128        0.03697           0.03354    0.01006   \n",
       "\n",
       "   Turbulence P4  Signal Quality P2T  Signal Quality P2R  \n",
       "0        0.00265             0.00185             0.00185  \n",
       "\n",
       "[1 rows x 51 columns]"
      ]
     },
     "metadata": {},
     "execution_count": 1744
    }
   ],
   "metadata": {}
  },
  {
   "cell_type": "markdown",
   "source": [
    "#### PC4 "
   ],
   "metadata": {}
  },
  {
   "cell_type": "code",
   "execution_count": null,
   "source": [
    "df_pc4 =df_pca.iloc[[3]]\n",
    "a = abs(pca_k_means.components_[3])\n",
    "b = zip(col_name_meterB_no_class,a)\n",
    "# Using sorted and lambda\n",
    "res = sorted(b, key = lambda x: x[1],reverse=True)\n",
    "\n",
    "values = []\n",
    "columns =[]\n",
    "for col,val in res:\n",
    "    values.append(val)\n",
    "    columns.append(col)\n",
    "values =[values]\n",
    "\n",
    "df_pc4 = pd.DataFrame(values,columns=columns)\n",
    "df_pc4"
   ],
   "outputs": [
    {
     "output_type": "execute_result",
     "data": {
      "text/html": [
       "<div>\n",
       "<style scoped>\n",
       "    .dataframe tbody tr th:only-of-type {\n",
       "        vertical-align: middle;\n",
       "    }\n",
       "\n",
       "    .dataframe tbody tr th {\n",
       "        vertical-align: top;\n",
       "    }\n",
       "\n",
       "    .dataframe thead th {\n",
       "        text-align: right;\n",
       "    }\n",
       "</style>\n",
       "<table border=\"1\" class=\"dataframe\">\n",
       "  <thead>\n",
       "    <tr style=\"text-align: right;\">\n",
       "      <th></th>\n",
       "      <th>Speed of Sound P3</th>\n",
       "      <th>Transit Time P3R</th>\n",
       "      <th>Transit Time P3T</th>\n",
       "      <th>Gain P3T</th>\n",
       "      <th>Gain P3R</th>\n",
       "      <th>Swirl Angle</th>\n",
       "      <th>Transit Time P2R</th>\n",
       "      <th>Profile factor</th>\n",
       "      <th>Crossflow</th>\n",
       "      <th>Speed of Sound P2</th>\n",
       "      <th>...</th>\n",
       "      <th>Speed of Sound P1</th>\n",
       "      <th>Signal Quality P1R</th>\n",
       "      <th>Signal Quality P1T</th>\n",
       "      <th>Turbulence P1</th>\n",
       "      <th>Transit Time P1T</th>\n",
       "      <th>Turbulence P2</th>\n",
       "      <th>Gain P1T</th>\n",
       "      <th>Gain P1R</th>\n",
       "      <th>Average Speed of Sound</th>\n",
       "      <th>Signal Strength P1T</th>\n",
       "    </tr>\n",
       "  </thead>\n",
       "  <tbody>\n",
       "    <tr>\n",
       "      <th>0</th>\n",
       "      <td>0.34715</td>\n",
       "      <td>0.34481</td>\n",
       "      <td>0.34191</td>\n",
       "      <td>0.28790</td>\n",
       "      <td>0.28790</td>\n",
       "      <td>0.25673</td>\n",
       "      <td>0.24164</td>\n",
       "      <td>0.22864</td>\n",
       "      <td>0.21171</td>\n",
       "      <td>0.18657</td>\n",
       "      <td>...</td>\n",
       "      <td>0.02029</td>\n",
       "      <td>0.01800</td>\n",
       "      <td>0.01788</td>\n",
       "      <td>0.01574</td>\n",
       "      <td>0.01312</td>\n",
       "      <td>0.00879</td>\n",
       "      <td>0.00768</td>\n",
       "      <td>0.00768</td>\n",
       "      <td>0.00516</td>\n",
       "      <td>0.00203</td>\n",
       "    </tr>\n",
       "  </tbody>\n",
       "</table>\n",
       "<p>1 rows × 51 columns</p>\n",
       "</div>"
      ],
      "text/plain": [
       "   Speed of Sound P3  Transit Time P3R  Transit Time P3T  Gain P3T  Gain P3R  \\\n",
       "0            0.34715           0.34481           0.34191   0.28790   0.28790   \n",
       "\n",
       "   Swirl Angle  Transit Time P2R  Profile factor  Crossflow  \\\n",
       "0      0.25673           0.24164         0.22864    0.21171   \n",
       "\n",
       "   Speed of Sound P2  ...  Speed of Sound P1  Signal Quality P1R  \\\n",
       "0            0.18657  ...            0.02029             0.01800   \n",
       "\n",
       "   Signal Quality P1T  Turbulence P1  Transit Time P1T  Turbulence P2  \\\n",
       "0             0.01788        0.01574           0.01312        0.00879   \n",
       "\n",
       "   Gain P1T  Gain P1R  Average Speed of Sound  Signal Strength P1T  \n",
       "0   0.00768   0.00768                 0.00516              0.00203  \n",
       "\n",
       "[1 rows x 51 columns]"
      ]
     },
     "metadata": {},
     "execution_count": 1745
    }
   ],
   "metadata": {}
  },
  {
   "cell_type": "markdown",
   "source": [
    "#### PC5"
   ],
   "metadata": {}
  },
  {
   "cell_type": "code",
   "execution_count": null,
   "source": [
    "df_pc5 =df_pca.iloc[[4]]\n",
    "a = abs(pca_k_means.components_[4])\n",
    "b = zip(col_name_meterB_no_class,a)\n",
    "# Using sorted and lambda\n",
    "res = sorted(b, key = lambda x: x[1],reverse=True)\n",
    "\n",
    "values = []\n",
    "columns =[]\n",
    "for col,val in res:\n",
    "    values.append(val)\n",
    "    columns.append(col)\n",
    "values =[values]\n",
    "\n",
    "df_pc5 = pd.DataFrame(values,columns=columns)\n",
    "df_pc5"
   ],
   "outputs": [
    {
     "output_type": "execute_result",
     "data": {
      "text/html": [
       "<div>\n",
       "<style scoped>\n",
       "    .dataframe tbody tr th:only-of-type {\n",
       "        vertical-align: middle;\n",
       "    }\n",
       "\n",
       "    .dataframe tbody tr th {\n",
       "        vertical-align: top;\n",
       "    }\n",
       "\n",
       "    .dataframe thead th {\n",
       "        text-align: right;\n",
       "    }\n",
       "</style>\n",
       "<table border=\"1\" class=\"dataframe\">\n",
       "  <thead>\n",
       "    <tr style=\"text-align: right;\">\n",
       "      <th></th>\n",
       "      <th>Transit Time P1R</th>\n",
       "      <th>Flow Velocity P3</th>\n",
       "      <th>Average Flow Velocity</th>\n",
       "      <th>Speed of Sound P1</th>\n",
       "      <th>Flow Velocity P4</th>\n",
       "      <th>Flow Velocity P2</th>\n",
       "      <th>Flow Velocity P1</th>\n",
       "      <th>Transit Time P1T</th>\n",
       "      <th>Signal Quality P3T</th>\n",
       "      <th>Signal Quality P3R</th>\n",
       "      <th>...</th>\n",
       "      <th>Gain P4R</th>\n",
       "      <th>Signal Quality P4T</th>\n",
       "      <th>Turbulence P3</th>\n",
       "      <th>Transit Time P4T</th>\n",
       "      <th>Crossflow</th>\n",
       "      <th>Speed of Sound P4</th>\n",
       "      <th>Signal Strength P4T</th>\n",
       "      <th>Speed of Sound P2</th>\n",
       "      <th>Signal Quality P4R</th>\n",
       "      <th>Transit Time P4R</th>\n",
       "    </tr>\n",
       "  </thead>\n",
       "  <tbody>\n",
       "    <tr>\n",
       "      <th>0</th>\n",
       "      <td>0.27702</td>\n",
       "      <td>0.26412</td>\n",
       "      <td>0.25544</td>\n",
       "      <td>0.25400</td>\n",
       "      <td>0.25239</td>\n",
       "      <td>0.24771</td>\n",
       "      <td>0.24564</td>\n",
       "      <td>0.23922</td>\n",
       "      <td>0.22834</td>\n",
       "      <td>0.22660</td>\n",
       "      <td>...</td>\n",
       "      <td>0.02371</td>\n",
       "      <td>0.02106</td>\n",
       "      <td>0.02069</td>\n",
       "      <td>0.01486</td>\n",
       "      <td>0.01425</td>\n",
       "      <td>0.00996</td>\n",
       "      <td>0.00744</td>\n",
       "      <td>0.00570</td>\n",
       "      <td>0.00569</td>\n",
       "      <td>0.00469</td>\n",
       "    </tr>\n",
       "  </tbody>\n",
       "</table>\n",
       "<p>1 rows × 51 columns</p>\n",
       "</div>"
      ],
      "text/plain": [
       "   Transit Time P1R  Flow Velocity P3  Average Flow Velocity  \\\n",
       "0           0.27702           0.26412                0.25544   \n",
       "\n",
       "   Speed of Sound P1  Flow Velocity P4  Flow Velocity P2  Flow Velocity P1  \\\n",
       "0            0.25400           0.25239           0.24771           0.24564   \n",
       "\n",
       "   Transit Time P1T  Signal Quality P3T  Signal Quality P3R  ...  Gain P4R  \\\n",
       "0           0.23922             0.22834             0.22660  ...   0.02371   \n",
       "\n",
       "   Signal Quality P4T  Turbulence P3  Transit Time P4T  Crossflow  \\\n",
       "0             0.02106        0.02069           0.01486    0.01425   \n",
       "\n",
       "   Speed of Sound P4  Signal Strength P4T  Speed of Sound P2  \\\n",
       "0            0.00996              0.00744            0.00570   \n",
       "\n",
       "   Signal Quality P4R  Transit Time P4R  \n",
       "0             0.00569           0.00469  \n",
       "\n",
       "[1 rows x 51 columns]"
      ]
     },
     "metadata": {},
     "execution_count": 1746
    }
   ],
   "metadata": {}
  },
  {
   "cell_type": "markdown",
   "source": [
    "#### PC6"
   ],
   "metadata": {}
  },
  {
   "cell_type": "code",
   "execution_count": null,
   "source": [
    "df_pc6 =df_pca.iloc[[5]]\n",
    "a = abs(pca_k_means.components_[5])\n",
    "b = zip(col_name_meterB_no_class,a)\n",
    "# Using sorted and lambda\n",
    "res = sorted(b, key = lambda x: x[1],reverse=True)\n",
    "\n",
    "values = []\n",
    "columns =[]\n",
    "for col,val in res:\n",
    "    values.append(val)\n",
    "    columns.append(col)\n",
    "values =[values]\n",
    "\n",
    "df_pc6 = pd.DataFrame(values,columns=columns)\n",
    "df_pc6"
   ],
   "outputs": [
    {
     "output_type": "execute_result",
     "data": {
      "text/html": [
       "<div>\n",
       "<style scoped>\n",
       "    .dataframe tbody tr th:only-of-type {\n",
       "        vertical-align: middle;\n",
       "    }\n",
       "\n",
       "    .dataframe tbody tr th {\n",
       "        vertical-align: top;\n",
       "    }\n",
       "\n",
       "    .dataframe thead th {\n",
       "        text-align: right;\n",
       "    }\n",
       "</style>\n",
       "<table border=\"1\" class=\"dataframe\">\n",
       "  <thead>\n",
       "    <tr style=\"text-align: right;\">\n",
       "      <th></th>\n",
       "      <th>Transit Time P2R</th>\n",
       "      <th>Speed of Sound P2</th>\n",
       "      <th>Transit Time P2T</th>\n",
       "      <th>Crossflow</th>\n",
       "      <th>Speed of Sound P1</th>\n",
       "      <th>Signal Strength P1R</th>\n",
       "      <th>Gain P3T</th>\n",
       "      <th>Gain P3R</th>\n",
       "      <th>Signal Strength P1T</th>\n",
       "      <th>Signal Strength P2R</th>\n",
       "      <th>...</th>\n",
       "      <th>Signal Quality P2T</th>\n",
       "      <th>Signal Strength P3T</th>\n",
       "      <th>Gain P1T</th>\n",
       "      <th>Gain P1R</th>\n",
       "      <th>Signal Strength P4R</th>\n",
       "      <th>Signal Strength P3R</th>\n",
       "      <th>Signal Quality P3T</th>\n",
       "      <th>Symmetry</th>\n",
       "      <th>Signal Quality P4T</th>\n",
       "      <th>Signal Strength P4T</th>\n",
       "    </tr>\n",
       "  </thead>\n",
       "  <tbody>\n",
       "    <tr>\n",
       "      <th>0</th>\n",
       "      <td>0.53484</td>\n",
       "      <td>0.48250</td>\n",
       "      <td>0.30511</td>\n",
       "      <td>0.18688</td>\n",
       "      <td>0.18449</td>\n",
       "      <td>0.16492</td>\n",
       "      <td>0.15776</td>\n",
       "      <td>0.15776</td>\n",
       "      <td>0.14508</td>\n",
       "      <td>0.12907</td>\n",
       "      <td>...</td>\n",
       "      <td>0.04383</td>\n",
       "      <td>0.03633</td>\n",
       "      <td>0.02666</td>\n",
       "      <td>0.02666</td>\n",
       "      <td>0.01720</td>\n",
       "      <td>0.01654</td>\n",
       "      <td>0.01150</td>\n",
       "      <td>0.00970</td>\n",
       "      <td>0.00358</td>\n",
       "      <td>0.00117</td>\n",
       "    </tr>\n",
       "  </tbody>\n",
       "</table>\n",
       "<p>1 rows × 51 columns</p>\n",
       "</div>"
      ],
      "text/plain": [
       "   Transit Time P2R  Speed of Sound P2  Transit Time P2T  Crossflow  \\\n",
       "0           0.53484            0.48250           0.30511    0.18688   \n",
       "\n",
       "   Speed of Sound P1  Signal Strength P1R  Gain P3T  Gain P3R  \\\n",
       "0            0.18449              0.16492   0.15776   0.15776   \n",
       "\n",
       "   Signal Strength P1T  Signal Strength P2R  ...  Signal Quality P2T  \\\n",
       "0              0.14508              0.12907  ...             0.04383   \n",
       "\n",
       "   Signal Strength P3T  Gain P1T  Gain P1R  Signal Strength P4R  \\\n",
       "0              0.03633   0.02666   0.02666              0.01720   \n",
       "\n",
       "   Signal Strength P3R  Signal Quality P3T  Symmetry  Signal Quality P4T  \\\n",
       "0              0.01654             0.01150   0.00970             0.00358   \n",
       "\n",
       "   Signal Strength P4T  \n",
       "0              0.00117  \n",
       "\n",
       "[1 rows x 51 columns]"
      ]
     },
     "metadata": {},
     "execution_count": 1747
    }
   ],
   "metadata": {}
  },
  {
   "cell_type": "markdown",
   "source": [
    "### Biplots"
   ],
   "metadata": {}
  },
  {
   "cell_type": "markdown",
   "source": [
    "#### PC1 and PC2"
   ],
   "metadata": {}
  },
  {
   "cell_type": "code",
   "execution_count": null,
   "source": [
    "def myplot(score,coeff,labels=None):\n",
    "    xs = score[:,0]\n",
    "    ys = score[:,1]\n",
    "    n = coeff.shape[0]\n",
    "    y= dataset['Class']\n",
    "    scalex = 1.0/(xs.max() - xs.min())\n",
    "    scaley = 1.0/(ys.max() - ys.min())\n",
    "    plt.scatter(xs * scalex,ys * scaley, c = y)\n",
    "    for i in range(n):\n",
    "        plt.arrow(0, 0, coeff[i,0], coeff[i,1],color = 'r',alpha = 0.5)\n",
    "        if labels is None:\n",
    "            plt.text(coeff[i,0]* 1.15, coeff[i,1] * 1.15, str(i+1),fontsize=20, color = 'g', ha = 'center', va = 'center')\n",
    "        else:\n",
    "            plt.text(coeff[i,0]* 1.15, coeff[i,1] * 1.15, labels[i], color = 'g', ha = 'center', va = 'center')\n",
    "    plt.xlim(-1,1)\n",
    "    plt.ylim(-1,1)\n",
    "    plt.grid()\n",
    "\n",
    "#Call the function. Use only the 2 PCs.\n",
    "myplot(X_pca_kmeans[:,0:2],np.transpose(pca_k_means.components_[0:2, :]))\n",
    "# figure size\n",
    "fig = plt.gcf()\n",
    "fig.set_size_inches(20, 10)\n",
    "plt.title('Biplot for PC1/PC2')\n",
    "plt.xlabel(\"PC1\".format(1))\n",
    "plt.ylabel(\"PC2\".format(2))\n",
    "plt.show()"
   ],
   "outputs": [
    {
     "output_type": "display_data",
     "data": {
      "image/png": "[encoded data removed]",
      "text/plain": [
       "<Figure size 1440x720 with 1 Axes>"
      ]
     },
     "metadata": {
      "needs_background": "light"
     }
    }
   ],
   "metadata": {}
  },
  {
   "cell_type": "markdown",
   "source": [
    "PC3 and PC4"
   ],
   "metadata": {}
  },
  {
   "cell_type": "code",
   "execution_count": null,
   "source": [
    "#Call the function. Use only the 2 PCs.\n",
    "myplot(X_pca_kmeans[:,0:2],np.transpose(pca_k_means.components_[2:4, :]))\n",
    "# figure size\n",
    "fig = plt.gcf()\n",
    "fig.set_size_inches(20, 10)\n",
    "plt.title('Biplot for PC3/PC4')\n",
    "plt.xlabel(\"PC3\".format(1))\n",
    "plt.ylabel(\"PC4\".format(2))\n",
    "plt.show()"
   ],
   "outputs": [
    {
     "output_type": "display_data",
     "data": {
      "image/png": "[encoded data removed]",
      "text/plain": [
       "<Figure size 1440x720 with 1 Axes>"
      ]
     },
     "metadata": {
      "needs_background": "light"
     }
    }
   ],
   "metadata": {}
  },
  {
   "cell_type": "markdown",
   "source": [
    "PC5 and PC6"
   ],
   "metadata": {}
  },
  {
   "cell_type": "code",
   "execution_count": null,
   "source": [
    "#Call the function. Use only the 2 PCs.\n",
    "myplot(X_pca_kmeans[:,0:2],np.transpose(pca_k_means.components_[4:6, :]))\n",
    "# figure size\n",
    "fig = plt.gcf()\n",
    "fig.set_size_inches(20, 10)\n",
    "plt.title('Biplot for PC5/PC6')\n",
    "plt.xlabel(\"PC5\".format(1))\n",
    "plt.ylabel(\"PC6\".format(2))\n",
    "plt.show()"
   ],
   "outputs": [
    {
     "output_type": "display_data",
     "data": {
      "image/png": "[encoded data removed]",
      "text/plain": [
       "<Figure size 1440x720 with 1 Axes>"
      ]
     },
     "metadata": {
      "needs_background": "light"
     }
    }
   ],
   "metadata": {}
  },
  {
   "cell_type": "markdown",
   "source": [
    "# __Data Mining__"
   ],
   "metadata": {}
  },
  {
   "cell_type": "markdown",
   "source": [
    "## __1) Split Dataset 70/30__"
   ],
   "metadata": {}
  },
  {
   "cell_type": "code",
   "execution_count": null,
   "source": [
    "from sklearn.model_selection import train_test_split\n",
    "\n",
    "\n",
    "# use this as main model\n",
    "X_train, X_test, y_train, y_test = train_test_split(X_pca, Y, test_size=0.3, random_state=0)\n",
    "\n",
    "from sklearn.preprocessing import MinMaxScaler\n",
    "\n",
    "scaler = MinMaxScaler()\n",
    "X_train = scaler.fit_transform(X_train)\n",
    "X_test = scaler.transform(X_test)\n"
   ],
   "outputs": [],
   "metadata": {}
  },
  {
   "cell_type": "markdown",
   "source": [
    "## __2) Supervised Learning -LR,SVM,NLSVM,DT,NN,LD__"
   ],
   "metadata": {}
  },
  {
   "cell_type": "markdown",
   "source": [
    "### Linear Prediction using Logistics Regression and linear Support Vector Machine "
   ],
   "metadata": {}
  },
  {
   "cell_type": "code",
   "execution_count": null,
   "source": [
    "from sklearn import linear_model\n",
    "from sklearn.svm import SVC\n",
    "from sklearn.metrics import accuracy_score\n",
    "\n",
    "C = [0.01, 0.1, 0.2, 0.5, 0.8, 1, 5, 10, 20, 50]\n",
    "\n",
    "LRtrainAcc = []\n",
    "LRtestAcc = []\n",
    "\n",
    "for param in C:\n",
    "    clf3 = linear_model.LogisticRegression(C=param)\n",
    "    clf3.fit(X_train, y_train)\n",
    "    Y_predTrain = clf3.predict(X_train)\n",
    "    Y_predTest = clf3.predict(X_test)\n",
    "    LRtrainAcc.append(accuracy_score(y_train, Y_predTrain))\n",
    "    LRtestAcc.append(accuracy_score(y_test, Y_predTest))\n",
    "\n",
    "plt.plot(C, LRtrainAcc, 'ro-', C, LRtestAcc,'bv--')\n",
    "plt.legend(['Training Accuracy','Test Accuracy'])\n",
    "plt.xlabel('C')\n",
    "plt.ylabel('Accuracy')\n",
    "\n",
    "\n",
    "print (f\"Model score clf3: {clf3.score(X_test, y_test)}\")\n",
    "print(\"Highest training accuracy:\", max(LRtestAcc))\n",
    "print(\"Highest testing accuracy:\", max(LRtestAcc))\n",
    "print(\"Lowest testing accuracy:\", min(LRtestAcc))\n",
    "\n",
    "\n"
   ],
   "outputs": [
    {
     "output_type": "stream",
     "name": "stdout",
     "text": [
      "Model score clf3: 0.9444444444444444\n",
      "Highest training accuracy: 0.9444444444444444\n",
      "Highest testing accuracy: 0.9444444444444444\n",
      "Lowest testing accuracy: 0.6111111111111112\n"
     ]
    },
    {
     "output_type": "display_data",
     "data": {
      "image/png": "[encoded data removed]",
      "text/plain": [
       "<Figure size 432x288 with 1 Axes>"
      ]
     },
     "metadata": {
      "needs_background": "light"
     }
    }
   ],
   "metadata": {}
  },
  {
   "cell_type": "markdown",
   "source": [
    "### Linear Support Vector Machine "
   ],
   "metadata": {}
  },
  {
   "cell_type": "code",
   "execution_count": null,
   "source": [
    "from sklearn import linear_model\n",
    "from sklearn.svm import SVC\n",
    "from sklearn.metrics import accuracy_score\n",
    "\n",
    "C = [0.01, 0.1, 0.2, 0.5, 0.8, 1, 5, 10, 20, 50]\n",
    "\n",
    "SVMtrainAcc = []\n",
    "SVMtestAcc = []\n",
    "\n",
    "for param in C:\n",
    "    clf4 = SVC(C=param,kernel='linear')\n",
    "    clf4.fit(X_train, y_train)\n",
    "    Y_predTrain = clf4.predict(X_train)\n",
    "    Y_predTest = clf4.predict(X_test)\n",
    "    SVMtrainAcc.append(accuracy_score(y_train, Y_predTrain))\n",
    "    SVMtestAcc.append(accuracy_score(y_test, Y_predTest))\n",
    "\n",
    "plt.plot(C, SVMtrainAcc, 'ro-', C, SVMtestAcc,'bv--')\n",
    "plt.legend(['Training Accuracy','Test Accuracy'])\n",
    "plt.xlabel('C')\n",
    "plt.ylabel('Accuracy')\n",
    "\n",
    "print (f\"Model score clf4: {clf4.score(X_test, y_test)}\")\n",
    "print(\"Highest training accuracy:\", max(SVMtestAcc))\n",
    "print(\"Highest testing accuracy:\", max(SVMtestAcc))\n",
    "print(\"Lowest testing accuracy:\", min(SVMtestAcc))\n",
    "\n"
   ],
   "outputs": [
    {
     "output_type": "stream",
     "name": "stdout",
     "text": [
      "Model score clf4: 0.9444444444444444\n",
      "Highest training accuracy: 0.9444444444444444\n",
      "Highest testing accuracy: 0.9444444444444444\n",
      "Lowest testing accuracy: 0.6111111111111112\n"
     ]
    },
    {
     "output_type": "display_data",
     "data": {
      "image/png": "[encoded data removed]",
      "text/plain": [
       "<Figure size 432x288 with 1 Axes>"
      ]
     },
     "metadata": {
      "needs_background": "light"
     }
    }
   ],
   "metadata": {}
  },
  {
   "cell_type": "markdown",
   "source": [
    "### Non Linear Support Vector Machine(SVM)"
   ],
   "metadata": {}
  },
  {
   "cell_type": "code",
   "execution_count": null,
   "source": [
    "from sklearn.svm import SVC\n",
    "\n",
    "C = [0.01, 0.1, 0.2, 0.5, 0.8, 1, 5, 10, 20, 50]\n",
    "SVMtrainAcc = []\n",
    "SVMtestAcc = []\n",
    "\n",
    "for param in C:\n",
    "    clf5 = SVC(C=param,kernel='rbf',gamma='auto',random_state=0)\n",
    "    clf5.fit(X_train, y_train)\n",
    "    Y_predTrain = clf5.predict(X_train)\n",
    "    Y_predTest = clf5.predict(X_test)\n",
    "    SVMtrainAcc.append(accuracy_score(y_train, Y_predTrain))\n",
    "    SVMtestAcc.append(accuracy_score(y_test, Y_predTest))\n",
    "\n",
    "plt.plot(C, SVMtrainAcc, 'ro-', C, SVMtestAcc,'bv--')\n",
    "plt.legend(['Training Accuracy','Test Accuracy'])\n",
    "plt.xlabel('C')\n",
    "plt.xscale('log')\n",
    "plt.ylabel('Accuracy')\n",
    "\n",
    "print (f\"Model score: {clf5.score(X_test, y_test)}\")\n",
    "print(\"Highest training accuracy:\", max(SVMtestAcc))\n",
    "print(\"Highest testing accuracy:\", max(SVMtestAcc))\n",
    "print(\"Lowest testing accuracy:\", min(SVMtestAcc))"
   ],
   "outputs": [
    {
     "output_type": "stream",
     "name": "stdout",
     "text": [
      "Model score: 0.9444444444444444\n",
      "Highest training accuracy: 0.9444444444444444\n",
      "Highest testing accuracy: 0.9444444444444444\n",
      "Lowest testing accuracy: 0.6111111111111112\n"
     ]
    },
    {
     "output_type": "display_data",
     "data": {
      "image/png": "[encoded data removed]",
      "text/plain": [
       "<Figure size 432x288 with 1 Axes>"
      ]
     },
     "metadata": {
      "needs_background": "light"
     }
    }
   ],
   "metadata": {}
  },
  {
   "cell_type": "markdown",
   "source": [
    "### Decision Tree"
   ],
   "metadata": {}
  },
  {
   "cell_type": "code",
   "execution_count": null,
   "source": [
    "from sklearn.tree import DecisionTreeClassifier\n",
    "\n",
    "clf7 = DecisionTreeClassifier(max_depth=10)\n",
    "maxdepth = [1,2,3,4,6,8,10,15,18,20,30,40]\n",
    "dt_trainAcc = []\n",
    "dt_testAcc = []\n",
    "\n",
    "for param in C:\n",
    "    clf7=DecisionTreeClassifier(max_depth=param, random_state=0)\n",
    "    clf7.fit(X_train, y_train)\n",
    "    Y_predTrain = clf7.predict(X_train)\n",
    "    Y_predTest = clf7.predict(X_test)\n",
    "    dt_trainAcc.append(accuracy_score(y_train, Y_predTrain))\n",
    "    dt_testAcc.append(accuracy_score(y_test, Y_predTest))\n",
    "\n",
    "plt.plot(C, dt_trainAcc, 'ro-', C, dt_testAcc,'bv--')\n",
    "plt.legend(['Training Accuracy','Test Accuracy'])\n",
    "plt.xlabel('Max Depth')\n",
    "plt.ylabel('Accuracy')\n",
    "\n",
    "print (f\"Model score: {clf7.score(X_test, y_test)}\")\n",
    "print(\"Highest training accuracy:\", max(dt_trainAcc))\n",
    "print(\"Highest testing accuracy:\", max(dt_testAcc))\n",
    "print(\"Lowest testing accuracy:\", min(dt_testAcc))"
   ],
   "outputs": [
    {
     "output_type": "stream",
     "name": "stdout",
     "text": [
      "Model score: 1.0\n",
      "Highest training accuracy: 1.0\n",
      "Highest testing accuracy: 1.0\n",
      "Lowest testing accuracy: 0.6111111111111112\n"
     ]
    },
    {
     "output_type": "display_data",
     "data": {
      "image/png": "[encoded data removed]",
      "text/plain": [
       "<Figure size 432x288 with 1 Axes>"
      ]
     },
     "metadata": {
      "needs_background": "light"
     }
    }
   ],
   "metadata": {}
  },
  {
   "cell_type": "code",
   "execution_count": null,
   "source": [
    "Y = df_remove_meterB['Class']\n",
    "X = df_remove_meterB.drop(['Class'],axis=1)\n",
    "\n",
    "clf = tree.DecisionTreeClassifier(criterion='entropy',max_depth=3,random_state=59)\n",
    "clf = clf.fit(X, Y)"
   ],
   "outputs": [],
   "metadata": {}
  },
  {
   "cell_type": "code",
   "execution_count": null,
   "source": [
    "from sklearn import tree\n",
    "fig = plt.figure(figsize=(25,20))\n",
    "tree.plot_tree(clf,feature_names=X.columns,class_names=['1','2','3','4'],filled=True, impurity=True)"
   ],
   "outputs": [
    {
     "output_type": "execute_result",
     "data": {
      "text/plain": [
       "[Text(0.6, 0.8333333333333334, 'Gain P3T <= 51.4\\nentropy = 1.445\\nsamples = 57\\nvalue = [19, 9, 29]\\nclass = 3'),\n",
       " Text(0.4, 0.5, 'Signal Strength P1T <= 4410.6\\nentropy = 0.906\\nsamples = 28\\nvalue = [19, 9, 0]\\nclass = 1'),\n",
       " Text(0.2, 0.16666666666666666, 'entropy = 0.0\\nsamples = 9\\nvalue = [0, 9, 0]\\nclass = 2'),\n",
       " Text(0.6, 0.16666666666666666, 'entropy = 0.0\\nsamples = 19\\nvalue = [19, 0, 0]\\nclass = 1'),\n",
       " Text(0.8, 0.5, 'entropy = 0.0\\nsamples = 29\\nvalue = [0, 0, 29]\\nclass = 3')]"
      ]
     },
     "metadata": {},
     "execution_count": 1757
    },
    {
     "output_type": "display_data",
     "data": {
      "image/png": "[encoded data removed]",
      "text/plain": [
       "<Figure size 1800x1440 with 1 Axes>"
      ]
     },
     "metadata": {
      "needs_background": "light"
     }
    }
   ],
   "metadata": {}
  },
  {
   "cell_type": "markdown",
   "source": [
    "### Neural Network"
   ],
   "metadata": {}
  },
  {
   "cell_type": "code",
   "execution_count": null,
   "source": [
    "from sklearn.neural_network import MLPClassifier\n",
    "hidden_layer_sizes = [(10,10,10), (20,20,20), (30,30,30), (40,40,40), (50,50,50), (60,60,60), (70,70,70)]\n",
    "trainAcc = []\n",
    "testAcc = []\n",
    "\n",
    "for k in hidden_layer_sizes:\n",
    "    clf6 = MLPClassifier(solver='adam',hidden_layer_sizes=k, learning_rate='adaptive',random_state=0,max_iter=1000)\n",
    "    clf6.fit(X_train, y_train)\n",
    " \n",
    "    Y_predTrain = clf6.predict(X_train)\n",
    "    Y_predTest = clf6.predict(X_test)\n",
    "    trainAcc.append(accuracy_score(y_train, Y_predTrain))\n",
    "    testAcc.append(accuracy_score(y_test, Y_predTest))\n",
    "    \n",
    "hidden_layer_size=[x[0] for x in hidden_layer_sizes]\n",
    "plt.plot(hidden_layer_size, trainAcc, 'ro-', hidden_layer_size, testAcc,'bv--')\n",
    "plt.legend(['Training Accuracy','Test Accuracy'])\n",
    "plt.xlabel('Number of hidden layer')\n",
    "plt.ylabel('Accuracy')\n",
    "\n",
    "print (f\"Model score: {clf6.score(X_test, y_test)}\")\n",
    "print(\"Highest training accuracy:\", max(trainAcc))\n",
    "print(\"Highest testing accuracy:\", max(testAcc))\n",
    "print(\"Lowest testing accuracy:\", min(testAcc))"
   ],
   "outputs": [
    {
     "output_type": "stream",
     "name": "stdout",
     "text": [
      "Model score: 0.9444444444444444\n",
      "Highest training accuracy: 1.0\n",
      "Highest testing accuracy: 1.0\n",
      "Lowest testing accuracy: 0.9444444444444444\n"
     ]
    },
    {
     "output_type": "display_data",
     "data": {
      "image/png": "[encoded data removed]",
      "text/plain": [
       "<Figure size 432x288 with 1 Axes>"
      ]
     },
     "metadata": {
      "needs_background": "light"
     }
    }
   ],
   "metadata": {}
  },
  {
   "cell_type": "markdown",
   "source": [
    "### Naive Bayes"
   ],
   "metadata": {}
  },
  {
   "cell_type": "code",
   "execution_count": null,
   "source": [
    "from sklearn.naive_bayes import GaussianNB\n",
    "\n",
    "clf2=GaussianNB()\n",
    "clf2.fit(X_train, y_train)\n",
    "Y_predTrain = clf2.predict(X_train)\n",
    "Y_predTest = clf2.predict(X_test)\n",
    "trainAcc=accuracy_score(y_train, Y_predTrain)\n",
    "testAcc=accuracy_score(y_test, Y_predTest)\n",
    "\n",
    "print (f\"Model score: {clf2.score(X_test, y_test)}\")\n",
    "print(\"\\nTraining Accuracy:\",trainAcc)\n",
    "print(\"\\nTesting Accuracy:\",testAcc)"
   ],
   "outputs": [
    {
     "output_type": "stream",
     "name": "stdout",
     "text": [
      "Model score: 1.0\n",
      "\n",
      "Training Accuracy: 1.0\n",
      "\n",
      "Testing Accuracy: 1.0\n"
     ]
    }
   ],
   "metadata": {}
  },
  {
   "cell_type": "markdown",
   "source": [
    "### Linear Discriminant"
   ],
   "metadata": {}
  },
  {
   "cell_type": "code",
   "execution_count": null,
   "source": [
    "from sklearn.discriminant_analysis import LinearDiscriminantAnalysis\n",
    "lda = LinearDiscriminantAnalysis()\n",
    "lda.fit(X_train, y_train)\n",
    "print (f\"Model score: {lda.score(X_test, y_test)}\")\n",
    "print('Accuracy of LDA classifier on training set: {:.2f}'\n",
    "     .format(lda.score(X_train, y_train)))\n",
    "print('Accuracy of LDA classifier on test set: {:.2f}'\n",
    "     .format(lda.score(X_test, y_test)))"
   ],
   "outputs": [
    {
     "output_type": "stream",
     "name": "stdout",
     "text": [
      "Model score: 0.9444444444444444\n",
      "Accuracy of LDA classifier on training set: 1.00\n",
      "Accuracy of LDA classifier on test set: 0.94\n"
     ]
    }
   ],
   "metadata": {}
  },
  {
   "cell_type": "markdown",
   "source": [
    "## __3) Unsupervised Learning - KNN__"
   ],
   "metadata": {}
  },
  {
   "cell_type": "markdown",
   "source": [
    "### K Nearest Neighbour (KNN) clf 1"
   ],
   "metadata": {}
  },
  {
   "cell_type": "code",
   "execution_count": null,
   "source": [
    "from sklearn.neighbors import KNeighborsClassifier\n",
    "import matplotlib.pyplot as plt\n",
    "%matplotlib inline\n",
    "\n",
    "numNeighbors = [1, 5, 6,7,8, 10, 15, 20, 25, 30]\n",
    "trainAcc = []\n",
    "testAcc = []\n",
    "\n",
    "for k in numNeighbors:\n",
    "    clf1 = KNeighborsClassifier(n_neighbors=k, metric='minkowski', p=2)\n",
    "    clf1.fit(X_train, y_train)\n",
    "    Y_predTrain = clf1.predict(X_train)\n",
    "    Y_predTest = clf1.predict(X_test)\n",
    "    trainAcc.append(accuracy_score(y_train, Y_predTrain))\n",
    "    testAcc.append(accuracy_score(y_test, Y_predTest))\n",
    "\n",
    "plt.plot(numNeighbors, trainAcc, 'ro-', numNeighbors, testAcc,'bv--')\n",
    "plt.legend(['Training Accuracy','Test Accuracy'])\n",
    "plt.xlabel('Number of neighbors')\n",
    "plt.ylabel('Accuracy')\n",
    "\n",
    "print (f\"Model score: {clf1.score(X_test, y_test)}\")\n",
    "print(\"Highest training accuracy:\", max(trainAcc))\n",
    "print(\"Highest testing accuracy:\", max(testAcc))\n",
    "print(\"Lowest testing accuracy:\", min(testAcc))"
   ],
   "outputs": [
    {
     "output_type": "stream",
     "name": "stdout",
     "text": [
      "Model score: 0.5555555555555556\n",
      "Highest training accuracy: 1.0\n",
      "Highest testing accuracy: 0.9444444444444444\n",
      "Lowest testing accuracy: 0.2777777777777778\n"
     ]
    },
    {
     "output_type": "display_data",
     "data": {
      "image/png": "[encoded data removed]",
      "text/plain": [
       "<Figure size 432x288 with 1 Axes>"
      ]
     },
     "metadata": {
      "needs_background": "light"
     }
    }
   ],
   "metadata": {}
  },
  {
   "cell_type": "markdown",
   "source": [
    "### K-Means"
   ],
   "metadata": {}
  },
  {
   "cell_type": "markdown",
   "source": [
    "Decide how many clustering solutions to test."
   ],
   "metadata": {}
  },
  {
   "cell_type": "code",
   "execution_count": null,
   "source": [
    "from sklearn.cluster import KMeans\n",
    "wcss =[]\n",
    "for i in range(1,21):\n",
    "    kmeans_pca = KMeans(n_clusters =i,init='k-means++',random_state=0)\n",
    "    kmeans_pca.fit(X_pca)\n",
    "    wcss.append(kmeans_pca.inertia_)"
   ],
   "outputs": [],
   "metadata": {}
  },
  {
   "cell_type": "markdown",
   "source": [
    "Determine the number of clusters we’d like to keep. Use the Elbow-method"
   ],
   "metadata": {}
  },
  {
   "cell_type": "code",
   "execution_count": null,
   "source": [
    "plt.plot(range(1,21),wcss,marker='o',linestyle='--')\n",
    "plt.xlabel('Number of cluster')\n",
    "plt.ylabel('WCSS')\n",
    "plt.title('K-means with PCA Clustering')\n",
    "plt.show()"
   ],
   "outputs": [
    {
     "output_type": "display_data",
     "data": {
      "image/png": "[encoded data removed]",
      "text/plain": [
       "<Figure size 432x288 with 1 Axes>"
      ]
     },
     "metadata": {
      "needs_background": "light"
     }
    }
   ],
   "metadata": {}
  },
  {
   "cell_type": "markdown",
   "source": [
    "Initialise and fit data"
   ],
   "metadata": {}
  },
  {
   "cell_type": "code",
   "execution_count": null,
   "source": [
    "kmeans_pca = KMeans(n_clusters=3,init='k-means++',random_state=0)\n",
    "# fit data into kmeans model\n",
    "kmeans_pca.fit(X_pca)"
   ],
   "outputs": [
    {
     "output_type": "execute_result",
     "data": {
      "text/plain": [
       "KMeans(n_clusters=3, random_state=0)"
      ]
     },
     "metadata": {},
     "execution_count": 1764
    }
   ],
   "metadata": {}
  },
  {
   "cell_type": "code",
   "execution_count": null,
   "source": [
    "df_segm_pca_kmeans = pd.concat([dataset.reset_index(drop=True),pd.DataFrame(X_pca)],axis=1)\n",
    "df_segm_pca_kmeans.columns.values[-6:] =['PC1','PC2','PC3','PC4','PC5','PC6']\n",
    "df_segm_pca_kmeans['K-means']= kmeans_pca.labels_\n",
    "df_segm_pca_kmeans.head()"
   ],
   "outputs": [
    {
     "output_type": "execute_result",
     "data": {
      "text/html": [
       "<div>\n",
       "<style scoped>\n",
       "    .dataframe tbody tr th:only-of-type {\n",
       "        vertical-align: middle;\n",
       "    }\n",
       "\n",
       "    .dataframe tbody tr th {\n",
       "        vertical-align: top;\n",
       "    }\n",
       "\n",
       "    .dataframe thead th {\n",
       "        text-align: right;\n",
       "    }\n",
       "</style>\n",
       "<table border=\"1\" class=\"dataframe\">\n",
       "  <thead>\n",
       "    <tr style=\"text-align: right;\">\n",
       "      <th></th>\n",
       "      <th>Profile factor</th>\n",
       "      <th>Symmetry</th>\n",
       "      <th>Crossflow</th>\n",
       "      <th>Swirl Angle</th>\n",
       "      <th>Flow Velocity P1</th>\n",
       "      <th>Flow Velocity P2</th>\n",
       "      <th>Flow Velocity P3</th>\n",
       "      <th>Flow Velocity P4</th>\n",
       "      <th>Average Flow Velocity</th>\n",
       "      <th>Speed of Sound P1</th>\n",
       "      <th>...</th>\n",
       "      <th>Transit Time P4T</th>\n",
       "      <th>Transit Time P4R</th>\n",
       "      <th>Class</th>\n",
       "      <th>PC1</th>\n",
       "      <th>PC2</th>\n",
       "      <th>PC3</th>\n",
       "      <th>PC4</th>\n",
       "      <th>PC5</th>\n",
       "      <th>PC6</th>\n",
       "      <th>K-means</th>\n",
       "    </tr>\n",
       "  </thead>\n",
       "  <tbody>\n",
       "    <tr>\n",
       "      <th>0</th>\n",
       "      <td>1.18509</td>\n",
       "      <td>1.02813</td>\n",
       "      <td>1.01648</td>\n",
       "      <td>0.15000</td>\n",
       "      <td>2.19574</td>\n",
       "      <td>2.54094</td>\n",
       "      <td>2.51196</td>\n",
       "      <td>2.08789</td>\n",
       "      <td>2.39444</td>\n",
       "      <td>1483.86983</td>\n",
       "      <td>...</td>\n",
       "      <td>84.01905</td>\n",
       "      <td>83.91997</td>\n",
       "      <td>1</td>\n",
       "      <td>2.39343</td>\n",
       "      <td>-3.91634</td>\n",
       "      <td>0.26906</td>\n",
       "      <td>-0.27356</td>\n",
       "      <td>1.42223</td>\n",
       "      <td>-1.65552</td>\n",
       "      <td>0</td>\n",
       "    </tr>\n",
       "    <tr>\n",
       "      <th>1</th>\n",
       "      <td>1.19181</td>\n",
       "      <td>1.03375</td>\n",
       "      <td>1.01941</td>\n",
       "      <td>0.21700</td>\n",
       "      <td>2.19247</td>\n",
       "      <td>2.54659</td>\n",
       "      <td>2.51674</td>\n",
       "      <td>2.07571</td>\n",
       "      <td>2.39609</td>\n",
       "      <td>1483.74739</td>\n",
       "      <td>...</td>\n",
       "      <td>84.02561</td>\n",
       "      <td>83.92726</td>\n",
       "      <td>1</td>\n",
       "      <td>2.32804</td>\n",
       "      <td>-3.86697</td>\n",
       "      <td>0.26836</td>\n",
       "      <td>-0.38445</td>\n",
       "      <td>1.42419</td>\n",
       "      <td>-1.74416</td>\n",
       "      <td>0</td>\n",
       "    </tr>\n",
       "    <tr>\n",
       "      <th>2</th>\n",
       "      <td>1.18198</td>\n",
       "      <td>1.02809</td>\n",
       "      <td>1.02099</td>\n",
       "      <td>0.08890</td>\n",
       "      <td>3.24667</td>\n",
       "      <td>3.73838</td>\n",
       "      <td>3.71522</td>\n",
       "      <td>3.07936</td>\n",
       "      <td>3.52352</td>\n",
       "      <td>1483.77706</td>\n",
       "      <td>...</td>\n",
       "      <td>84.04781</td>\n",
       "      <td>83.90159</td>\n",
       "      <td>1</td>\n",
       "      <td>2.05864</td>\n",
       "      <td>-3.47697</td>\n",
       "      <td>1.14106</td>\n",
       "      <td>-0.03141</td>\n",
       "      <td>0.58310</td>\n",
       "      <td>-1.36027</td>\n",
       "      <td>0</td>\n",
       "    </tr>\n",
       "    <tr>\n",
       "      <th>3</th>\n",
       "      <td>1.18276</td>\n",
       "      <td>1.02878</td>\n",
       "      <td>1.02107</td>\n",
       "      <td>0.11700</td>\n",
       "      <td>3.24449</td>\n",
       "      <td>3.74186</td>\n",
       "      <td>3.71884</td>\n",
       "      <td>3.08040</td>\n",
       "      <td>3.52593</td>\n",
       "      <td>1483.84744</td>\n",
       "      <td>...</td>\n",
       "      <td>84.04372</td>\n",
       "      <td>83.89760</td>\n",
       "      <td>1</td>\n",
       "      <td>2.05645</td>\n",
       "      <td>-3.34874</td>\n",
       "      <td>1.15899</td>\n",
       "      <td>0.00232</td>\n",
       "      <td>0.56991</td>\n",
       "      <td>-1.30275</td>\n",
       "      <td>0</td>\n",
       "    </tr>\n",
       "    <tr>\n",
       "      <th>4</th>\n",
       "      <td>1.18227</td>\n",
       "      <td>1.02892</td>\n",
       "      <td>1.02135</td>\n",
       "      <td>0.02220</td>\n",
       "      <td>3.24594</td>\n",
       "      <td>3.74222</td>\n",
       "      <td>3.71546</td>\n",
       "      <td>3.08095</td>\n",
       "      <td>3.52513</td>\n",
       "      <td>1483.81906</td>\n",
       "      <td>...</td>\n",
       "      <td>84.04535</td>\n",
       "      <td>83.89896</td>\n",
       "      <td>1</td>\n",
       "      <td>2.07041</td>\n",
       "      <td>-3.45097</td>\n",
       "      <td>1.17343</td>\n",
       "      <td>0.03617</td>\n",
       "      <td>0.58930</td>\n",
       "      <td>-1.34888</td>\n",
       "      <td>0</td>\n",
       "    </tr>\n",
       "  </tbody>\n",
       "</table>\n",
       "<p>5 rows × 59 columns</p>\n",
       "</div>"
      ],
      "text/plain": [
       "   Profile factor  Symmetry  Crossflow  Swirl Angle  Flow Velocity P1  \\\n",
       "0         1.18509   1.02813    1.01648      0.15000           2.19574   \n",
       "1         1.19181   1.03375    1.01941      0.21700           2.19247   \n",
       "2         1.18198   1.02809    1.02099      0.08890           3.24667   \n",
       "3         1.18276   1.02878    1.02107      0.11700           3.24449   \n",
       "4         1.18227   1.02892    1.02135      0.02220           3.24594   \n",
       "\n",
       "   Flow Velocity P2  Flow Velocity P3  Flow Velocity P4  \\\n",
       "0           2.54094           2.51196           2.08789   \n",
       "1           2.54659           2.51674           2.07571   \n",
       "2           3.73838           3.71522           3.07936   \n",
       "3           3.74186           3.71884           3.08040   \n",
       "4           3.74222           3.71546           3.08095   \n",
       "\n",
       "   Average Flow Velocity  Speed of Sound P1  ...  Transit Time P4T  \\\n",
       "0                2.39444         1483.86983  ...          84.01905   \n",
       "1                2.39609         1483.74739  ...          84.02561   \n",
       "2                3.52352         1483.77706  ...          84.04781   \n",
       "3                3.52593         1483.84744  ...          84.04372   \n",
       "4                3.52513         1483.81906  ...          84.04535   \n",
       "\n",
       "   Transit Time P4R  Class     PC1      PC2     PC3      PC4     PC5      PC6  \\\n",
       "0          83.91997      1 2.39343 -3.91634 0.26906 -0.27356 1.42223 -1.65552   \n",
       "1          83.92726      1 2.32804 -3.86697 0.26836 -0.38445 1.42419 -1.74416   \n",
       "2          83.90159      1 2.05864 -3.47697 1.14106 -0.03141 0.58310 -1.36027   \n",
       "3          83.89760      1 2.05645 -3.34874 1.15899  0.00232 0.56991 -1.30275   \n",
       "4          83.89896      1 2.07041 -3.45097 1.17343  0.03617 0.58930 -1.34888   \n",
       "\n",
       "   K-means  \n",
       "0        0  \n",
       "1        0  \n",
       "2        0  \n",
       "3        0  \n",
       "4        0  \n",
       "\n",
       "[5 rows x 59 columns]"
      ]
     },
     "metadata": {},
     "execution_count": 1765
    }
   ],
   "metadata": {}
  },
  {
   "cell_type": "code",
   "execution_count": null,
   "source": [
    "df_segm_pca_kmeans['k_means_class']=df_segm_pca_kmeans['K-means'].map({0:1,1:3,2:2})"
   ],
   "outputs": [],
   "metadata": {}
  },
  {
   "cell_type": "code",
   "execution_count": null,
   "source": [
    "import seaborn as sns\n",
    "x_axis= df_segm_pca_kmeans['PC1']\n",
    "y_axis= df_segm_pca_kmeans['PC2']\n",
    "sns.scatterplot(x_axis,y_axis,hue=df_segm_pca_kmeans['k_means_class'],palette=['g','r','c'])\n",
    "plt.title('Clusters by PCA with K-means')\n",
    "plt.show()"
   ],
   "outputs": [
    {
     "output_type": "stream",
     "name": "stderr",
     "text": [
      "/Users/kenjileong/opt/anaconda3/lib/python3.9/site-packages/seaborn/_decorators.py:36: FutureWarning: Pass the following variables as keyword args: x, y. From version 0.12, the only valid positional argument will be `data`, and passing other arguments without an explicit keyword will result in an error or misinterpretation.\n",
      "  warnings.warn(\n"
     ]
    },
    {
     "output_type": "display_data",
     "data": {
      "image/png": "[encoded data removed]",
      "text/plain": [
       "<Figure size 432x288 with 1 Axes>"
      ]
     },
     "metadata": {
      "needs_background": "light"
     }
    }
   ],
   "metadata": {}
  },
  {
   "cell_type": "code",
   "execution_count": null,
   "source": [
    "plt.scatter(X_pca[:, 0], X_pca[:, 1], c=y_kmeans, s=50, cmap='viridis')\n",
    "centers = kmeans.cluster_centers_\n",
    "plt.scatter(centers[:, 0], centers[:, 1], c='black', s=200, alpha=0.5)\n",
    "plt.title('Clusters by PCA with K-Means - Centroid')\n",
    "plt.show()"
   ],
   "outputs": [
    {
     "output_type": "display_data",
     "data": {
      "image/png": "[encoded data removed]",
      "text/plain": [
       "<Figure size 432x288 with 1 Axes>"
      ]
     },
     "metadata": {
      "needs_background": "light"
     }
    }
   ],
   "metadata": {}
  },
  {
   "cell_type": "markdown",
   "source": [
    "Percentage change between PCA and PCA with K-means__"
   ],
   "metadata": {}
  },
  {
   "cell_type": "code",
   "execution_count": null,
   "source": [
    "# drop pca columns\n",
    "df_segm_pca_kmeans = df_segm_pca_kmeans.drop(['Class','PC1','PC2','PC3','PC4','PC5','PC6','K-means'],axis=1)\n",
    "print(df_segm_pca_kmeans.shape)\n",
    "df_segm_pca_kmeans.head()"
   ],
   "outputs": [
    {
     "output_type": "stream",
     "name": "stdout",
     "text": [
      "(58, 52)\n"
     ]
    },
    {
     "output_type": "execute_result",
     "data": {
      "text/html": [
       "<div>\n",
       "<style scoped>\n",
       "    .dataframe tbody tr th:only-of-type {\n",
       "        vertical-align: middle;\n",
       "    }\n",
       "\n",
       "    .dataframe tbody tr th {\n",
       "        vertical-align: top;\n",
       "    }\n",
       "\n",
       "    .dataframe thead th {\n",
       "        text-align: right;\n",
       "    }\n",
       "</style>\n",
       "<table border=\"1\" class=\"dataframe\">\n",
       "  <thead>\n",
       "    <tr style=\"text-align: right;\">\n",
       "      <th></th>\n",
       "      <th>Profile factor</th>\n",
       "      <th>Symmetry</th>\n",
       "      <th>Crossflow</th>\n",
       "      <th>Swirl Angle</th>\n",
       "      <th>Flow Velocity P1</th>\n",
       "      <th>Flow Velocity P2</th>\n",
       "      <th>Flow Velocity P3</th>\n",
       "      <th>Flow Velocity P4</th>\n",
       "      <th>Average Flow Velocity</th>\n",
       "      <th>Speed of Sound P1</th>\n",
       "      <th>...</th>\n",
       "      <th>Gain P4R</th>\n",
       "      <th>Transit Time P1T</th>\n",
       "      <th>Transit Time P1R</th>\n",
       "      <th>Transit Time P2T</th>\n",
       "      <th>Transit Time P2R</th>\n",
       "      <th>Transit Time P3T</th>\n",
       "      <th>Transit Time P3R</th>\n",
       "      <th>Transit Time P4T</th>\n",
       "      <th>Transit Time P4R</th>\n",
       "      <th>k_means_class</th>\n",
       "    </tr>\n",
       "  </thead>\n",
       "  <tbody>\n",
       "    <tr>\n",
       "      <th>0</th>\n",
       "      <td>1.18509</td>\n",
       "      <td>1.02813</td>\n",
       "      <td>1.01648</td>\n",
       "      <td>0.15000</td>\n",
       "      <td>2.19574</td>\n",
       "      <td>2.54094</td>\n",
       "      <td>2.51196</td>\n",
       "      <td>2.08789</td>\n",
       "      <td>2.39444</td>\n",
       "      <td>1483.86983</td>\n",
       "      <td>...</td>\n",
       "      <td>49.80000</td>\n",
       "      <td>84.10707</td>\n",
       "      <td>84.00310</td>\n",
       "      <td>120.33878</td>\n",
       "      <td>120.14424</td>\n",
       "      <td>120.37177</td>\n",
       "      <td>120.17908</td>\n",
       "      <td>84.01905</td>\n",
       "      <td>83.91997</td>\n",
       "      <td>1</td>\n",
       "    </tr>\n",
       "    <tr>\n",
       "      <th>1</th>\n",
       "      <td>1.19181</td>\n",
       "      <td>1.03375</td>\n",
       "      <td>1.01941</td>\n",
       "      <td>0.21700</td>\n",
       "      <td>2.19247</td>\n",
       "      <td>2.54659</td>\n",
       "      <td>2.51674</td>\n",
       "      <td>2.07571</td>\n",
       "      <td>2.39609</td>\n",
       "      <td>1483.74739</td>\n",
       "      <td>...</td>\n",
       "      <td>49.80000</td>\n",
       "      <td>84.11412</td>\n",
       "      <td>84.00997</td>\n",
       "      <td>120.34909</td>\n",
       "      <td>120.15389</td>\n",
       "      <td>120.38170</td>\n",
       "      <td>120.18880</td>\n",
       "      <td>84.02561</td>\n",
       "      <td>83.92726</td>\n",
       "      <td>1</td>\n",
       "    </tr>\n",
       "    <tr>\n",
       "      <th>2</th>\n",
       "      <td>1.18198</td>\n",
       "      <td>1.02809</td>\n",
       "      <td>1.02099</td>\n",
       "      <td>0.08890</td>\n",
       "      <td>3.24667</td>\n",
       "      <td>3.73838</td>\n",
       "      <td>3.71522</td>\n",
       "      <td>3.07936</td>\n",
       "      <td>3.52352</td>\n",
       "      <td>1483.77706</td>\n",
       "      <td>...</td>\n",
       "      <td>49.80000</td>\n",
       "      <td>84.13749</td>\n",
       "      <td>83.98334</td>\n",
       "      <td>120.39245</td>\n",
       "      <td>120.10621</td>\n",
       "      <td>120.42542</td>\n",
       "      <td>120.14058</td>\n",
       "      <td>84.04781</td>\n",
       "      <td>83.90159</td>\n",
       "      <td>1</td>\n",
       "    </tr>\n",
       "    <tr>\n",
       "      <th>3</th>\n",
       "      <td>1.18276</td>\n",
       "      <td>1.02878</td>\n",
       "      <td>1.02107</td>\n",
       "      <td>0.11700</td>\n",
       "      <td>3.24449</td>\n",
       "      <td>3.74186</td>\n",
       "      <td>3.71884</td>\n",
       "      <td>3.08040</td>\n",
       "      <td>3.52593</td>\n",
       "      <td>1483.84744</td>\n",
       "      <td>...</td>\n",
       "      <td>49.80000</td>\n",
       "      <td>84.13349</td>\n",
       "      <td>83.97941</td>\n",
       "      <td>120.38703</td>\n",
       "      <td>120.10044</td>\n",
       "      <td>120.41988</td>\n",
       "      <td>120.13493</td>\n",
       "      <td>84.04372</td>\n",
       "      <td>83.89760</td>\n",
       "      <td>1</td>\n",
       "    </tr>\n",
       "    <tr>\n",
       "      <th>4</th>\n",
       "      <td>1.18227</td>\n",
       "      <td>1.02892</td>\n",
       "      <td>1.02135</td>\n",
       "      <td>0.02220</td>\n",
       "      <td>3.24594</td>\n",
       "      <td>3.74222</td>\n",
       "      <td>3.71546</td>\n",
       "      <td>3.08095</td>\n",
       "      <td>3.52513</td>\n",
       "      <td>1483.81906</td>\n",
       "      <td>...</td>\n",
       "      <td>49.80000</td>\n",
       "      <td>84.13535</td>\n",
       "      <td>83.98081</td>\n",
       "      <td>120.38936</td>\n",
       "      <td>120.10280</td>\n",
       "      <td>120.42205</td>\n",
       "      <td>120.13747</td>\n",
       "      <td>84.04535</td>\n",
       "      <td>83.89896</td>\n",
       "      <td>1</td>\n",
       "    </tr>\n",
       "  </tbody>\n",
       "</table>\n",
       "<p>5 rows × 52 columns</p>\n",
       "</div>"
      ],
      "text/plain": [
       "   Profile factor  Symmetry  Crossflow  Swirl Angle  Flow Velocity P1  \\\n",
       "0         1.18509   1.02813    1.01648      0.15000           2.19574   \n",
       "1         1.19181   1.03375    1.01941      0.21700           2.19247   \n",
       "2         1.18198   1.02809    1.02099      0.08890           3.24667   \n",
       "3         1.18276   1.02878    1.02107      0.11700           3.24449   \n",
       "4         1.18227   1.02892    1.02135      0.02220           3.24594   \n",
       "\n",
       "   Flow Velocity P2  Flow Velocity P3  Flow Velocity P4  \\\n",
       "0           2.54094           2.51196           2.08789   \n",
       "1           2.54659           2.51674           2.07571   \n",
       "2           3.73838           3.71522           3.07936   \n",
       "3           3.74186           3.71884           3.08040   \n",
       "4           3.74222           3.71546           3.08095   \n",
       "\n",
       "   Average Flow Velocity  Speed of Sound P1  ...  Gain P4R  Transit Time P1T  \\\n",
       "0                2.39444         1483.86983  ...  49.80000          84.10707   \n",
       "1                2.39609         1483.74739  ...  49.80000          84.11412   \n",
       "2                3.52352         1483.77706  ...  49.80000          84.13749   \n",
       "3                3.52593         1483.84744  ...  49.80000          84.13349   \n",
       "4                3.52513         1483.81906  ...  49.80000          84.13535   \n",
       "\n",
       "   Transit Time P1R  Transit Time P2T  Transit Time P2R  Transit Time P3T  \\\n",
       "0          84.00310         120.33878         120.14424         120.37177   \n",
       "1          84.00997         120.34909         120.15389         120.38170   \n",
       "2          83.98334         120.39245         120.10621         120.42542   \n",
       "3          83.97941         120.38703         120.10044         120.41988   \n",
       "4          83.98081         120.38936         120.10280         120.42205   \n",
       "\n",
       "   Transit Time P3R  Transit Time P4T  Transit Time P4R  k_means_class  \n",
       "0         120.17908          84.01905          83.91997              1  \n",
       "1         120.18880          84.02561          83.92726              1  \n",
       "2         120.14058          84.04781          83.90159              1  \n",
       "3         120.13493          84.04372          83.89760              1  \n",
       "4         120.13747          84.04535          83.89896              1  \n",
       "\n",
       "[5 rows x 52 columns]"
      ]
     },
     "metadata": {},
     "execution_count": 1769
    }
   ],
   "metadata": {}
  },
  {
   "cell_type": "code",
   "execution_count": null,
   "source": [
    "print(df_median_meterB.shape)\n",
    "df_median_meterB.head()"
   ],
   "outputs": [
    {
     "output_type": "stream",
     "name": "stdout",
     "text": [
      "(58, 52)\n"
     ]
    },
    {
     "output_type": "execute_result",
     "data": {
      "text/html": [
       "<div>\n",
       "<style scoped>\n",
       "    .dataframe tbody tr th:only-of-type {\n",
       "        vertical-align: middle;\n",
       "    }\n",
       "\n",
       "    .dataframe tbody tr th {\n",
       "        vertical-align: top;\n",
       "    }\n",
       "\n",
       "    .dataframe thead th {\n",
       "        text-align: right;\n",
       "    }\n",
       "</style>\n",
       "<table border=\"1\" class=\"dataframe\">\n",
       "  <thead>\n",
       "    <tr style=\"text-align: right;\">\n",
       "      <th></th>\n",
       "      <th>Profile factor</th>\n",
       "      <th>Symmetry</th>\n",
       "      <th>Crossflow</th>\n",
       "      <th>Swirl Angle</th>\n",
       "      <th>Flow Velocity P1</th>\n",
       "      <th>Flow Velocity P2</th>\n",
       "      <th>Flow Velocity P3</th>\n",
       "      <th>Flow Velocity P4</th>\n",
       "      <th>Average Flow Velocity</th>\n",
       "      <th>Speed of Sound P1</th>\n",
       "      <th>...</th>\n",
       "      <th>Gain P4R</th>\n",
       "      <th>Transit Time P1T</th>\n",
       "      <th>Transit Time P1R</th>\n",
       "      <th>Transit Time P2T</th>\n",
       "      <th>Transit Time P2R</th>\n",
       "      <th>Transit Time P3T</th>\n",
       "      <th>Transit Time P3R</th>\n",
       "      <th>Transit Time P4T</th>\n",
       "      <th>Transit Time P4R</th>\n",
       "      <th>Class</th>\n",
       "    </tr>\n",
       "  </thead>\n",
       "  <tbody>\n",
       "    <tr>\n",
       "      <th>0</th>\n",
       "      <td>1.18509</td>\n",
       "      <td>1.02813</td>\n",
       "      <td>1.01648</td>\n",
       "      <td>0.15000</td>\n",
       "      <td>2.19574</td>\n",
       "      <td>2.54094</td>\n",
       "      <td>2.51196</td>\n",
       "      <td>2.08789</td>\n",
       "      <td>2.39444</td>\n",
       "      <td>1483.86983</td>\n",
       "      <td>...</td>\n",
       "      <td>49.80000</td>\n",
       "      <td>84.10707</td>\n",
       "      <td>84.00310</td>\n",
       "      <td>120.33878</td>\n",
       "      <td>120.14424</td>\n",
       "      <td>120.37177</td>\n",
       "      <td>120.17908</td>\n",
       "      <td>84.01905</td>\n",
       "      <td>83.91997</td>\n",
       "      <td>1</td>\n",
       "    </tr>\n",
       "    <tr>\n",
       "      <th>1</th>\n",
       "      <td>1.19181</td>\n",
       "      <td>1.03375</td>\n",
       "      <td>1.01941</td>\n",
       "      <td>0.21700</td>\n",
       "      <td>2.19247</td>\n",
       "      <td>2.54659</td>\n",
       "      <td>2.51674</td>\n",
       "      <td>2.07571</td>\n",
       "      <td>2.39609</td>\n",
       "      <td>1483.74739</td>\n",
       "      <td>...</td>\n",
       "      <td>49.80000</td>\n",
       "      <td>84.11412</td>\n",
       "      <td>84.00997</td>\n",
       "      <td>120.34909</td>\n",
       "      <td>120.15389</td>\n",
       "      <td>120.38170</td>\n",
       "      <td>120.18880</td>\n",
       "      <td>84.02561</td>\n",
       "      <td>83.92726</td>\n",
       "      <td>1</td>\n",
       "    </tr>\n",
       "    <tr>\n",
       "      <th>2</th>\n",
       "      <td>1.18198</td>\n",
       "      <td>1.02809</td>\n",
       "      <td>1.02099</td>\n",
       "      <td>0.08890</td>\n",
       "      <td>3.24667</td>\n",
       "      <td>3.73838</td>\n",
       "      <td>3.71522</td>\n",
       "      <td>3.07936</td>\n",
       "      <td>3.52352</td>\n",
       "      <td>1483.77706</td>\n",
       "      <td>...</td>\n",
       "      <td>49.80000</td>\n",
       "      <td>84.13749</td>\n",
       "      <td>83.98334</td>\n",
       "      <td>120.39245</td>\n",
       "      <td>120.10621</td>\n",
       "      <td>120.42542</td>\n",
       "      <td>120.14058</td>\n",
       "      <td>84.04781</td>\n",
       "      <td>83.90159</td>\n",
       "      <td>1</td>\n",
       "    </tr>\n",
       "    <tr>\n",
       "      <th>3</th>\n",
       "      <td>1.18276</td>\n",
       "      <td>1.02878</td>\n",
       "      <td>1.02107</td>\n",
       "      <td>0.11700</td>\n",
       "      <td>3.24449</td>\n",
       "      <td>3.74186</td>\n",
       "      <td>3.71884</td>\n",
       "      <td>3.08040</td>\n",
       "      <td>3.52593</td>\n",
       "      <td>1483.84744</td>\n",
       "      <td>...</td>\n",
       "      <td>49.80000</td>\n",
       "      <td>84.13349</td>\n",
       "      <td>83.97941</td>\n",
       "      <td>120.38703</td>\n",
       "      <td>120.10044</td>\n",
       "      <td>120.41988</td>\n",
       "      <td>120.13493</td>\n",
       "      <td>84.04372</td>\n",
       "      <td>83.89760</td>\n",
       "      <td>1</td>\n",
       "    </tr>\n",
       "    <tr>\n",
       "      <th>4</th>\n",
       "      <td>1.18227</td>\n",
       "      <td>1.02892</td>\n",
       "      <td>1.02135</td>\n",
       "      <td>0.02220</td>\n",
       "      <td>3.24594</td>\n",
       "      <td>3.74222</td>\n",
       "      <td>3.71546</td>\n",
       "      <td>3.08095</td>\n",
       "      <td>3.52513</td>\n",
       "      <td>1483.81906</td>\n",
       "      <td>...</td>\n",
       "      <td>49.80000</td>\n",
       "      <td>84.13535</td>\n",
       "      <td>83.98081</td>\n",
       "      <td>120.38936</td>\n",
       "      <td>120.10280</td>\n",
       "      <td>120.42205</td>\n",
       "      <td>120.13747</td>\n",
       "      <td>84.04535</td>\n",
       "      <td>83.89896</td>\n",
       "      <td>1</td>\n",
       "    </tr>\n",
       "  </tbody>\n",
       "</table>\n",
       "<p>5 rows × 52 columns</p>\n",
       "</div>"
      ],
      "text/plain": [
       "   Profile factor  Symmetry  Crossflow  Swirl Angle  Flow Velocity P1  \\\n",
       "0         1.18509   1.02813    1.01648      0.15000           2.19574   \n",
       "1         1.19181   1.03375    1.01941      0.21700           2.19247   \n",
       "2         1.18198   1.02809    1.02099      0.08890           3.24667   \n",
       "3         1.18276   1.02878    1.02107      0.11700           3.24449   \n",
       "4         1.18227   1.02892    1.02135      0.02220           3.24594   \n",
       "\n",
       "   Flow Velocity P2  Flow Velocity P3  Flow Velocity P4  \\\n",
       "0           2.54094           2.51196           2.08789   \n",
       "1           2.54659           2.51674           2.07571   \n",
       "2           3.73838           3.71522           3.07936   \n",
       "3           3.74186           3.71884           3.08040   \n",
       "4           3.74222           3.71546           3.08095   \n",
       "\n",
       "   Average Flow Velocity  Speed of Sound P1  ...  Gain P4R  Transit Time P1T  \\\n",
       "0                2.39444         1483.86983  ...  49.80000          84.10707   \n",
       "1                2.39609         1483.74739  ...  49.80000          84.11412   \n",
       "2                3.52352         1483.77706  ...  49.80000          84.13749   \n",
       "3                3.52593         1483.84744  ...  49.80000          84.13349   \n",
       "4                3.52513         1483.81906  ...  49.80000          84.13535   \n",
       "\n",
       "   Transit Time P1R  Transit Time P2T  Transit Time P2R  Transit Time P3T  \\\n",
       "0          84.00310         120.33878         120.14424         120.37177   \n",
       "1          84.00997         120.34909         120.15389         120.38170   \n",
       "2          83.98334         120.39245         120.10621         120.42542   \n",
       "3          83.97941         120.38703         120.10044         120.41988   \n",
       "4          83.98081         120.38936         120.10280         120.42205   \n",
       "\n",
       "   Transit Time P3R  Transit Time P4T  Transit Time P4R  Class  \n",
       "0         120.17908          84.01905          83.91997      1  \n",
       "1         120.18880          84.02561          83.92726      1  \n",
       "2         120.14058          84.04781          83.90159      1  \n",
       "3         120.13493          84.04372          83.89760      1  \n",
       "4         120.13747          84.04535          83.89896      1  \n",
       "\n",
       "[5 rows x 52 columns]"
      ]
     },
     "metadata": {},
     "execution_count": 1770
    }
   ],
   "metadata": {}
  },
  {
   "cell_type": "code",
   "execution_count": null,
   "source": [
    "# reset index\n",
    "df_median_meterB = df_median_meterB.reset_index(drop=True)\n",
    "df_segm_pca_kmeans = df_segm_pca_kmeans.reset_index(drop=True)\n",
    "\n",
    "df = pd.concat(\n",
    "    [df_median_meterB[['Class']], df_segm_pca_kmeans[['k_means_class']]],\n",
    "    axis=1)\n",
    "\n",
    "print(df['Class'].value_counts())\n",
    "print(df['k_means_class'].value_counts())\n",
    "\n",
    "df['compare'] = np.where(df['Class'] == df['k_means_class'], 'True', 'False')\n",
    "changes = (df['compare'].values == 'False').sum()\n",
    "percentage_change = (changes / df.shape[0]) * 100\n",
    "print('Percentage change: ' + str(round(percentage_change, 2)))"
   ],
   "outputs": [
    {
     "output_type": "stream",
     "name": "stdout",
     "text": [
      "3    29\n",
      "1    19\n",
      "2    10\n",
      "Name: Class, dtype: int64\n",
      "3    29\n",
      "1    25\n",
      "2     4\n",
      "Name: k_means_class, dtype: int64\n",
      "Percentage change: 10.34\n"
     ]
    }
   ],
   "metadata": {}
  },
  {
   "cell_type": "code",
   "execution_count": null,
   "source": [
    "ax = sns.countplot(x=dataset['Class'], label=\"Count\") \n",
    "ax.bar_label(ax.containers[0]) \n",
    "ax.set_xticklabels(['Healthy', 'Gas injection',  'Waxing'], fontsize=8) \n",
    "plt.show()"
   ],
   "outputs": [
    {
     "output_type": "display_data",
     "data": {
      "image/png": "[encoded data removed]",
      "text/plain": [
       "<Figure size 432x288 with 1 Axes>"
      ]
     },
     "metadata": {
      "needs_background": "light"
     }
    }
   ],
   "metadata": {}
  },
  {
   "cell_type": "markdown",
   "source": [
    "## __4) Anomaly Detection using Random Forest__"
   ],
   "metadata": {}
  },
  {
   "cell_type": "code",
   "execution_count": null,
   "source": [
    "from sklearn.decomposition import PCA\n",
    "\n",
    "pca = PCA()\n",
    "X_train = pca.fit_transform(X_train)\n",
    "X_test = pca.transform(X_test)"
   ],
   "outputs": [],
   "metadata": {}
  },
  {
   "cell_type": "code",
   "execution_count": null,
   "source": [
    "from sklearn.ensemble import RandomForestClassifier\n",
    "\n",
    "classifier = RandomForestClassifier(max_depth=2, random_state=0)\n",
    "# test set \n",
    "classifier.fit(X_train, y_train)\n",
    "y_pred = classifier.predict(X_test)\n"
   ],
   "outputs": [],
   "metadata": {}
  },
  {
   "cell_type": "code",
   "execution_count": null,
   "source": [
    "from sklearn.metrics import confusion_matrix\n",
    "from sklearn.metrics import accuracy_score\n",
    "import seaborn as sn\n",
    "\n",
    "array_cm = confusion_matrix(y_test, y_pred)\n",
    "ax = plt.subplot()\n",
    "sn.heatmap(array_cm, annot=True, fmt='g', ax=ax);  \n",
    "\n",
    "# labels, title and ticks\n",
    "ax.set_xlabel('Predicted labels')\n",
    "ax.set_ylabel('True labels')\n",
    "ax.set_title('Confusion Matrix')\n",
    "\n",
    "plt.show()\n",
    "\n",
    "print('Accuracy : ' + str(accuracy_score(y_test, y_pred)))"
   ],
   "outputs": [
    {
     "output_type": "display_data",
     "data": {
      "image/png": "[encoded data removed]",
      "text/plain": [
       "<Figure size 432x288 with 2 Axes>"
      ]
     },
     "metadata": {
      "needs_background": "light"
     }
    },
    {
     "output_type": "stream",
     "name": "stdout",
     "text": [
      "Accuracy : 0.9444444444444444\n"
     ]
    }
   ],
   "metadata": {}
  },
  {
   "cell_type": "markdown",
   "source": [
    "## __5) Anomaly Detection using Linear Regression(MSE, MAE, RMSE)__"
   ],
   "metadata": {}
  },
  {
   "cell_type": "code",
   "execution_count": null,
   "source": [
    "from sklearn.linear_model import LinearRegression\n",
    "from sklearn import metrics\n",
    "\n",
    "df = pd.DataFrame(X_pca_kmeans)\n",
    "df.head()"
   ],
   "outputs": [
    {
     "output_type": "execute_result",
     "data": {
      "text/html": [
       "<div>\n",
       "<style scoped>\n",
       "    .dataframe tbody tr th:only-of-type {\n",
       "        vertical-align: middle;\n",
       "    }\n",
       "\n",
       "    .dataframe tbody tr th {\n",
       "        vertical-align: top;\n",
       "    }\n",
       "\n",
       "    .dataframe thead th {\n",
       "        text-align: right;\n",
       "    }\n",
       "</style>\n",
       "<table border=\"1\" class=\"dataframe\">\n",
       "  <thead>\n",
       "    <tr style=\"text-align: right;\">\n",
       "      <th></th>\n",
       "      <th>0</th>\n",
       "      <th>1</th>\n",
       "      <th>2</th>\n",
       "      <th>3</th>\n",
       "      <th>4</th>\n",
       "      <th>5</th>\n",
       "    </tr>\n",
       "  </thead>\n",
       "  <tbody>\n",
       "    <tr>\n",
       "      <th>0</th>\n",
       "      <td>2.39343</td>\n",
       "      <td>-3.91634</td>\n",
       "      <td>0.26906</td>\n",
       "      <td>-0.27356</td>\n",
       "      <td>1.42223</td>\n",
       "      <td>-1.65552</td>\n",
       "    </tr>\n",
       "    <tr>\n",
       "      <th>1</th>\n",
       "      <td>2.32804</td>\n",
       "      <td>-3.86697</td>\n",
       "      <td>0.26836</td>\n",
       "      <td>-0.38445</td>\n",
       "      <td>1.42419</td>\n",
       "      <td>-1.74416</td>\n",
       "    </tr>\n",
       "    <tr>\n",
       "      <th>2</th>\n",
       "      <td>2.05864</td>\n",
       "      <td>-3.47697</td>\n",
       "      <td>1.14106</td>\n",
       "      <td>-0.03141</td>\n",
       "      <td>0.58310</td>\n",
       "      <td>-1.36027</td>\n",
       "    </tr>\n",
       "    <tr>\n",
       "      <th>3</th>\n",
       "      <td>2.05645</td>\n",
       "      <td>-3.34874</td>\n",
       "      <td>1.15899</td>\n",
       "      <td>0.00232</td>\n",
       "      <td>0.56991</td>\n",
       "      <td>-1.30275</td>\n",
       "    </tr>\n",
       "    <tr>\n",
       "      <th>4</th>\n",
       "      <td>2.07041</td>\n",
       "      <td>-3.45097</td>\n",
       "      <td>1.17343</td>\n",
       "      <td>0.03617</td>\n",
       "      <td>0.58930</td>\n",
       "      <td>-1.34888</td>\n",
       "    </tr>\n",
       "  </tbody>\n",
       "</table>\n",
       "</div>"
      ],
      "text/plain": [
       "        0        1       2        3       4        5\n",
       "0 2.39343 -3.91634 0.26906 -0.27356 1.42223 -1.65552\n",
       "1 2.32804 -3.86697 0.26836 -0.38445 1.42419 -1.74416\n",
       "2 2.05864 -3.47697 1.14106 -0.03141 0.58310 -1.36027\n",
       "3 2.05645 -3.34874 1.15899  0.00232 0.56991 -1.30275\n",
       "4 2.07041 -3.45097 1.17343  0.03617 0.58930 -1.34888"
      ]
     },
     "metadata": {},
     "execution_count": 1776
    }
   ],
   "metadata": {}
  },
  {
   "cell_type": "code",
   "execution_count": null,
   "source": [
    "XTemp = df[0].values.reshape(-1, 1)\n",
    "yTemp = df[1].values.reshape(-1, 1)"
   ],
   "outputs": [],
   "metadata": {}
  },
  {
   "cell_type": "code",
   "execution_count": null,
   "source": [
    "X_trainTemp, X_testTemp, y_trainTemp, y_testTemp = train_test_split(\n",
    "        XTemp, yTemp, test_size=0.3, random_state=0)"
   ],
   "outputs": [],
   "metadata": {}
  },
  {
   "cell_type": "code",
   "execution_count": null,
   "source": [
    "regressorTemp = LinearRegression()\n",
    "regressorTemp.fit(X_trainTemp, y_trainTemp)\n",
    "y_predTemp = regressorTemp.predict(X_testTemp)"
   ],
   "outputs": [],
   "metadata": {}
  },
  {
   "cell_type": "code",
   "execution_count": null,
   "source": [
    "print('Mean Absolute Error:',\n",
    "          metrics.mean_absolute_error(y_testTemp, y_predTemp))\n",
    "print('Mean Squared Error:',\n",
    "        metrics.mean_squared_error(y_testTemp, y_predTemp))\n",
    "print('Root Mean Squared Error:',\n",
    "        np.sqrt(metrics.mean_squared_error(y_testTemp, y_predTemp)))\n",
    "# get intercept:\n",
    "print(\"y intercept: \" + str(regressorTemp.intercept_))\n",
    "# get slope:\n",
    "print(\"slope: \" + str(regressorTemp.coef_))"
   ],
   "outputs": [
    {
     "output_type": "stream",
     "name": "stdout",
     "text": [
      "Mean Absolute Error: 2.0697717233022304\n",
      "Mean Squared Error: 16.366220571509206\n",
      "Root Mean Squared Error: 4.0455185788115235\n",
      "y intercept: [-0.09639048]\n",
      "slope: [[-0.07912449]]\n"
     ]
    }
   ],
   "metadata": {}
  },
  {
   "cell_type": "code",
   "execution_count": null,
   "source": [
    "# show training set\n",
    "plt.scatter(X_trainTemp, y_trainTemp, color='red')\n",
    "plt.plot(X_trainTemp, regressorTemp.predict(X_trainTemp), color='blue')\n",
    "plt.title('PC1 vs PC2 (Training set)')\n",
    "plt.xlabel('PC1')\n",
    "plt.ylabel('PC2')"
   ],
   "outputs": [
    {
     "output_type": "execute_result",
     "data": {
      "text/plain": [
       "Text(0, 0.5, 'PC2')"
      ]
     },
     "metadata": {},
     "execution_count": 1781
    },
    {
     "output_type": "display_data",
     "data": {
      "image/png": "[encoded data removed]",
      "text/plain": [
       "<Figure size 432x288 with 1 Axes>"
      ]
     },
     "metadata": {
      "needs_background": "light"
     }
    }
   ],
   "metadata": {}
  },
  {
   "cell_type": "code",
   "execution_count": null,
   "source": [
    "  # show test set\n",
    "plt.scatter(X_testTemp, y_testTemp, color='red')\n",
    "plt.plot(X_trainTemp, regressorTemp.predict(X_trainTemp), color='blue')\n",
    "plt.title('PC1 vs PC2 (Test set)')\n",
    "plt.xlabel('PC1')\n",
    "plt.ylabel('PC2')"
   ],
   "outputs": [
    {
     "output_type": "execute_result",
     "data": {
      "text/plain": [
       "Text(0, 0.5, 'PC2')"
      ]
     },
     "metadata": {},
     "execution_count": 1782
    },
    {
     "output_type": "display_data",
     "data": {
      "image/png": "[encoded data removed]",
      "text/plain": [
       "<Figure size 432x288 with 1 Axes>"
      ]
     },
     "metadata": {
      "needs_background": "light"
     }
    }
   ],
   "metadata": {}
  }
 ],
 "metadata": {
  "orig_nbformat": 4,
  "language_info": {
   "name": "python",
   "version": "3.9.7",
   "mimetype": "text/x-python",
   "codemirror_mode": {
    "name": "ipython",
    "version": 3
   },
   "pygments_lexer": "ipython3",
   "nbconvert_exporter": "python",
   "file_extension": ".py"
  },
  "kernelspec": {
   "name": "python3",
   "display_name": "Python 3.9.7 64-bit ('base': conda)"
  },
  "interpreter": {
   "hash": "36b047f55bcb206410edaa6c1bcfab9de11219125612c3a8f4089902d1591d18"
  }
 },
 "nbformat": 4,
 "nbformat_minor": 2
}
{
 "cells": [
  {
   "cell_type": "code",
   "execution_count": 1,
   "metadata": {},
   "outputs": [],
   "source": [
    "import pandas as pd\n",
    "import numpy as np\n",
    "import matplotlib.pyplot as plt"
   ]
  },
  {
   "cell_type": "markdown",
   "metadata": {},
   "source": [
    "# 1) Load Dataset"
   ]
  },
  {
   "cell_type": "code",
   "execution_count": 2,
   "metadata": {},
   "outputs": [],
   "source": [
    "col_name = [\n",
    "    'Profile factor', 'Symmetry', 'Crossflow', 'Flow Velocity P1',\n",
    "    'Flow Velocity P2', 'Flow Velocity P3', 'Flow Velocity P4',\n",
    "    'Speed of Sound P1', 'Speed of Sound P2', 'Speed of Sound P3',\n",
    "    'Speed of Sound P4', 'Signal Strength P1T', 'Signal Strength P1R',\n",
    "    'Signal Strength P2T', 'Signal Strength P2R', 'Signal Strength P3T',\n",
    "    'Signal Strength P3R', 'Signal Strength P4T', 'Signal Strength P4R',\n",
    "    'Signal Quality P1T', 'Signal Quality P1R', 'Signal Quality P2T',\n",
    "    'Signal Quality P2R', 'Signal Quality P3T', 'Signal Quality P3R',\n",
    "    'Signal Quality P4T', 'Signal Quality P4R', 'Gain P1T', 'Gain P1R',\n",
    "    'Gain P2T', 'Gain P2R', 'Gain P3T', 'Gain P3R', 'Gain P4T', 'Gain P4R',\n",
    "    'Transit Time P1T', 'Transit Time P1R', 'Transit Time P2T',\n",
    "    'Transit Time P2R', 'Transit Time P3T', 'Transit Time P3R',\n",
    "    'Transit Time P4T', 'Transit Time P4R', 'Class'\n",
    "]\n",
    "\n",
    "col_name_noclass = [\n",
    "    'Profile factor', 'Symmetry', 'Crossflow', 'Flow Velocity P1',\n",
    "    'Flow Velocity P2', 'Flow Velocity P3', 'Flow Velocity P4',\n",
    "    'Speed of Sound P1', 'Speed of Sound P2', 'Speed of Sound P3',\n",
    "    'Speed of Sound P4', 'Signal Strength P1T', 'Signal Strength P1R',\n",
    "    'Signal Strength P2T', 'Signal Strength P2R', 'Signal Strength P3T',\n",
    "    'Signal Strength P3R', 'Signal Strength P4T', 'Signal Strength P4R',\n",
    "    'Signal Quality P1T', 'Signal Quality P1R', 'Signal Quality P2T',\n",
    "    'Signal Quality P2R', 'Signal Quality P3T', 'Signal Quality P3R',\n",
    "    'Signal Quality P4T', 'Signal Quality P4R', 'Gain P1T', 'Gain P1R',\n",
    "    'Gain P2T', 'Gain P2R', 'Gain P3T', 'Gain P3R', 'Gain P4T', 'Gain P4R',\n",
    "    'Transit Time P1T', 'Transit Time P1R', 'Transit Time P2T',\n",
    "    'Transit Time P2R', 'Transit Time P3T', 'Transit Time P3R',\n",
    "    'Transit Time P4T', 'Transit Time P4R'\n",
    "]"
   ]
  },
  {
   "cell_type": "code",
   "execution_count": 3,
   "metadata": {},
   "outputs": [
    {
     "data": {
      "text/html": [
       "<div>\n",
       "<style scoped>\n",
       "    .dataframe tbody tr th:only-of-type {\n",
       "        vertical-align: middle;\n",
       "    }\n",
       "\n",
       "    .dataframe tbody tr th {\n",
       "        vertical-align: top;\n",
       "    }\n",
       "\n",
       "    .dataframe thead th {\n",
       "        text-align: right;\n",
       "    }\n",
       "</style>\n",
       "<table border=\"1\" class=\"dataframe\">\n",
       "  <thead>\n",
       "    <tr style=\"text-align: right;\">\n",
       "      <th></th>\n",
       "      <th>Profile factor</th>\n",
       "      <th>Symmetry</th>\n",
       "      <th>Crossflow</th>\n",
       "      <th>Flow Velocity P1</th>\n",
       "      <th>Flow Velocity P2</th>\n",
       "      <th>Flow Velocity P3</th>\n",
       "      <th>Flow Velocity P4</th>\n",
       "      <th>Speed of Sound P1</th>\n",
       "      <th>Speed of Sound P2</th>\n",
       "      <th>Speed of Sound P3</th>\n",
       "      <th>...</th>\n",
       "      <th>Gain P4R</th>\n",
       "      <th>Transit Time P1T</th>\n",
       "      <th>Transit Time P1R</th>\n",
       "      <th>Transit Time P2T</th>\n",
       "      <th>Transit Time P2R</th>\n",
       "      <th>Transit Time P3T</th>\n",
       "      <th>Transit Time P3R</th>\n",
       "      <th>Transit Time P4T</th>\n",
       "      <th>Transit Time P4R</th>\n",
       "      <th>Class</th>\n",
       "    </tr>\n",
       "  </thead>\n",
       "  <tbody>\n",
       "    <tr>\n",
       "      <th>0</th>\n",
       "      <td>1.104706</td>\n",
       "      <td>1.004679</td>\n",
       "      <td>0.994783</td>\n",
       "      <td>2.345833</td>\n",
       "      <td>2.604444</td>\n",
       "      <td>2.580000</td>\n",
       "      <td>2.347222</td>\n",
       "      <td>1485.805556</td>\n",
       "      <td>1485.930556</td>\n",
       "      <td>1485.941667</td>\n",
       "      <td>...</td>\n",
       "      <td>-0.700000</td>\n",
       "      <td>124.150000</td>\n",
       "      <td>123.911944</td>\n",
       "      <td>151.615833</td>\n",
       "      <td>151.275000</td>\n",
       "      <td>151.559444</td>\n",
       "      <td>151.221111</td>\n",
       "      <td>124.253611</td>\n",
       "      <td>124.017778</td>\n",
       "      <td>1</td>\n",
       "    </tr>\n",
       "    <tr>\n",
       "      <th>1</th>\n",
       "      <td>1.089401</td>\n",
       "      <td>0.997778</td>\n",
       "      <td>0.998012</td>\n",
       "      <td>3.399444</td>\n",
       "      <td>3.711111</td>\n",
       "      <td>3.711944</td>\n",
       "      <td>3.414444</td>\n",
       "      <td>1486.163889</td>\n",
       "      <td>1486.302778</td>\n",
       "      <td>1486.302778</td>\n",
       "      <td>...</td>\n",
       "      <td>-0.700000</td>\n",
       "      <td>124.171944</td>\n",
       "      <td>123.831667</td>\n",
       "      <td>151.652222</td>\n",
       "      <td>151.164444</td>\n",
       "      <td>151.595278</td>\n",
       "      <td>151.113333</td>\n",
       "      <td>124.274167</td>\n",
       "      <td>123.937778</td>\n",
       "      <td>1</td>\n",
       "    </tr>\n",
       "    <tr>\n",
       "      <th>2</th>\n",
       "      <td>1.079671</td>\n",
       "      <td>1.006056</td>\n",
       "      <td>0.999027</td>\n",
       "      <td>3.438056</td>\n",
       "      <td>3.714722</td>\n",
       "      <td>3.689722</td>\n",
       "      <td>3.420000</td>\n",
       "      <td>1486.322222</td>\n",
       "      <td>1486.452778</td>\n",
       "      <td>1486.455556</td>\n",
       "      <td>...</td>\n",
       "      <td>-0.700000</td>\n",
       "      <td>124.160000</td>\n",
       "      <td>123.818056</td>\n",
       "      <td>151.636111</td>\n",
       "      <td>151.150833</td>\n",
       "      <td>151.580000</td>\n",
       "      <td>151.096944</td>\n",
       "      <td>124.260833</td>\n",
       "      <td>123.923611</td>\n",
       "      <td>1</td>\n",
       "    </tr>\n",
       "    <tr>\n",
       "      <th>3</th>\n",
       "      <td>1.090834</td>\n",
       "      <td>1.013194</td>\n",
       "      <td>0.994911</td>\n",
       "      <td>3.399444</td>\n",
       "      <td>3.725000</td>\n",
       "      <td>3.660556</td>\n",
       "      <td>3.371111</td>\n",
       "      <td>1486.455556</td>\n",
       "      <td>1486.575000</td>\n",
       "      <td>1486.583333</td>\n",
       "      <td>...</td>\n",
       "      <td>-0.700000</td>\n",
       "      <td>124.144722</td>\n",
       "      <td>123.808611</td>\n",
       "      <td>151.622500</td>\n",
       "      <td>151.139167</td>\n",
       "      <td>151.564167</td>\n",
       "      <td>151.084167</td>\n",
       "      <td>124.250833</td>\n",
       "      <td>123.913056</td>\n",
       "      <td>1</td>\n",
       "    </tr>\n",
       "    <tr>\n",
       "      <th>4</th>\n",
       "      <td>1.093816</td>\n",
       "      <td>1.009716</td>\n",
       "      <td>1.003622</td>\n",
       "      <td>3.398889</td>\n",
       "      <td>3.702778</td>\n",
       "      <td>3.681389</td>\n",
       "      <td>3.351944</td>\n",
       "      <td>1486.600000</td>\n",
       "      <td>1486.725000</td>\n",
       "      <td>1486.730556</td>\n",
       "      <td>...</td>\n",
       "      <td>-0.700000</td>\n",
       "      <td>124.134444</td>\n",
       "      <td>123.797500</td>\n",
       "      <td>151.607500</td>\n",
       "      <td>151.122778</td>\n",
       "      <td>151.550278</td>\n",
       "      <td>151.068889</td>\n",
       "      <td>124.236111</td>\n",
       "      <td>123.903056</td>\n",
       "      <td>1</td>\n",
       "    </tr>\n",
       "    <tr>\n",
       "      <th>...</th>\n",
       "      <td>...</td>\n",
       "      <td>...</td>\n",
       "      <td>...</td>\n",
       "      <td>...</td>\n",
       "      <td>...</td>\n",
       "      <td>...</td>\n",
       "      <td>...</td>\n",
       "      <td>...</td>\n",
       "      <td>...</td>\n",
       "      <td>...</td>\n",
       "      <td>...</td>\n",
       "      <td>...</td>\n",
       "      <td>...</td>\n",
       "      <td>...</td>\n",
       "      <td>...</td>\n",
       "      <td>...</td>\n",
       "      <td>...</td>\n",
       "      <td>...</td>\n",
       "      <td>...</td>\n",
       "      <td>...</td>\n",
       "      <td>...</td>\n",
       "    </tr>\n",
       "    <tr>\n",
       "      <th>175</th>\n",
       "      <td>4.593220</td>\n",
       "      <td>5.153846</td>\n",
       "      <td>0.123245</td>\n",
       "      <td>-0.138611</td>\n",
       "      <td>-1.703889</td>\n",
       "      <td>-0.102778</td>\n",
       "      <td>-0.254722</td>\n",
       "      <td>1513.505556</td>\n",
       "      <td>1507.080556</td>\n",
       "      <td>1494.355556</td>\n",
       "      <td>...</td>\n",
       "      <td>44.600000</td>\n",
       "      <td>121.266111</td>\n",
       "      <td>122.244167</td>\n",
       "      <td>145.081111</td>\n",
       "      <td>155.030000</td>\n",
       "      <td>147.680000</td>\n",
       "      <td>153.622500</td>\n",
       "      <td>117.866389</td>\n",
       "      <td>117.880278</td>\n",
       "      <td>4</td>\n",
       "    </tr>\n",
       "    <tr>\n",
       "      <th>176</th>\n",
       "      <td>0.173768</td>\n",
       "      <td>0.214250</td>\n",
       "      <td>0.098034</td>\n",
       "      <td>-0.200833</td>\n",
       "      <td>-0.401389</td>\n",
       "      <td>-0.103889</td>\n",
       "      <td>-2.706944</td>\n",
       "      <td>1521.897222</td>\n",
       "      <td>1474.400000</td>\n",
       "      <td>1500.705556</td>\n",
       "      <td>...</td>\n",
       "      <td>44.600000</td>\n",
       "      <td>121.082222</td>\n",
       "      <td>121.059167</td>\n",
       "      <td>151.401944</td>\n",
       "      <td>154.034722</td>\n",
       "      <td>147.871389</td>\n",
       "      <td>151.595278</td>\n",
       "      <td>118.459444</td>\n",
       "      <td>118.631111</td>\n",
       "      <td>4</td>\n",
       "    </tr>\n",
       "    <tr>\n",
       "      <th>177</th>\n",
       "      <td>0.049027</td>\n",
       "      <td>0.115593</td>\n",
       "      <td>0.134579</td>\n",
       "      <td>-0.281111</td>\n",
       "      <td>-0.050833</td>\n",
       "      <td>-0.098889</td>\n",
       "      <td>-2.772778</td>\n",
       "      <td>1518.072222</td>\n",
       "      <td>1439.802778</td>\n",
       "      <td>1512.719444</td>\n",
       "      <td>...</td>\n",
       "      <td>44.169444</td>\n",
       "      <td>121.298889</td>\n",
       "      <td>121.370278</td>\n",
       "      <td>158.391111</td>\n",
       "      <td>154.248611</td>\n",
       "      <td>149.020000</td>\n",
       "      <td>148.266389</td>\n",
       "      <td>118.569722</td>\n",
       "      <td>118.807500</td>\n",
       "      <td>4</td>\n",
       "    </tr>\n",
       "    <tr>\n",
       "      <th>178</th>\n",
       "      <td>-0.053056</td>\n",
       "      <td>0.099441</td>\n",
       "      <td>0.143832</td>\n",
       "      <td>-0.386667</td>\n",
       "      <td>0.129722</td>\n",
       "      <td>0.029444</td>\n",
       "      <td>-2.613333</td>\n",
       "      <td>1487.083333</td>\n",
       "      <td>1422.211111</td>\n",
       "      <td>1484.836111</td>\n",
       "      <td>...</td>\n",
       "      <td>44.100000</td>\n",
       "      <td>125.552500</td>\n",
       "      <td>122.318333</td>\n",
       "      <td>161.174167</td>\n",
       "      <td>155.306389</td>\n",
       "      <td>149.217222</td>\n",
       "      <td>153.626111</td>\n",
       "      <td>118.638333</td>\n",
       "      <td>118.872778</td>\n",
       "      <td>4</td>\n",
       "    </tr>\n",
       "    <tr>\n",
       "      <th>179</th>\n",
       "      <td>0.008931</td>\n",
       "      <td>0.914347</td>\n",
       "      <td>1.184204</td>\n",
       "      <td>-2.617222</td>\n",
       "      <td>0.144167</td>\n",
       "      <td>-0.190000</td>\n",
       "      <td>-2.514722</td>\n",
       "      <td>1476.855556</td>\n",
       "      <td>1413.877778</td>\n",
       "      <td>1506.325000</td>\n",
       "      <td>...</td>\n",
       "      <td>44.100000</td>\n",
       "      <td>127.293611</td>\n",
       "      <td>122.416111</td>\n",
       "      <td>161.170278</td>\n",
       "      <td>157.195000</td>\n",
       "      <td>148.598611</td>\n",
       "      <td>150.280556</td>\n",
       "      <td>118.752222</td>\n",
       "      <td>118.986389</td>\n",
       "      <td>4</td>\n",
       "    </tr>\n",
       "  </tbody>\n",
       "</table>\n",
       "<p>180 rows × 44 columns</p>\n",
       "</div>"
      ],
      "text/plain": [
       "     Profile factor  Symmetry  Crossflow  Flow Velocity P1  Flow Velocity P2  \\\n",
       "0          1.104706  1.004679   0.994783          2.345833          2.604444   \n",
       "1          1.089401  0.997778   0.998012          3.399444          3.711111   \n",
       "2          1.079671  1.006056   0.999027          3.438056          3.714722   \n",
       "3          1.090834  1.013194   0.994911          3.399444          3.725000   \n",
       "4          1.093816  1.009716   1.003622          3.398889          3.702778   \n",
       "..              ...       ...        ...               ...               ...   \n",
       "175        4.593220  5.153846   0.123245         -0.138611         -1.703889   \n",
       "176        0.173768  0.214250   0.098034         -0.200833         -0.401389   \n",
       "177        0.049027  0.115593   0.134579         -0.281111         -0.050833   \n",
       "178       -0.053056  0.099441   0.143832         -0.386667          0.129722   \n",
       "179        0.008931  0.914347   1.184204         -2.617222          0.144167   \n",
       "\n",
       "     Flow Velocity P3  Flow Velocity P4  Speed of Sound P1  Speed of Sound P2  \\\n",
       "0            2.580000          2.347222        1485.805556        1485.930556   \n",
       "1            3.711944          3.414444        1486.163889        1486.302778   \n",
       "2            3.689722          3.420000        1486.322222        1486.452778   \n",
       "3            3.660556          3.371111        1486.455556        1486.575000   \n",
       "4            3.681389          3.351944        1486.600000        1486.725000   \n",
       "..                ...               ...                ...                ...   \n",
       "175         -0.102778         -0.254722        1513.505556        1507.080556   \n",
       "176         -0.103889         -2.706944        1521.897222        1474.400000   \n",
       "177         -0.098889         -2.772778        1518.072222        1439.802778   \n",
       "178          0.029444         -2.613333        1487.083333        1422.211111   \n",
       "179         -0.190000         -2.514722        1476.855556        1413.877778   \n",
       "\n",
       "     Speed of Sound P3  ...   Gain P4R  Transit Time P1T  Transit Time P1R  \\\n",
       "0          1485.941667  ...  -0.700000        124.150000        123.911944   \n",
       "1          1486.302778  ...  -0.700000        124.171944        123.831667   \n",
       "2          1486.455556  ...  -0.700000        124.160000        123.818056   \n",
       "3          1486.583333  ...  -0.700000        124.144722        123.808611   \n",
       "4          1486.730556  ...  -0.700000        124.134444        123.797500   \n",
       "..                 ...  ...        ...               ...               ...   \n",
       "175        1494.355556  ...  44.600000        121.266111        122.244167   \n",
       "176        1500.705556  ...  44.600000        121.082222        121.059167   \n",
       "177        1512.719444  ...  44.169444        121.298889        121.370278   \n",
       "178        1484.836111  ...  44.100000        125.552500        122.318333   \n",
       "179        1506.325000  ...  44.100000        127.293611        122.416111   \n",
       "\n",
       "     Transit Time P2T  Transit Time P2R  Transit Time P3T  Transit Time P3R  \\\n",
       "0          151.615833        151.275000        151.559444        151.221111   \n",
       "1          151.652222        151.164444        151.595278        151.113333   \n",
       "2          151.636111        151.150833        151.580000        151.096944   \n",
       "3          151.622500        151.139167        151.564167        151.084167   \n",
       "4          151.607500        151.122778        151.550278        151.068889   \n",
       "..                ...               ...               ...               ...   \n",
       "175        145.081111        155.030000        147.680000        153.622500   \n",
       "176        151.401944        154.034722        147.871389        151.595278   \n",
       "177        158.391111        154.248611        149.020000        148.266389   \n",
       "178        161.174167        155.306389        149.217222        153.626111   \n",
       "179        161.170278        157.195000        148.598611        150.280556   \n",
       "\n",
       "     Transit Time P4T  Transit Time P4R  Class  \n",
       "0          124.253611        124.017778      1  \n",
       "1          124.274167        123.937778      1  \n",
       "2          124.260833        123.923611      1  \n",
       "3          124.250833        123.913056      1  \n",
       "4          124.236111        123.903056      1  \n",
       "..                ...               ...    ...  \n",
       "175        117.866389        117.880278      4  \n",
       "176        118.459444        118.631111      4  \n",
       "177        118.569722        118.807500      4  \n",
       "178        118.638333        118.872778      4  \n",
       "179        118.752222        118.986389      4  \n",
       "\n",
       "[180 rows x 44 columns]"
      ]
     },
     "execution_count": 3,
     "metadata": {},
     "output_type": "execute_result"
    }
   ],
   "source": [
    "df = pd.read_csv('dataset/Meter D',\n",
    "                 header=None,\n",
    "                 sep='\\t')\n",
    "df.columns = col_name\n",
    "df"
   ]
  },
  {
   "cell_type": "code",
   "execution_count": 4,
   "metadata": {},
   "outputs": [
    {
     "data": {
      "image/png": "[encoded data removed]",
      "text/plain": [
       "<Figure size 432x288 with 1 Axes>"
      ]
     },
     "metadata": {
      "needs_background": "light"
     },
     "output_type": "display_data"
    }
   ],
   "source": [
    "import seaborn as sns\n",
    "\n",
    "ax = sns.countplot(x=df['Class'], label=\"Count\") \n",
    "ax.bar_label(ax.containers[0]) \n",
    "ax.set_xticklabels(['Healthy', 'Gas injection', 'Installation Effects','Waxing'], fontsize=8) \n",
    "plt.title('Meter D Counter')\n",
    "plt.show()"
   ]
  },
  {
   "cell_type": "markdown",
   "metadata": {},
   "source": [
    "# 2) Identify Outlier"
   ]
  },
  {
   "cell_type": "code",
   "execution_count": 5,
   "metadata": {},
   "outputs": [
    {
     "data": {
      "image/png": "[encoded data removed]",
      "text/plain": [
       "<Figure size 432x288 with 1 Axes>"
      ]
     },
     "metadata": {
      "needs_background": "light"
     },
     "output_type": "display_data"
    },
    {
     "data": {
      "text/plain": [
       "<Figure size 1440x720 with 0 Axes>"
      ]
     },
     "metadata": {},
     "output_type": "display_data"
    }
   ],
   "source": [
    "val_1 = df['Profile factor']\n",
    "plt.boxplot(val_1)\n",
    "plt.title('Meter D Counter')\n",
    "fig = plt.figure(figsize =(20, 10))\n",
    "plt.show()\n",
    "\n",
    "# df[col_name_list1].boxplot(figsize=(20,10))"
   ]
  },
  {
   "cell_type": "markdown",
   "metadata": {},
   "source": [
    "<font size=\"5\" color='blue'>There are outliers in the dataset, so later we will remove them</font>\n"
   ]
  },
  {
   "cell_type": "markdown",
   "metadata": {},
   "source": [
    "# 3) Check missing value"
   ]
  },
  {
   "cell_type": "code",
   "execution_count": 6,
   "metadata": {},
   "outputs": [
    {
     "name": "stdout",
     "output_type": "stream",
     "text": [
      "\n",
      "Number of rows and column in our DataFrame =  (180, 44)\n",
      "\n",
      "DataFrame displaying False for Null (NaN) value = \n",
      "      Profile factor  Symmetry  Crossflow  Flow Velocity P1  Flow Velocity P2  \\\n",
      "0              True      True       True              True              True   \n",
      "1              True      True       True              True              True   \n",
      "2              True      True       True              True              True   \n",
      "3              True      True       True              True              True   \n",
      "4              True      True       True              True              True   \n",
      "..              ...       ...        ...               ...               ...   \n",
      "175            True      True       True              True              True   \n",
      "176            True      True       True              True              True   \n",
      "177            True      True       True              True              True   \n",
      "178            True      True       True              True              True   \n",
      "179            True      True       True              True              True   \n",
      "\n",
      "     Flow Velocity P3  Flow Velocity P4  Speed of Sound P1  Speed of Sound P2  \\\n",
      "0                True              True               True               True   \n",
      "1                True              True               True               True   \n",
      "2                True              True               True               True   \n",
      "3                True              True               True               True   \n",
      "4                True              True               True               True   \n",
      "..                ...               ...                ...                ...   \n",
      "175              True              True               True               True   \n",
      "176              True              True               True               True   \n",
      "177              True              True               True               True   \n",
      "178              True              True               True               True   \n",
      "179              True              True               True               True   \n",
      "\n",
      "     Speed of Sound P3  ...  Gain P4R  Transit Time P1T  Transit Time P1R  \\\n",
      "0                 True  ...      True              True              True   \n",
      "1                 True  ...      True              True              True   \n",
      "2                 True  ...      True              True              True   \n",
      "3                 True  ...      True              True              True   \n",
      "4                 True  ...      True              True              True   \n",
      "..                 ...  ...       ...               ...               ...   \n",
      "175               True  ...      True              True              True   \n",
      "176               True  ...      True              True              True   \n",
      "177               True  ...      True              True              True   \n",
      "178               True  ...      True              True              True   \n",
      "179               True  ...      True              True              True   \n",
      "\n",
      "     Transit Time P2T  Transit Time P2R  Transit Time P3T  Transit Time P3R  \\\n",
      "0                True              True              True              True   \n",
      "1                True              True              True              True   \n",
      "2                True              True              True              True   \n",
      "3                True              True              True              True   \n",
      "4                True              True              True              True   \n",
      "..                ...               ...               ...               ...   \n",
      "175              True              True              True              True   \n",
      "176              True              True              True              True   \n",
      "177              True              True              True              True   \n",
      "178              True              True              True              True   \n",
      "179              True              True              True              True   \n",
      "\n",
      "     Transit Time P4T  Transit Time P4R  Class  \n",
      "0                True              True   True  \n",
      "1                True              True   True  \n",
      "2                True              True   True  \n",
      "3                True              True   True  \n",
      "4                True              True   True  \n",
      "..                ...               ...    ...  \n",
      "175              True              True   True  \n",
      "176              True              True   True  \n",
      "177              True              True   True  \n",
      "178              True              True   True  \n",
      "179              True              True   True  \n",
      "\n",
      "[180 rows x 44 columns]\n",
      "\n",
      "DataFrame after removing null values...\n",
      "      Profile factor  Symmetry  Crossflow  Flow Velocity P1  Flow Velocity P2  \\\n",
      "0          1.104706  1.004679   0.994783          2.345833          2.604444   \n",
      "1          1.089401  0.997778   0.998012          3.399444          3.711111   \n",
      "2          1.079671  1.006056   0.999027          3.438056          3.714722   \n",
      "3          1.090834  1.013194   0.994911          3.399444          3.725000   \n",
      "4          1.093816  1.009716   1.003622          3.398889          3.702778   \n",
      "..              ...       ...        ...               ...               ...   \n",
      "175        4.593220  5.153846   0.123245         -0.138611         -1.703889   \n",
      "176        0.173768  0.214250   0.098034         -0.200833         -0.401389   \n",
      "177        0.049027  0.115593   0.134579         -0.281111         -0.050833   \n",
      "178       -0.053056  0.099441   0.143832         -0.386667          0.129722   \n",
      "179        0.008931  0.914347   1.184204         -2.617222          0.144167   \n",
      "\n",
      "     Flow Velocity P3  Flow Velocity P4  Speed of Sound P1  Speed of Sound P2  \\\n",
      "0            2.580000          2.347222        1485.805556        1485.930556   \n",
      "1            3.711944          3.414444        1486.163889        1486.302778   \n",
      "2            3.689722          3.420000        1486.322222        1486.452778   \n",
      "3            3.660556          3.371111        1486.455556        1486.575000   \n",
      "4            3.681389          3.351944        1486.600000        1486.725000   \n",
      "..                ...               ...                ...                ...   \n",
      "175         -0.102778         -0.254722        1513.505556        1507.080556   \n",
      "176         -0.103889         -2.706944        1521.897222        1474.400000   \n",
      "177         -0.098889         -2.772778        1518.072222        1439.802778   \n",
      "178          0.029444         -2.613333        1487.083333        1422.211111   \n",
      "179         -0.190000         -2.514722        1476.855556        1413.877778   \n",
      "\n",
      "     Speed of Sound P3  ...   Gain P4R  Transit Time P1T  Transit Time P1R  \\\n",
      "0          1485.941667  ...  -0.700000        124.150000        123.911944   \n",
      "1          1486.302778  ...  -0.700000        124.171944        123.831667   \n",
      "2          1486.455556  ...  -0.700000        124.160000        123.818056   \n",
      "3          1486.583333  ...  -0.700000        124.144722        123.808611   \n",
      "4          1486.730556  ...  -0.700000        124.134444        123.797500   \n",
      "..                 ...  ...        ...               ...               ...   \n",
      "175        1494.355556  ...  44.600000        121.266111        122.244167   \n",
      "176        1500.705556  ...  44.600000        121.082222        121.059167   \n",
      "177        1512.719444  ...  44.169444        121.298889        121.370278   \n",
      "178        1484.836111  ...  44.100000        125.552500        122.318333   \n",
      "179        1506.325000  ...  44.100000        127.293611        122.416111   \n",
      "\n",
      "     Transit Time P2T  Transit Time P2R  Transit Time P3T  Transit Time P3R  \\\n",
      "0          151.615833        151.275000        151.559444        151.221111   \n",
      "1          151.652222        151.164444        151.595278        151.113333   \n",
      "2          151.636111        151.150833        151.580000        151.096944   \n",
      "3          151.622500        151.139167        151.564167        151.084167   \n",
      "4          151.607500        151.122778        151.550278        151.068889   \n",
      "..                ...               ...               ...               ...   \n",
      "175        145.081111        155.030000        147.680000        153.622500   \n",
      "176        151.401944        154.034722        147.871389        151.595278   \n",
      "177        158.391111        154.248611        149.020000        148.266389   \n",
      "178        161.174167        155.306389        149.217222        153.626111   \n",
      "179        161.170278        157.195000        148.598611        150.280556   \n",
      "\n",
      "     Transit Time P4T  Transit Time P4R  Class  \n",
      "0          124.253611        124.017778      1  \n",
      "1          124.274167        123.937778      1  \n",
      "2          124.260833        123.923611      1  \n",
      "3          124.250833        123.913056      1  \n",
      "4          124.236111        123.903056      1  \n",
      "..                ...               ...    ...  \n",
      "175        117.866389        117.880278      4  \n",
      "176        118.459444        118.631111      4  \n",
      "177        118.569722        118.807500      4  \n",
      "178        118.638333        118.872778      4  \n",
      "179        118.752222        118.986389      4  \n",
      "\n",
      "[180 rows x 44 columns]\n",
      "\n",
      "(Updated) Number of rows and column in our DataFrame =  (180, 44)\n"
     ]
    }
   ],
   "source": [
    "# count the rows and columns in a DataFrame\n",
    "print(\"\\nNumber of rows and column in our DataFrame = \",df.shape)\n",
    "res = df.notnull()\n",
    "print(\"\\nDataFrame displaying False for Null (NaN) value = \\n\",res)\n",
    "\n",
    "df = df.dropna()\n",
    "print(\"\\nDataFrame after removing null values...\\n\",df)\n",
    "print(\"\\n(Updated) Number of rows and column in our DataFrame = \",df.shape)"
   ]
  },
  {
   "cell_type": "markdown",
   "metadata": {},
   "source": [
    "<font font size=\"5\" color='blue'> The shape(180, 44) before and after dropping are the same hence there are no missing value </font>"
   ]
  },
  {
   "cell_type": "markdown",
   "metadata": {},
   "source": [
    "# 4) Check for duplicated data"
   ]
  },
  {
   "cell_type": "code",
   "execution_count": 7,
   "metadata": {},
   "outputs": [
    {
     "name": "stdout",
     "output_type": "stream",
     "text": [
      "Number of duplicate rows = 0\n"
     ]
    }
   ],
   "source": [
    "dups = df.duplicated()\n",
    "print('Number of duplicate rows = %d' % (dups.sum()))"
   ]
  },
  {
   "cell_type": "markdown",
   "metadata": {},
   "source": [
    "<font font size=\"5\" color='blue'> There are no duplicated data  </font>"
   ]
  },
  {
   "cell_type": "markdown",
   "metadata": {},
   "source": [
    "# 5) Check for 0 value in data"
   ]
  },
  {
   "cell_type": "code",
   "execution_count": 8,
   "metadata": {},
   "outputs": [
    {
     "name": "stdout",
     "output_type": "stream",
     "text": [
      "Count of zeros in column: Profile factor is : 0\n",
      "Count of zeros in column: Symmetry is : 0\n",
      "Count of zeros in column: Crossflow is : 0\n",
      "Count of zeros in column: Flow Velocity P1 is : 0\n",
      "Count of zeros in column: Flow Velocity P2 is : 0\n",
      "Count of zeros in column: Flow Velocity P3 is : 0\n",
      "Count of zeros in column: Flow Velocity P4 is : 0\n",
      "Count of zeros in column: Speed of Sound P1 is : 0\n",
      "Count of zeros in column: Speed of Sound P2 is : 0\n",
      "Count of zeros in column: Speed of Sound P3 is : 0\n",
      "Count of zeros in column: Speed of Sound P4 is : 0\n",
      "Count of zeros in column: Signal Strength P1T is : 0\n",
      "Count of zeros in column: Signal Strength P1R is : 0\n",
      "Count of zeros in column: Signal Strength P2T is : 0\n",
      "Count of zeros in column: Signal Strength P2R is : 0\n",
      "Count of zeros in column: Signal Strength P3T is : 0\n",
      "Count of zeros in column: Signal Strength P3R is : 0\n",
      "Count of zeros in column: Signal Strength P4T is : 0\n",
      "Count of zeros in column: Signal Strength P4R is : 0\n",
      "Count of zeros in column: Signal Quality P1T is : 0\n",
      "Count of zeros in column: Signal Quality P1R is : 0\n",
      "Count of zeros in column: Signal Quality P2T is : 0\n",
      "Count of zeros in column: Signal Quality P2R is : 0\n",
      "Count of zeros in column: Signal Quality P3T is : 0\n",
      "Count of zeros in column: Signal Quality P3R is : 0\n",
      "Count of zeros in column: Signal Quality P4T is : 0\n",
      "Count of zeros in column: Signal Quality P4R is : 0\n",
      "Count of zeros in column: Gain P1T is : 0\n",
      "Count of zeros in column: Gain P1R is : 0\n",
      "Count of zeros in column: Gain P2T is : 53\n",
      "Count of zeros in column: Gain P2R is : 53\n",
      "Count of zeros in column: Gain P3T is : 0\n",
      "Count of zeros in column: Gain P3R is : 0\n",
      "Count of zeros in column: Gain P4T is : 0\n",
      "Count of zeros in column: Gain P4R is : 0\n",
      "Count of zeros in column: Transit Time P1T is : 0\n",
      "Count of zeros in column: Transit Time P1R is : 0\n",
      "Count of zeros in column: Transit Time P2T is : 0\n",
      "Count of zeros in column: Transit Time P2R is : 0\n",
      "Count of zeros in column: Transit Time P3T is : 0\n",
      "Count of zeros in column: Transit Time P3R is : 0\n",
      "Count of zeros in column: Transit Time P4T is : 0\n",
      "Count of zeros in column: Transit Time P4R is : 0\n",
      "Count of zeros in column: Class is : 0\n"
     ]
    }
   ],
   "source": [
    "# Count number of zeros in all columns of Dataframe\n",
    "for column_name in df.columns:\n",
    "    column = df[column_name]\n",
    "    # Get the count of Zeros in column \n",
    "    count = (column == 0).sum()\n",
    "    print(f'Count of zeros in column: {column_name} is : {count}')"
   ]
  },
  {
   "cell_type": "markdown",
   "metadata": {},
   "source": [
    "<font font size=\"5\" color='blue'> There are only 2 attributes with 0 value,which are P2T,P2R  </font>"
   ]
  },
  {
   "cell_type": "markdown",
   "metadata": {},
   "source": [
    "# 6) Count Labels:\n",
    "- Healthy: 51\n",
    "- Gas Injection: 23\n",
    "- Installation Effects: 55\n",
    "- Waxing: 51"
   ]
  },
  {
   "cell_type": "code",
   "execution_count": 9,
   "metadata": {},
   "outputs": [
    {
     "data": {
      "image/png": "[encoded data removed]",
      "text/plain": [
       "<Figure size 432x288 with 1 Axes>"
      ]
     },
     "metadata": {
      "needs_background": "light"
     },
     "output_type": "display_data"
    }
   ],
   "source": [
    "ax = sns.countplot(x=df['Class'], label=\"Count\") \n",
    "ax.bar_label(ax.containers[0]) \n",
    "ax.set_xticklabels(['Healthy', 'Gas injection', 'Installation Effects','Waxing'], fontsize=8) \n",
    "plt.title('Meter D Counter')\n",
    "plt.show()"
   ]
  },
  {
   "cell_type": "markdown",
   "metadata": {},
   "source": [
    "# 6)  2 Path to handle 0 value\n",
    "1. Remove whole row with 0 (df_remove_meterB)\n",
    "- X rows remained\n",
    "2. Replace 0 with median (df_median_meterB)\n",
    "- X rows remained\n",
    "\n",
    "Steps: \n",
    "- Select Profile Factor \n",
    "- View Box plot (IQT), Line graph\n",
    "    - The IQR can be used to identify outliers by defining limits on the sample values that are a factor k of the IQR below the 25th percentile or above the 75th percentile. The common value for the factor k is the value 1.5. A factor k of 3 or more can be used to identify values that are extreme outliers or “far outs” when described in the context of box and whisker plots.\n",
    "- Remove outlier with Zscore\n",
    "    - The further away an observation’s Z-score is from zero, the more unusual it is. A standard cut-off value for finding outliers are Z-scores of +/-3 or further from zero."
   ]
  },
  {
   "cell_type": "markdown",
   "metadata": {},
   "source": [
    "# Visualization before data is removed"
   ]
  },
  {
   "cell_type": "code",
   "execution_count": 10,
   "metadata": {},
   "outputs": [
    {
     "data": {
      "image/png": "[encoded data removed]",
      "text/plain": [
       "<Figure size 432x288 with 1 Axes>"
      ]
     },
     "metadata": {
      "needs_background": "light"
     },
     "output_type": "display_data"
    },
    {
     "data": {
      "text/plain": [
       "<Figure size 720x504 with 0 Axes>"
      ]
     },
     "metadata": {},
     "output_type": "display_data"
    },
    {
     "data": {
      "text/plain": [
       "(180, 44)"
      ]
     },
     "execution_count": 10,
     "metadata": {},
     "output_type": "execute_result"
    }
   ],
   "source": [
    "val_1 = df['Profile factor']\n",
    "plt.plot(val_1)\n",
    "plt.title('Line plot with outliers')\n",
    "fig = plt.figure(figsize =(10, 7))\n",
    "plt.show()\n",
    "df.shape"
   ]
  },
  {
   "cell_type": "markdown",
   "metadata": {},
   "source": [
    "<font font size=\"5\" color='blue'> We can see that the line plot is very erratic with all the outliers, specifically for profile factor we selected </font>"
   ]
  },
  {
   "cell_type": "markdown",
   "metadata": {},
   "source": [
    "# 6.1) 1st Method: Remove whole row with 0"
   ]
  },
  {
   "cell_type": "code",
   "execution_count": 11,
   "metadata": {},
   "outputs": [
    {
     "name": "stdout",
     "output_type": "stream",
     "text": [
      "Inital Shape: (180, 44)\n",
      "After remove 0 Shape: (127, 44)\n"
     ]
    }
   ],
   "source": [
    "print(f'Inital Shape: {df.shape}')\n",
    "df_remove_meterD = df.replace(0, np.nan)\n",
    "df_remove_meterD = df_remove_meterD.dropna(how='any', axis=0) # axis = 0(row), = 1(columns)\n",
    "df_remove_meterD = df_remove_meterD.replace(np.nan, 0)\n",
    "\n",
    "\n",
    "print(f'After remove 0 Shape: {df_remove_meterD.shape}')"
   ]
  },
  {
   "cell_type": "code",
   "execution_count": 12,
   "metadata": {},
   "outputs": [
    {
     "data": {
      "image/png": "[encoded data removed]",
      "text/plain": [
       "<Figure size 432x288 with 1 Axes>"
      ]
     },
     "metadata": {
      "needs_background": "light"
     },
     "output_type": "display_data"
    },
    {
     "data": {
      "text/plain": [
       "<Figure size 720x504 with 0 Axes>"
      ]
     },
     "metadata": {},
     "output_type": "display_data"
    },
    {
     "name": "stdout",
     "output_type": "stream",
     "text": [
      "(127, 44)\n"
     ]
    }
   ],
   "source": [
    "val_1 = df_remove_meterD['Profile factor']\n",
    "plt.title('Line plot without 0')\n",
    "plt.plot(val_1)\n",
    "fig = plt.figure(figsize =(10, 7))\n",
    "plt.show()\n",
    "print(df_remove_meterD.shape)"
   ]
  },
  {
   "cell_type": "markdown",
   "metadata": {},
   "source": [
    "<font font size=\"5\" color='blue'> Remove a total of 53 rows with rows  </font>"
   ]
  },
  {
   "cell_type": "markdown",
   "metadata": {},
   "source": [
    "## Boxplot for 1st column (df_remove)"
   ]
  },
  {
   "cell_type": "code",
   "execution_count": 13,
   "metadata": {},
   "outputs": [],
   "source": [
    "df_remove_meterD.reset_index(inplace=True) # reset index after removing rows"
   ]
  },
  {
   "cell_type": "code",
   "execution_count": 14,
   "metadata": {},
   "outputs": [
    {
     "data": {
      "image/png": "[encoded data removed]",
      "text/plain": [
       "<Figure size 432x288 with 1 Axes>"
      ]
     },
     "metadata": {
      "needs_background": "light"
     },
     "output_type": "display_data"
    },
    {
     "data": {
      "text/plain": [
       "<Figure size 720x504 with 0 Axes>"
      ]
     },
     "metadata": {},
     "output_type": "display_data"
    },
    {
     "name": "stdout",
     "output_type": "stream",
     "text": [
      "Number of outliers: 11\n",
      "IQR: 0.9583000666888 Upper bound: 3.483614527342985 Lower bound: -0.34958573941221505\n",
      "The following are the outliers in the boxplot: 106    3.839182\n",
      "107    3.667179\n",
      "108    3.623501\n",
      "109    3.660136\n",
      "110    3.664207\n",
      "111    3.654557\n",
      "112    3.579398\n",
      "116    5.722140\n",
      "118    5.911308\n",
      "120   -2.474166\n",
      "122    4.593220\n",
      "Name: Profile factor, dtype: float64\n"
     ]
    },
    {
     "data": {
      "text/plain": [
       "(127, 45)"
      ]
     },
     "execution_count": 14,
     "metadata": {},
     "output_type": "execute_result"
    }
   ],
   "source": [
    "val_1 = df_remove_meterD['Profile factor']\n",
    "plt.boxplot(val_1)\n",
    "plt.title('Boxplot with outliers')\n",
    "fig = plt.figure(figsize =(10, 7))\n",
    "plt.show()\n",
    "\n",
    "# finding the 1st quartile\n",
    "q1 = np.quantile(val_1, 0.25)\n",
    " \n",
    "# finding the 3rd quartile\n",
    "q3 = np.quantile(val_1, 0.75)\n",
    "med = np.median(val_1)\n",
    " \n",
    "# finding the iqr region\n",
    "iqr = q3-q1\n",
    " \n",
    "# finding upper and lower whiskers\n",
    "upper_bound = q3+(1.5*iqr)\n",
    "lower_bound = q1-(1.5*iqr)\n",
    "outliers = val_1[(val_1 <= lower_bound) | (val_1 >= upper_bound)]\n",
    "print(\"Number of outliers: \"+ str(len(outliers)))\n",
    "\n",
    "print('IQR:',iqr, 'Upper bound:',upper_bound, 'Lower bound:',lower_bound)\n",
    "print('The following are the outliers in the boxplot: {}'.format(outliers))\n",
    "\n",
    "\n",
    "\n",
    "df_remove_meterD.shape"
   ]
  },
  {
   "cell_type": "markdown",
   "metadata": {},
   "source": [
    "<font font size=\"5\" color='blue'> There is a total of 5 outliers as listed above  </font>"
   ]
  },
  {
   "cell_type": "markdown",
   "metadata": {},
   "source": [
    "# Remove outliers listed above "
   ]
  },
  {
   "cell_type": "code",
   "execution_count": 15,
   "metadata": {},
   "outputs": [
    {
     "data": {
      "image/png": "[encoded data removed]",
      "text/plain": [
       "<Figure size 432x288 with 1 Axes>"
      ]
     },
     "metadata": {
      "needs_background": "light"
     },
     "output_type": "display_data"
    },
    {
     "data": {
      "text/plain": [
       "<Figure size 720x504 with 0 Axes>"
      ]
     },
     "metadata": {},
     "output_type": "display_data"
    },
    {
     "data": {
      "text/plain": [
       "(114, 45)"
      ]
     },
     "execution_count": 15,
     "metadata": {},
     "output_type": "execute_result"
    }
   ],
   "source": [
    "df_remove_meterD.drop(df_remove_meterD.index[[86,94,106,107,108,109,110,111,112,116,118,120,122]],inplace=True)\n",
    "\n",
    "val_1 = df_remove_meterD['Profile factor']\n",
    "plt.title('Boxplot without outliers')\n",
    "plt.boxplot(val_1)\n",
    "fig = plt.figure(figsize =(10, 7))\n",
    "plt.show()\n",
    "\n",
    "df_remove_meterD.shape\n"
   ]
  },
  {
   "cell_type": "code",
   "execution_count": 16,
   "metadata": {},
   "outputs": [
    {
     "data": {
      "image/png": "[encoded data removed]",
      "text/plain": [
       "<Figure size 432x288 with 1 Axes>"
      ]
     },
     "metadata": {
      "needs_background": "light"
     },
     "output_type": "display_data"
    },
    {
     "data": {
      "text/plain": [
       "<Figure size 720x504 with 0 Axes>"
      ]
     },
     "metadata": {},
     "output_type": "display_data"
    },
    {
     "name": "stdout",
     "output_type": "stream",
     "text": [
      "(114, 45)\n"
     ]
    }
   ],
   "source": [
    "val_1 = df_remove_meterD['Profile factor']\n",
    "plt.title('Line plot without outliers')\n",
    "plt.plot(val_1)\n",
    "fig = plt.figure(figsize =(10, 7))\n",
    "plt.show()\n",
    "print(df_remove_meterD.shape)"
   ]
  },
  {
   "cell_type": "markdown",
   "metadata": {},
   "source": [
    "<font font size=\"5\" color='blue'> We can see the line plot is not so erratic as compared to the previous </font>"
   ]
  },
  {
   "cell_type": "markdown",
   "metadata": {},
   "source": [
    "# Remove outliers using Z-score"
   ]
  },
  {
   "cell_type": "code",
   "execution_count": 17,
   "metadata": {},
   "outputs": [],
   "source": [
    "df_remove_meterD.reset_index(inplace=True) # reset index after removing rows"
   ]
  },
  {
   "cell_type": "code",
   "execution_count": 18,
   "metadata": {},
   "outputs": [
    {
     "data": {
      "text/plain": [
       "(94, 46)"
      ]
     },
     "execution_count": 18,
     "metadata": {},
     "output_type": "execute_result"
    }
   ],
   "source": [
    "from scipy import stats\n",
    "\n",
    "z_scores = stats.zscore(df_remove_meterD)\n",
    "abs_z_scores = np.abs(z_scores)\n",
    "filtered_entries = (abs_z_scores < 3).all(axis=1)\n",
    "df_remove_meterD = df_remove_meterD[filtered_entries]\n",
    "\n",
    "df_remove_meterD.shape"
   ]
  },
  {
   "cell_type": "markdown",
   "metadata": {},
   "source": [
    "<font font size=\"5\" color='blue'> Using Z-score we remove another 20 rows using Z-score </font>"
   ]
  },
  {
   "cell_type": "code",
   "execution_count": 19,
   "metadata": {},
   "outputs": [
    {
     "data": {
      "image/png": "[encoded data removed]",
      "text/plain": [
       "<Figure size 432x288 with 1 Axes>"
      ]
     },
     "metadata": {
      "needs_background": "light"
     },
     "output_type": "display_data"
    }
   ],
   "source": [
    "ax = sns.countplot(x=df_remove_meterD['Class'], label=\"Count\") \n",
    "ax.bar_label(ax.containers[0]) \n",
    "ax.set_xticklabels(['Healthy', 'Gas injection', 'Installation Effects','Waxing'], fontsize=8) \n",
    "plt.title('Meter D Counter(Remove )')\n",
    "plt.show()"
   ]
  },
  {
   "cell_type": "markdown",
   "metadata": {},
   "source": [
    "<font font size=\"5\" color='blue'> Just by removing the columns, there is decrease of following:  </font>\n",
    "- Healthy: 34(51) - 17\n",
    "- Gas Injection: 20(23) - 3\n",
    "- Installation Effects: 19(55) - 36\n",
    "- Waxing: 21(51) - 30"
   ]
  },
  {
   "cell_type": "markdown",
   "metadata": {},
   "source": [
    "# 6.2) 2nd method: Replace 0 with median"
   ]
  },
  {
   "cell_type": "code",
   "execution_count": 29,
   "metadata": {},
   "outputs": [
    {
     "name": "stdout",
     "output_type": "stream",
     "text": [
      "Inital shape: (180, 44)\n",
      "Shape after replace 0 with median (180, 44)\n"
     ]
    }
   ],
   "source": [
    "print(f'Inital shape: {df.shape}')\n",
    "df_median_meterD = df\n",
    "for col_name in df_median_meterD.columns:\n",
    "    df_median_meterD.loc[df_median_meterD[col_name] == 0, str(col_name)] = df_median_meterD[col_name].median()\n",
    "print(f'Shape after replace 0 with median {df_median_meterD.shape}')"
   ]
  },
  {
   "cell_type": "code",
   "execution_count": 26,
   "metadata": {},
   "outputs": [
    {
     "data": {
      "image/png": "[encoded data removed]",
      "text/plain": [
       "<Figure size 432x288 with 1 Axes>"
      ]
     },
     "metadata": {
      "needs_background": "light"
     },
     "output_type": "display_data"
    },
    {
     "data": {
      "text/plain": [
       "<Figure size 720x504 with 0 Axes>"
      ]
     },
     "metadata": {},
     "output_type": "display_data"
    },
    {
     "name": "stdout",
     "output_type": "stream",
     "text": [
      "(180, 44)\n"
     ]
    }
   ],
   "source": [
    "val_1 = df_median_meterD['Profile factor']\n",
    "plt.title('Line plot(Median Value)')\n",
    "plt.plot(val_1)\n",
    "fig = plt.figure(figsize =(10, 7))\n",
    "plt.show()\n",
    "print(df_median_meterD.shape)"
   ]
  },
  {
   "cell_type": "markdown",
   "metadata": {},
   "source": [
    "<font font size=\"5\" color='blue'> By replace with median, we still have our orginal data and is not reduce which is the better choice.  </font>"
   ]
  },
  {
   "cell_type": "code",
   "execution_count": 31,
   "metadata": {},
   "outputs": [
    {
     "data": {
      "image/png": "[encoded data removed]",
      "text/plain": [
       "<Figure size 432x288 with 1 Axes>"
      ]
     },
     "metadata": {
      "needs_background": "light"
     },
     "output_type": "display_data"
    },
    {
     "data": {
      "text/plain": [
       "<Figure size 720x504 with 0 Axes>"
      ]
     },
     "metadata": {},
     "output_type": "display_data"
    },
    {
     "name": "stdout",
     "output_type": "stream",
     "text": [
      "Number of outliers: 51\n",
      "IQR: 0.12234206703960471 Upper bound: 1.3912189073378594 Lower bound: 0.9018506391794405\n",
      "The following are the outliers in the boxplot: 62     1.817386\n",
      "129    2.533379\n",
      "130    2.190606\n",
      "131    2.441309\n",
      "132    2.074649\n",
      "133    2.049777\n",
      "134    2.071384\n",
      "135    2.047681\n",
      "136    2.085114\n",
      "137    2.064359\n",
      "138    2.312170\n",
      "139    3.325142\n",
      "140    2.463189\n",
      "141    2.108094\n",
      "142    1.915295\n",
      "143    2.044648\n",
      "144    2.009396\n",
      "145    1.868748\n",
      "147    3.437820\n",
      "148    2.017136\n",
      "149    2.055846\n",
      "150    2.041058\n",
      "151    1.880840\n",
      "152    2.082621\n",
      "153    2.074329\n",
      "154    1.997731\n",
      "155    2.064541\n",
      "156    2.236498\n",
      "157    2.129918\n",
      "158    2.107436\n",
      "159    3.839182\n",
      "160    3.667179\n",
      "161    3.623501\n",
      "162    3.660136\n",
      "163    3.664207\n",
      "164    3.654557\n",
      "165    3.579398\n",
      "166    1.982655\n",
      "167    1.902830\n",
      "168    0.000970\n",
      "169    5.722140\n",
      "170    1.453358\n",
      "171    5.911308\n",
      "172    0.341286\n",
      "173   -2.474166\n",
      "174    2.117979\n",
      "175    4.593220\n",
      "176    0.173768\n",
      "177    0.049027\n",
      "178   -0.053056\n",
      "179    0.008931\n",
      "Name: Profile factor, dtype: float64\n"
     ]
    },
    {
     "data": {
      "text/plain": [
       "(180, 44)"
      ]
     },
     "execution_count": 31,
     "metadata": {},
     "output_type": "execute_result"
    }
   ],
   "source": [
    "val_1 = df_median_meterD['Profile factor']\n",
    "plt.boxplot(val_1)\n",
    "plt.title('Boxplot outliers(median values) ')\n",
    "fig = plt.figure(figsize =(10, 7))\n",
    "plt.show()\n",
    "\n",
    "# finding the 1st quartile\n",
    "q1 = np.quantile(val_1, 0.25)\n",
    " \n",
    "# finding the 3rd quartile\n",
    "q3 = np.quantile(val_1, 0.75)\n",
    "med = np.median(val_1)\n",
    " \n",
    "# finding the iqr region\n",
    "iqr = q3-q1\n",
    " \n",
    "# finding upper and lower whiskers\n",
    "upper_bound = q3+(1.5*iqr)\n",
    "lower_bound = q1-(1.5*iqr)\n",
    "outliers = val_1[(val_1 <= lower_bound) | (val_1 >= upper_bound)]\n",
    "print(\"Number of outliers: \"+ str(len(outliers)))\n",
    "\n",
    "print('IQR:',iqr, 'Upper bound:',upper_bound, 'Lower bound:',lower_bound)\n",
    "print('The following are the outliers in the boxplot: {}'.format(outliers))\n",
    "\n",
    "df_median_meterD.shape"
   ]
  },
  {
   "cell_type": "markdown",
   "metadata": {},
   "source": [
    "<font font size=\"5\" color='blue'> There is a total of 51 outliers as listed above  </font>"
   ]
  },
  {
   "cell_type": "code",
   "execution_count": 21,
   "metadata": {},
   "outputs": [
    {
     "data": {
      "text/html": [
       "<div>\n",
       "<style scoped>\n",
       "    .dataframe tbody tr th:only-of-type {\n",
       "        vertical-align: middle;\n",
       "    }\n",
       "\n",
       "    .dataframe tbody tr th {\n",
       "        vertical-align: top;\n",
       "    }\n",
       "\n",
       "    .dataframe thead th {\n",
       "        text-align: right;\n",
       "    }\n",
       "</style>\n",
       "<table border=\"1\" class=\"dataframe\">\n",
       "  <thead>\n",
       "    <tr style=\"text-align: right;\">\n",
       "      <th></th>\n",
       "      <th>Profile factor</th>\n",
       "      <th>Symmetry</th>\n",
       "      <th>Crossflow</th>\n",
       "      <th>Flow Velocity P1</th>\n",
       "      <th>Flow Velocity P2</th>\n",
       "      <th>Flow Velocity P3</th>\n",
       "      <th>Flow Velocity P4</th>\n",
       "      <th>Speed of Sound P1</th>\n",
       "      <th>Speed of Sound P2</th>\n",
       "      <th>Speed of Sound P3</th>\n",
       "      <th>...</th>\n",
       "      <th>Gain P4R</th>\n",
       "      <th>Transit Time P1T</th>\n",
       "      <th>Transit Time P1R</th>\n",
       "      <th>Transit Time P2T</th>\n",
       "      <th>Transit Time P2R</th>\n",
       "      <th>Transit Time P3T</th>\n",
       "      <th>Transit Time P3R</th>\n",
       "      <th>Transit Time P4T</th>\n",
       "      <th>Transit Time P4R</th>\n",
       "      <th>Class</th>\n",
       "    </tr>\n",
       "  </thead>\n",
       "  <tbody>\n",
       "    <tr>\n",
       "      <th>0</th>\n",
       "      <td>1.104706</td>\n",
       "      <td>1.004679</td>\n",
       "      <td>0.994783</td>\n",
       "      <td>2.345833</td>\n",
       "      <td>2.604444</td>\n",
       "      <td>2.580000</td>\n",
       "      <td>2.347222</td>\n",
       "      <td>1485.805556</td>\n",
       "      <td>1485.930556</td>\n",
       "      <td>1485.941667</td>\n",
       "      <td>...</td>\n",
       "      <td>-0.700000</td>\n",
       "      <td>124.150000</td>\n",
       "      <td>123.911944</td>\n",
       "      <td>151.615833</td>\n",
       "      <td>151.275000</td>\n",
       "      <td>151.559444</td>\n",
       "      <td>151.221111</td>\n",
       "      <td>124.253611</td>\n",
       "      <td>124.017778</td>\n",
       "      <td>1</td>\n",
       "    </tr>\n",
       "    <tr>\n",
       "      <th>1</th>\n",
       "      <td>1.089401</td>\n",
       "      <td>0.997778</td>\n",
       "      <td>0.998012</td>\n",
       "      <td>3.399444</td>\n",
       "      <td>3.711111</td>\n",
       "      <td>3.711944</td>\n",
       "      <td>3.414444</td>\n",
       "      <td>1486.163889</td>\n",
       "      <td>1486.302778</td>\n",
       "      <td>1486.302778</td>\n",
       "      <td>...</td>\n",
       "      <td>-0.700000</td>\n",
       "      <td>124.171944</td>\n",
       "      <td>123.831667</td>\n",
       "      <td>151.652222</td>\n",
       "      <td>151.164444</td>\n",
       "      <td>151.595278</td>\n",
       "      <td>151.113333</td>\n",
       "      <td>124.274167</td>\n",
       "      <td>123.937778</td>\n",
       "      <td>1</td>\n",
       "    </tr>\n",
       "    <tr>\n",
       "      <th>2</th>\n",
       "      <td>1.079671</td>\n",
       "      <td>1.006056</td>\n",
       "      <td>0.999027</td>\n",
       "      <td>3.438056</td>\n",
       "      <td>3.714722</td>\n",
       "      <td>3.689722</td>\n",
       "      <td>3.420000</td>\n",
       "      <td>1486.322222</td>\n",
       "      <td>1486.452778</td>\n",
       "      <td>1486.455556</td>\n",
       "      <td>...</td>\n",
       "      <td>-0.700000</td>\n",
       "      <td>124.160000</td>\n",
       "      <td>123.818056</td>\n",
       "      <td>151.636111</td>\n",
       "      <td>151.150833</td>\n",
       "      <td>151.580000</td>\n",
       "      <td>151.096944</td>\n",
       "      <td>124.260833</td>\n",
       "      <td>123.923611</td>\n",
       "      <td>1</td>\n",
       "    </tr>\n",
       "    <tr>\n",
       "      <th>3</th>\n",
       "      <td>1.090834</td>\n",
       "      <td>1.013194</td>\n",
       "      <td>0.994911</td>\n",
       "      <td>3.399444</td>\n",
       "      <td>3.725000</td>\n",
       "      <td>3.660556</td>\n",
       "      <td>3.371111</td>\n",
       "      <td>1486.455556</td>\n",
       "      <td>1486.575000</td>\n",
       "      <td>1486.583333</td>\n",
       "      <td>...</td>\n",
       "      <td>-0.700000</td>\n",
       "      <td>124.144722</td>\n",
       "      <td>123.808611</td>\n",
       "      <td>151.622500</td>\n",
       "      <td>151.139167</td>\n",
       "      <td>151.564167</td>\n",
       "      <td>151.084167</td>\n",
       "      <td>124.250833</td>\n",
       "      <td>123.913056</td>\n",
       "      <td>1</td>\n",
       "    </tr>\n",
       "    <tr>\n",
       "      <th>4</th>\n",
       "      <td>1.093816</td>\n",
       "      <td>1.009716</td>\n",
       "      <td>1.003622</td>\n",
       "      <td>3.398889</td>\n",
       "      <td>3.702778</td>\n",
       "      <td>3.681389</td>\n",
       "      <td>3.351944</td>\n",
       "      <td>1486.600000</td>\n",
       "      <td>1486.725000</td>\n",
       "      <td>1486.730556</td>\n",
       "      <td>...</td>\n",
       "      <td>-0.700000</td>\n",
       "      <td>124.134444</td>\n",
       "      <td>123.797500</td>\n",
       "      <td>151.607500</td>\n",
       "      <td>151.122778</td>\n",
       "      <td>151.550278</td>\n",
       "      <td>151.068889</td>\n",
       "      <td>124.236111</td>\n",
       "      <td>123.903056</td>\n",
       "      <td>1</td>\n",
       "    </tr>\n",
       "    <tr>\n",
       "      <th>...</th>\n",
       "      <td>...</td>\n",
       "      <td>...</td>\n",
       "      <td>...</td>\n",
       "      <td>...</td>\n",
       "      <td>...</td>\n",
       "      <td>...</td>\n",
       "      <td>...</td>\n",
       "      <td>...</td>\n",
       "      <td>...</td>\n",
       "      <td>...</td>\n",
       "      <td>...</td>\n",
       "      <td>...</td>\n",
       "      <td>...</td>\n",
       "      <td>...</td>\n",
       "      <td>...</td>\n",
       "      <td>...</td>\n",
       "      <td>...</td>\n",
       "      <td>...</td>\n",
       "      <td>...</td>\n",
       "      <td>...</td>\n",
       "      <td>...</td>\n",
       "    </tr>\n",
       "    <tr>\n",
       "      <th>175</th>\n",
       "      <td>4.593220</td>\n",
       "      <td>5.153846</td>\n",
       "      <td>0.123245</td>\n",
       "      <td>-0.138611</td>\n",
       "      <td>-1.703889</td>\n",
       "      <td>-0.102778</td>\n",
       "      <td>-0.254722</td>\n",
       "      <td>1513.505556</td>\n",
       "      <td>1507.080556</td>\n",
       "      <td>1494.355556</td>\n",
       "      <td>...</td>\n",
       "      <td>44.600000</td>\n",
       "      <td>121.266111</td>\n",
       "      <td>122.244167</td>\n",
       "      <td>145.081111</td>\n",
       "      <td>155.030000</td>\n",
       "      <td>147.680000</td>\n",
       "      <td>153.622500</td>\n",
       "      <td>117.866389</td>\n",
       "      <td>117.880278</td>\n",
       "      <td>4</td>\n",
       "    </tr>\n",
       "    <tr>\n",
       "      <th>176</th>\n",
       "      <td>0.173768</td>\n",
       "      <td>0.214250</td>\n",
       "      <td>0.098034</td>\n",
       "      <td>-0.200833</td>\n",
       "      <td>-0.401389</td>\n",
       "      <td>-0.103889</td>\n",
       "      <td>-2.706944</td>\n",
       "      <td>1521.897222</td>\n",
       "      <td>1474.400000</td>\n",
       "      <td>1500.705556</td>\n",
       "      <td>...</td>\n",
       "      <td>44.600000</td>\n",
       "      <td>121.082222</td>\n",
       "      <td>121.059167</td>\n",
       "      <td>151.401944</td>\n",
       "      <td>154.034722</td>\n",
       "      <td>147.871389</td>\n",
       "      <td>151.595278</td>\n",
       "      <td>118.459444</td>\n",
       "      <td>118.631111</td>\n",
       "      <td>4</td>\n",
       "    </tr>\n",
       "    <tr>\n",
       "      <th>177</th>\n",
       "      <td>0.049027</td>\n",
       "      <td>0.115593</td>\n",
       "      <td>0.134579</td>\n",
       "      <td>-0.281111</td>\n",
       "      <td>-0.050833</td>\n",
       "      <td>-0.098889</td>\n",
       "      <td>-2.772778</td>\n",
       "      <td>1518.072222</td>\n",
       "      <td>1439.802778</td>\n",
       "      <td>1512.719444</td>\n",
       "      <td>...</td>\n",
       "      <td>44.169444</td>\n",
       "      <td>121.298889</td>\n",
       "      <td>121.370278</td>\n",
       "      <td>158.391111</td>\n",
       "      <td>154.248611</td>\n",
       "      <td>149.020000</td>\n",
       "      <td>148.266389</td>\n",
       "      <td>118.569722</td>\n",
       "      <td>118.807500</td>\n",
       "      <td>4</td>\n",
       "    </tr>\n",
       "    <tr>\n",
       "      <th>178</th>\n",
       "      <td>-0.053056</td>\n",
       "      <td>0.099441</td>\n",
       "      <td>0.143832</td>\n",
       "      <td>-0.386667</td>\n",
       "      <td>0.129722</td>\n",
       "      <td>0.029444</td>\n",
       "      <td>-2.613333</td>\n",
       "      <td>1487.083333</td>\n",
       "      <td>1422.211111</td>\n",
       "      <td>1484.836111</td>\n",
       "      <td>...</td>\n",
       "      <td>44.100000</td>\n",
       "      <td>125.552500</td>\n",
       "      <td>122.318333</td>\n",
       "      <td>161.174167</td>\n",
       "      <td>155.306389</td>\n",
       "      <td>149.217222</td>\n",
       "      <td>153.626111</td>\n",
       "      <td>118.638333</td>\n",
       "      <td>118.872778</td>\n",
       "      <td>4</td>\n",
       "    </tr>\n",
       "    <tr>\n",
       "      <th>179</th>\n",
       "      <td>0.008931</td>\n",
       "      <td>0.914347</td>\n",
       "      <td>1.184204</td>\n",
       "      <td>-2.617222</td>\n",
       "      <td>0.144167</td>\n",
       "      <td>-0.190000</td>\n",
       "      <td>-2.514722</td>\n",
       "      <td>1476.855556</td>\n",
       "      <td>1413.877778</td>\n",
       "      <td>1506.325000</td>\n",
       "      <td>...</td>\n",
       "      <td>44.100000</td>\n",
       "      <td>127.293611</td>\n",
       "      <td>122.416111</td>\n",
       "      <td>161.170278</td>\n",
       "      <td>157.195000</td>\n",
       "      <td>148.598611</td>\n",
       "      <td>150.280556</td>\n",
       "      <td>118.752222</td>\n",
       "      <td>118.986389</td>\n",
       "      <td>4</td>\n",
       "    </tr>\n",
       "  </tbody>\n",
       "</table>\n",
       "<p>180 rows × 44 columns</p>\n",
       "</div>"
      ],
      "text/plain": [
       "     Profile factor  Symmetry  Crossflow  Flow Velocity P1  Flow Velocity P2  \\\n",
       "0          1.104706  1.004679   0.994783          2.345833          2.604444   \n",
       "1          1.089401  0.997778   0.998012          3.399444          3.711111   \n",
       "2          1.079671  1.006056   0.999027          3.438056          3.714722   \n",
       "3          1.090834  1.013194   0.994911          3.399444          3.725000   \n",
       "4          1.093816  1.009716   1.003622          3.398889          3.702778   \n",
       "..              ...       ...        ...               ...               ...   \n",
       "175        4.593220  5.153846   0.123245         -0.138611         -1.703889   \n",
       "176        0.173768  0.214250   0.098034         -0.200833         -0.401389   \n",
       "177        0.049027  0.115593   0.134579         -0.281111         -0.050833   \n",
       "178       -0.053056  0.099441   0.143832         -0.386667          0.129722   \n",
       "179        0.008931  0.914347   1.184204         -2.617222          0.144167   \n",
       "\n",
       "     Flow Velocity P3  Flow Velocity P4  Speed of Sound P1  Speed of Sound P2  \\\n",
       "0            2.580000          2.347222        1485.805556        1485.930556   \n",
       "1            3.711944          3.414444        1486.163889        1486.302778   \n",
       "2            3.689722          3.420000        1486.322222        1486.452778   \n",
       "3            3.660556          3.371111        1486.455556        1486.575000   \n",
       "4            3.681389          3.351944        1486.600000        1486.725000   \n",
       "..                ...               ...                ...                ...   \n",
       "175         -0.102778         -0.254722        1513.505556        1507.080556   \n",
       "176         -0.103889         -2.706944        1521.897222        1474.400000   \n",
       "177         -0.098889         -2.772778        1518.072222        1439.802778   \n",
       "178          0.029444         -2.613333        1487.083333        1422.211111   \n",
       "179         -0.190000         -2.514722        1476.855556        1413.877778   \n",
       "\n",
       "     Speed of Sound P3  ...   Gain P4R  Transit Time P1T  Transit Time P1R  \\\n",
       "0          1485.941667  ...  -0.700000        124.150000        123.911944   \n",
       "1          1486.302778  ...  -0.700000        124.171944        123.831667   \n",
       "2          1486.455556  ...  -0.700000        124.160000        123.818056   \n",
       "3          1486.583333  ...  -0.700000        124.144722        123.808611   \n",
       "4          1486.730556  ...  -0.700000        124.134444        123.797500   \n",
       "..                 ...  ...        ...               ...               ...   \n",
       "175        1494.355556  ...  44.600000        121.266111        122.244167   \n",
       "176        1500.705556  ...  44.600000        121.082222        121.059167   \n",
       "177        1512.719444  ...  44.169444        121.298889        121.370278   \n",
       "178        1484.836111  ...  44.100000        125.552500        122.318333   \n",
       "179        1506.325000  ...  44.100000        127.293611        122.416111   \n",
       "\n",
       "     Transit Time P2T  Transit Time P2R  Transit Time P3T  Transit Time P3R  \\\n",
       "0          151.615833        151.275000        151.559444        151.221111   \n",
       "1          151.652222        151.164444        151.595278        151.113333   \n",
       "2          151.636111        151.150833        151.580000        151.096944   \n",
       "3          151.622500        151.139167        151.564167        151.084167   \n",
       "4          151.607500        151.122778        151.550278        151.068889   \n",
       "..                ...               ...               ...               ...   \n",
       "175        145.081111        155.030000        147.680000        153.622500   \n",
       "176        151.401944        154.034722        147.871389        151.595278   \n",
       "177        158.391111        154.248611        149.020000        148.266389   \n",
       "178        161.174167        155.306389        149.217222        153.626111   \n",
       "179        161.170278        157.195000        148.598611        150.280556   \n",
       "\n",
       "     Transit Time P4T  Transit Time P4R  Class  \n",
       "0          124.253611        124.017778      1  \n",
       "1          124.274167        123.937778      1  \n",
       "2          124.260833        123.923611      1  \n",
       "3          124.250833        123.913056      1  \n",
       "4          124.236111        123.903056      1  \n",
       "..                ...               ...    ...  \n",
       "175        117.866389        117.880278      4  \n",
       "176        118.459444        118.631111      4  \n",
       "177        118.569722        118.807500      4  \n",
       "178        118.638333        118.872778      4  \n",
       "179        118.752222        118.986389      4  \n",
       "\n",
       "[180 rows x 44 columns]"
      ]
     },
     "execution_count": 21,
     "metadata": {},
     "output_type": "execute_result"
    }
   ],
   "source": [
    "visas = df_median_meterD\n",
    "visas"
   ]
  },
  {
   "cell_type": "code",
   "execution_count": null,
   "metadata": {},
   "outputs": [],
   "source": []
  },
  {
   "cell_type": "code",
   "execution_count": null,
   "metadata": {},
   "outputs": [],
   "source": []
  },
  {
   "cell_type": "code",
   "execution_count": 22,
   "metadata": {},
   "outputs": [
    {
     "data": {
      "text/plain": [
       "(151, 44)"
      ]
     },
     "execution_count": 22,
     "metadata": {},
     "output_type": "execute_result"
    }
   ],
   "source": [
    "z_scores = stats.zscore(visas)\n",
    "abs_z_scores = np.abs(z_scores)\n",
    "filtered_entries = (abs_z_scores < 3).all(axis=1)\n",
    "vis = visas[filtered_entries]\n",
    "vis.shape"
   ]
  },
  {
   "cell_type": "code",
   "execution_count": 23,
   "metadata": {},
   "outputs": [
    {
     "data": {
      "image/png": "[encoded data removed]",
      "text/plain": [
       "<Figure size 432x288 with 1 Axes>"
      ]
     },
     "metadata": {
      "needs_background": "light"
     },
     "output_type": "display_data"
    },
    {
     "data": {
      "text/plain": [
       "<Figure size 720x504 with 0 Axes>"
      ]
     },
     "metadata": {},
     "output_type": "display_data"
    },
    {
     "name": "stdout",
     "output_type": "stream",
     "text": [
      "(151, 44)\n"
     ]
    }
   ],
   "source": [
    "val_1 = vis['Profile factor']\n",
    "plt.title('Line plot(Median)')\n",
    "plt.plot(val_1)\n",
    "fig = plt.figure(figsize =(10, 7))\n",
    "plt.show()\n",
    "print(vis.shape)"
   ]
  },
  {
   "cell_type": "code",
   "execution_count": 32,
   "metadata": {},
   "outputs": [
    {
     "data": {
      "image/png": "[encoded data removed]",
      "text/plain": [
       "<Figure size 432x288 with 1 Axes>"
      ]
     },
     "metadata": {
      "needs_background": "light"
     },
     "output_type": "display_data"
    }
   ],
   "source": [
    "ax = sns.countplot(x=df_remove_meterD['Class'], label=\"Count\") \n",
    "ax.bar_label(ax.containers[0]) \n",
    "ax.set_xticklabels(['Healthy', 'Gas injection', 'Installation Effects','Waxing'], fontsize=8) \n",
    "plt.title('Meter D Counter')\n",
    "plt.show()"
   ]
  },
  {
   "cell_type": "code",
   "execution_count": 25,
   "metadata": {},
   "outputs": [
    {
     "name": "stdout",
     "output_type": "stream",
     "text": [
      "(151, 44)\n"
     ]
    }
   ],
   "source": [
    "print(vis.shape)"
   ]
  },
  {
   "cell_type": "code",
   "execution_count": 26,
   "metadata": {},
   "outputs": [
    {
     "data": {
      "image/png": "[encoded data removed]",
      "text/plain": [
       "<Figure size 432x288 with 1 Axes>"
      ]
     },
     "metadata": {
      "needs_background": "light"
     },
     "output_type": "display_data"
    },
    {
     "data": {
      "text/plain": [
       "<Figure size 720x504 with 0 Axes>"
      ]
     },
     "metadata": {},
     "output_type": "display_data"
    },
    {
     "data": {
      "text/plain": [
       "(126, 44)"
      ]
     },
     "execution_count": 26,
     "metadata": {},
     "output_type": "execute_result"
    }
   ],
   "source": [
    "df_median_meterD.drop(df_median_meterD.index[[61,62,73,129,130,131,132,133,134,135,136,137,138,139,140,141,142,143,144,145,146,147,148,149,150,151,152,153,154,155,156,157,158,159,160,161,162,163,164,165,166,167,168,169,170,171,172,173,174,175,176,177,178,179]],inplace=True)\n",
    "\n",
    "val_1 = df_median_meterD['Profile factor']\n",
    "plt.title('Boxplot (Median)')\n",
    "plt.boxplot(val_1)\n",
    "fig = plt.figure(figsize =(10, 7))\n",
    "plt.show()\n",
    "\n",
    "df_median_meterD.shape"
   ]
  },
  {
   "cell_type": "markdown",
   "metadata": {},
   "source": [
    "# Remove outliers using Z-score"
   ]
  },
  {
   "cell_type": "code",
   "execution_count": 27,
   "metadata": {},
   "outputs": [
    {
     "data": {
      "text/plain": [
       "(113, 44)"
      ]
     },
     "execution_count": 27,
     "metadata": {},
     "output_type": "execute_result"
    }
   ],
   "source": [
    "z_scores = stats.zscore(df_median_meterD)\n",
    "abs_z_scores = np.abs(z_scores)\n",
    "filtered_entries = (abs_z_scores < 3).all(axis=1)\n",
    "df_median_meterD = df_median_meterD[filtered_entries]\n",
    "df_median_meterD.shape"
   ]
  },
  {
   "cell_type": "markdown",
   "metadata": {},
   "source": [
    "<font font size=\"5\" color='blue'> Remove another 13 rows using Z score  </font>"
   ]
  },
  {
   "cell_type": "code",
   "execution_count": 31,
   "metadata": {},
   "outputs": [
    {
     "data": {
      "image/png": "[encoded data removed]",
      "text/plain": [
       "<Figure size 432x288 with 1 Axes>"
      ]
     },
     "metadata": {
      "needs_background": "light"
     },
     "output_type": "display_data"
    },
    {
     "data": {
      "text/plain": [
       "<Figure size 720x504 with 0 Axes>"
      ]
     },
     "metadata": {},
     "output_type": "display_data"
    },
    {
     "name": "stdout",
     "output_type": "stream",
     "text": [
      "(151, 44)\n"
     ]
    }
   ],
   "source": [
    "val_1 = df_median_meterD['Profile factor']\n",
    "plt.title('Line plot(Median)')\n",
    "plt.plot(val_1)\n",
    "fig = plt.figure(figsize =(10, 7))\n",
    "plt.show()\n",
    "print(df_median_meterD.shape)"
   ]
  },
  {
   "cell_type": "markdown",
   "metadata": {},
   "source": [
    "<font font size=\"5\" color='blue'> We can see the values are more constant using median values thus it is the better choice  </font>"
   ]
  },
  {
   "cell_type": "code",
   "execution_count": 28,
   "metadata": {},
   "outputs": [
    {
     "data": {
      "image/png": "[encoded data removed]",
      "text/plain": [
       "<Figure size 432x288 with 1 Axes>"
      ]
     },
     "metadata": {
      "needs_background": "light"
     },
     "output_type": "display_data"
    }
   ],
   "source": [
    "ax = sns.countplot(x=df_median_meterD['Class'], label=\"Count\") \n",
    "ax.bar_label(ax.containers[0]) \n",
    "ax.set_xticklabels(['Healthy', 'Gas injection', 'Installation Effects'], fontsize=8) \n",
    "plt.title('Meter D Counter')\n",
    "plt.show()"
   ]
  },
  {
   "cell_type": "markdown",
   "metadata": {},
   "source": [
    "<font font size=\"5\" color='blue'> Just by change to median values the columns, there is decrease of following:  </font>\n",
    "- Healthy: 51(51)\n",
    "- Gas Injection: 7(23) - 16\n",
    "- Installation Effects: 55(55)\n",
    "- Waxing: 0(51) - 51"
   ]
  },
  {
   "cell_type": "code",
   "execution_count": null,
   "metadata": {},
   "outputs": [],
   "source": [
    "df_median_meterD.to_csv('dataset/df_median_d', sep='\\t')"
   ]
  },
  {
   "cell_type": "markdown",
   "metadata": {},
   "source": [
    "<font font size=\"5\" color='blue'> Save the current data frame into csv to be used for merging</font>"
   ]
  },
  {
   "cell_type": "markdown",
   "metadata": {},
   "source": [
    "# 7) PCA\n",
    "Principal component analysis (PCA) is a classical method for reducing the number of attributes in the data by projecting the data from its original high-dimensional space into a lower-dimensional space. The new attributes (also known as components) created by PCA have the following properties:\n",
    "\n",
    "(1) they are linear combinations of the original attributes,\n",
    "\n",
    "(2) they are orthogonal (perpendicular) to each other\n",
    "\n",
    "(3) they capture the maximum amount of variation in the data."
   ]
  },
  {
   "cell_type": "markdown",
   "metadata": {},
   "source": [
    "# Normalize data"
   ]
  },
  {
   "cell_type": "code",
   "execution_count": null,
   "metadata": {},
   "outputs": [],
   "source": [
    "from sklearn.preprocessing import StandardScaler\n",
    "\n",
    "dataset = df_median_meterD\n",
    "X= dataset.drop(['Class'],axis=1)\n",
    "Y= dataset[['Class']]\n",
    "\n",
    "scaler = StandardScaler()\n",
    "scaler.fit(X)\n",
    "\n",
    "X=scaler.transform(X)\n"
   ]
  },
  {
   "cell_type": "code",
   "execution_count": null,
   "metadata": {},
   "outputs": [],
   "source": [
    "from sklearn.decomposition import PCA\n",
    "pca = PCA()\n",
    "X_pca = pca.fit_transform(X)\n",
    "X_pca.shape"
   ]
  },
  {
   "cell_type": "code",
   "execution_count": null,
   "metadata": {},
   "outputs": [],
   "source": [
    "explained_veriance = pca.explained_variance_ratio_\n",
    "plt.plot(np.cumsum(pca.explained_variance_ratio_))\n",
    "plt.title('PCA components')\n",
    "plt.xlabel('Number of Components')\n",
    "plt.ylabel('Cumulative Varience')"
   ]
  },
  {
   "cell_type": "code",
   "execution_count": null,
   "metadata": {},
   "outputs": [],
   "source": [
    "pca = PCA(0.95)#0.99\n",
    "pca.fit(df_median_meterD)\n",
    "X_pca = pca.fit_transform(df_median_meterD)\n",
    "print(\"original shape:   \", X.shape)\n",
    "print(\"transformed shape:\", X_pca.shape)"
   ]
  },
  {
   "cell_type": "code",
   "execution_count": null,
   "metadata": {},
   "outputs": [],
   "source": [
    "# calculate cumulative sum of explained variances\n",
    "tot = sum(pca.explained_variance_)\n",
    "print(f\"Explained variance ratio: {pca.explained_variance_}\")\n",
    "print(f\"Total cummulative sum: {tot}\")\n",
    "var_exp = [(i / tot) for i in sorted(pca.explained_variance_, reverse=True)]\n",
    "cum_var_exp = np.cumsum(var_exp)\n",
    "\n",
    "# plot explained variances\n",
    "plt.bar(range(1,4), var_exp, alpha=0.5,\n",
    "        align='center', label='Individual Explained Variance')\n",
    "plt.step(range(1,4), cum_var_exp, where='mid',\n",
    "         label='Cumulative Explained Variance')\n",
    "plt.ylabel('Explained Variance Ratio')\n",
    "plt.xlabel('Principal Component Index')\n",
    "plt.title('Number of PC Components')\n",
    "plt.legend(loc='best')\n",
    "plt.show()"
   ]
  },
  {
   "cell_type": "code",
   "execution_count": null,
   "metadata": {},
   "outputs": [],
   "source": [
    "X_pca.shape"
   ]
  },
  {
   "cell_type": "code",
   "execution_count": null,
   "metadata": {},
   "outputs": [],
   "source": [
    "from sklearn.preprocessing import StandardScaler\n",
    "\n",
    "dataset = df_median_meterD\n",
    "X= dataset.drop(['Class'],axis=1)\n",
    "Y= dataset[['Class']]\n",
    "\n",
    "scaler = StandardScaler()\n",
    "# scaler.fit(X)\n",
    "\n",
    "# X=scaler.transform(X)\n",
    "X=scaler.fit_transform(X)"
   ]
  },
  {
   "cell_type": "code",
   "execution_count": null,
   "metadata": {},
   "outputs": [],
   "source": [
    "from sklearn.decomposition import PCA\n",
    "\n",
    "pca = PCA(0.95)#0.99\n",
    "pca.fit(df_median_meterD)\n",
    "X_pca = pca.fit_transform(df_median_meterD)\n",
    "print(\"original shape:   \", X.shape)\n",
    "print(\"transformed shape:\", X_pca.shape)"
   ]
  },
  {
   "cell_type": "code",
   "execution_count": null,
   "metadata": {},
   "outputs": [],
   "source": [
    "plt.scatter(X[:, 0], X[:, 1],\n",
    "            c=dataset['Class'], edgecolor='none', alpha=0.5,\n",
    "            cmap=plt.cm.get_cmap('gist_rainbow_r', 3))\n",
    "plt.xlabel('Component 1')\n",
    "plt.ylabel('Component 2')\n",
    "plt.title('Original Data - Without PCA')\n",
    "plt.colorbar()"
   ]
  },
  {
   "cell_type": "code",
   "execution_count": null,
   "metadata": {},
   "outputs": [],
   "source": [
    "plt.scatter(X_pca[:, 0], X_pca[:, 1],\n",
    "            c=dataset['Class'], edgecolor='none', alpha=0.5,\n",
    "            cmap=plt.cm.get_cmap('gist_rainbow_r', 4))\n",
    "plt.xlabel('component 1')\n",
    "plt.ylabel('component 2')\n",
    "plt.title('PCA Scatterplot')\n",
    "plt.colorbar()"
   ]
  },
  {
   "cell_type": "code",
   "execution_count": null,
   "metadata": {},
   "outputs": [],
   "source": [
    "from mpl_toolkits import mplot3d \n",
    " \n",
    "fig = plt.figure(figsize = (12,8)) \n",
    "ax = plt.axes(projection='3d')  \n",
    " \n",
    "sctt = ax.scatter3D(X_pca[:,0], X_pca[:,1], X_pca[:,2], \n",
    "                    c=dataset['Class'], s=20, alpha=0.6) \n",
    "plt.title(\"3D Scatterplot\", pad=15) \n",
    "ax.set_xlabel(\"PC1\") \n",
    "ax.set_ylabel(\"PC2\") \n",
    "ax.set_zlabel(\"PC3\")"
   ]
  },
  {
   "cell_type": "code",
   "execution_count": null,
   "metadata": {},
   "outputs": [],
   "source": []
  },
  {
   "cell_type": "code",
   "execution_count": null,
   "metadata": {},
   "outputs": [],
   "source": []
  },
  {
   "cell_type": "code",
   "execution_count": null,
   "metadata": {},
   "outputs": [],
   "source": []
  },
  {
   "cell_type": "code",
   "execution_count": null,
   "metadata": {},
   "outputs": [],
   "source": []
  },
  {
   "cell_type": "code",
   "execution_count": null,
   "metadata": {},
   "outputs": [],
   "source": []
  },
  {
   "cell_type": "code",
   "execution_count": null,
   "metadata": {},
   "outputs": [],
   "source": []
  },
  {
   "cell_type": "code",
   "execution_count": null,
   "metadata": {},
   "outputs": [],
   "source": []
  },
  {
   "cell_type": "markdown",
   "metadata": {},
   "source": [
    "# 8) Covariance"
   ]
  },
  {
   "cell_type": "code",
   "execution_count": null,
   "metadata": {},
   "outputs": [],
   "source": [
    "X_pca"
   ]
  },
  {
   "cell_type": "markdown",
   "metadata": {},
   "source": [
    "# 9) Feature Importance"
   ]
  },
  {
   "cell_type": "code",
   "execution_count": null,
   "metadata": {},
   "outputs": [],
   "source": [
    "from sklearn.preprocessing import StandardScaler\n",
    "# load dataset\n",
    "dataset = df_median_meterD\n",
    "X= dataset.drop(['Class'],axis=1)\n",
    "Y= dataset['Class']\n",
    "# normalize data\n",
    "scaler = StandardScaler()\n",
    "X=scaler.fit_transform(X)"
   ]
  },
  {
   "cell_type": "code",
   "execution_count": null,
   "metadata": {},
   "outputs": [],
   "source": [
    "X_pca.shape"
   ]
  },
  {
   "cell_type": "code",
   "execution_count": null,
   "metadata": {},
   "outputs": [],
   "source": [
    "from sklearn.decomposition import PCA\n",
    "\n",
    "pca = PCA(.95)\n",
    "X_pca = pca.fit_transform(X) \n",
    "\n",
    "projected = pd.DataFrame(X_pca,columns=['PC1','PC2','PC3','PC4','PC5','PC6','PC7']) \n",
    "projected.head()\n"
   ]
  },
  {
   "cell_type": "code",
   "execution_count": null,
   "metadata": {},
   "outputs": [],
   "source": [
    "# calculate cumulative sum of explained variances\n",
    "tot = sum(pca.explained_variance_)\n",
    "print(f\"Explained variance ratio: {pca.explained_variance_}\")\n",
    "print(f\"Total cummulative sum: {tot}\")\n",
    "var_exp = [(i / tot) for i in sorted(pca.explained_variance_, reverse=True)]\n",
    "cum_var_exp = np.cumsum(var_exp)\n",
    "\n",
    "# plot explained variances\n",
    "plt.bar(range(1,8), var_exp, alpha=0.5,\n",
    "        align='center', label='Individual Explained Variance')\n",
    "plt.step(range(1,8), cum_var_exp, where='mid',\n",
    "         label='Cumulative Explained Variance')\n",
    "plt.ylabel('Explained Variance Ratio')\n",
    "plt.xlabel('Principal Component Index')\n",
    "plt.title('Number of PC Components')\n",
    "plt.legend(loc='best')\n",
    "plt.show()"
   ]
  },
  {
   "cell_type": "code",
   "execution_count": null,
   "metadata": {},
   "outputs": [],
   "source": [
    "plt.plot(np.cumsum(pca.explained_variance_ratio_))\n",
    "plt.title('PCA components')\n",
    "plt.xlabel('Number of Components')\n",
    "plt.ylabel('Cumulative Varience')"
   ]
  },
  {
   "cell_type": "code",
   "execution_count": null,
   "metadata": {},
   "outputs": [],
   "source": [
    "plt.scatter(X[:, 0], X[:, 1],\n",
    "            c=dataset['Class'], edgecolor='none', alpha=0.5,\n",
    "            cmap=plt.cm.get_cmap('gist_rainbow_r', 3))\n",
    "plt.xlabel('Component 1')\n",
    "plt.ylabel('Component 2')\n",
    "plt.title('Original Data - Without PCA')\n",
    "plt.colorbar()"
   ]
  },
  {
   "cell_type": "code",
   "execution_count": null,
   "metadata": {},
   "outputs": [],
   "source": [
    "plt.scatter(X_pca[:, 0], X_pca[:, 1],\n",
    "            c=dataset['Class'], edgecolor='none', alpha=0.5,\n",
    "            cmap=plt.cm.get_cmap('gist_rainbow_r', 4))\n",
    "plt.xlabel('Component 1')\n",
    "plt.ylabel('Component 2')\n",
    "plt.title('PCA Scatterplot')\n",
    "plt.colorbar()"
   ]
  },
  {
   "cell_type": "code",
   "execution_count": null,
   "metadata": {},
   "outputs": [],
   "source": [
    "fig = plt.figure(figsize = (10,8)) \n",
    "ax = plt.axes(projection='3d')  \n",
    " \n",
    "sctt = ax.scatter3D(X_pca[:,0], X_pca[:,1], X_pca[:,2], \n",
    "                    c=dataset['Class'], s=20, alpha=0.6) \n",
    "plt.title(\"3D Scatterplot\", pad=15) \n",
    "ax.set_xlabel(\"PC1\") \n",
    "ax.set_ylabel(\"PC2\") \n",
    "ax.set_zlabel(\"PC3\")"
   ]
  },
  {
   "cell_type": "code",
   "execution_count": null,
   "metadata": {},
   "outputs": [],
   "source": []
  },
  {
   "cell_type": "code",
   "execution_count": null,
   "metadata": {},
   "outputs": [],
   "source": []
  },
  {
   "cell_type": "code",
   "execution_count": null,
   "metadata": {},
   "outputs": [],
   "source": []
  },
  {
   "cell_type": "code",
   "execution_count": null,
   "metadata": {},
   "outputs": [],
   "source": []
  },
  {
   "cell_type": "code",
   "execution_count": null,
   "metadata": {},
   "outputs": [],
   "source": [
    "df_pca = pd.DataFrame(abs(pca.components_), columns=col_name_noclass)\n",
    "df_pca = df_pca.set_axis(['PC1','PC2','PC3','PC4','PC5','PC6','PC7'])\n",
    "pd.set_option('display.float_format', lambda x: '%.5f' % x) \n",
    "df_pca"
   ]
  },
  {
   "cell_type": "code",
   "execution_count": null,
   "metadata": {},
   "outputs": [],
   "source": [
    "col_name"
   ]
  },
  {
   "cell_type": "markdown",
   "metadata": {},
   "source": [
    "### Individual PC Results(Decending)"
   ]
  },
  {
   "cell_type": "markdown",
   "metadata": {},
   "source": [
    "#### PC1"
   ]
  },
  {
   "cell_type": "code",
   "execution_count": null,
   "metadata": {},
   "outputs": [],
   "source": [
    "df_pc1 =df_pca.iloc[[0]]\n",
    "a = abs(pca.components_[0])\n",
    "b = zip(col_name_noclass,a)\n",
    "# Using sorted and lambda\n",
    "res = sorted(b, key = lambda x: x[1],reverse=True)\n",
    "\n",
    "values = []\n",
    "columns =[]\n",
    "for col,val in res:\n",
    "    values.append(val)\n",
    "    columns.append(col)\n",
    "values =[values]\n",
    "\n",
    "df_pc1 = pd.DataFrame(values,columns=columns)\n",
    "df_pc1"
   ]
  },
  {
   "cell_type": "markdown",
   "metadata": {},
   "source": [
    "#### PC2"
   ]
  },
  {
   "cell_type": "code",
   "execution_count": null,
   "metadata": {},
   "outputs": [],
   "source": [
    "df_pc1 =df_pca.iloc[[1]]\n",
    "a = abs(pca.components_[1])\n",
    "b = zip(col_name_noclass,a)\n",
    "# Using sorted and lambda\n",
    "res = sorted(b, key = lambda x: x[1],reverse=True)\n",
    "\n",
    "values = []\n",
    "columns =[]\n",
    "for col,val in res:\n",
    "    values.append(val)\n",
    "    columns.append(col)\n",
    "values =[values]\n",
    "\n",
    "df_pc2 = pd.DataFrame(values,columns=columns)\n",
    "df_pc2"
   ]
  },
  {
   "cell_type": "markdown",
   "metadata": {},
   "source": [
    "#### PC3"
   ]
  },
  {
   "cell_type": "code",
   "execution_count": null,
   "metadata": {},
   "outputs": [],
   "source": [
    "df_pc1 =df_pca.iloc[[2]]\n",
    "a = abs(pca.components_[2])\n",
    "b = zip(col_name_noclass,a)\n",
    "# Using sorted and lambda\n",
    "res = sorted(b, key = lambda x: x[1],reverse=True)\n",
    "\n",
    "values = []\n",
    "columns =[]\n",
    "for col,val in res:\n",
    "    values.append(val)\n",
    "    columns.append(col)\n",
    "values =[values]\n",
    "\n",
    "df_pc3 = pd.DataFrame(values,columns=columns)\n",
    "df_pc3"
   ]
  },
  {
   "cell_type": "markdown",
   "metadata": {},
   "source": [
    "#### PC4"
   ]
  },
  {
   "cell_type": "code",
   "execution_count": null,
   "metadata": {},
   "outputs": [],
   "source": [
    "df_pc1 =df_pca.iloc[[3]]\n",
    "a = abs(pca.components_[3])\n",
    "b = zip(col_name_noclass,a)\n",
    "# Using sorted and lambda\n",
    "res = sorted(b, key = lambda x: x[1],reverse=True)\n",
    "\n",
    "values = []\n",
    "columns =[]\n",
    "for col,val in res:\n",
    "    values.append(val)\n",
    "    columns.append(col)\n",
    "values =[values]\n",
    "\n",
    "df_pc4 = pd.DataFrame(values,columns=columns)\n",
    "df_pc4"
   ]
  },
  {
   "cell_type": "markdown",
   "metadata": {},
   "source": [
    "# Biplots"
   ]
  },
  {
   "cell_type": "code",
   "execution_count": null,
   "metadata": {},
   "outputs": [],
   "source": [
    "def myplot(score,coeff,labels=None):\n",
    "    xs = score[:,0]\n",
    "    ys = score[:,1]\n",
    "    n = coeff.shape[0]\n",
    "    y= dataset['Class']\n",
    "    scalex = 1.0/(xs.max() - xs.min())\n",
    "    scaley = 1.0/(ys.max() - ys.min())\n",
    "    plt.scatter(xs * scalex,ys * scaley, c = y)\n",
    "    for i in range(n):\n",
    "        plt.arrow(0, 0, coeff[i,0], coeff[i,1],color = 'r',alpha = 0.5)\n",
    "        if labels is None:\n",
    "            plt.text(coeff[i,0]* 1.15, coeff[i,1] * 1.15, str(i+1),fontsize=20, color = 'g', ha = 'center', va = 'center')\n",
    "        else:\n",
    "            plt.text(coeff[i,0]* 1.15, coeff[i,1] * 1.15, labels[i], color = 'g', ha = 'center', va = 'center')\n",
    "    plt.xlim(-1,1)\n",
    "    plt.ylim(-1,1)\n",
    "    plt.grid()\n",
    "\n",
    "#Call the function. Use only the 2 PCs.\n",
    "myplot(X_pca[:,0:2],np.transpose(pca.components_[0:2, :]))\n",
    "# figure size\n",
    "fig = plt.gcf()\n",
    "fig.set_size_inches(20, 10)\n",
    "plt.title('Biplot for PC1/PC2')\n",
    "plt.xlabel(\"PC1\".format(1))\n",
    "plt.ylabel(\"PC2\".format(2))\n",
    "plt.show()"
   ]
  },
  {
   "cell_type": "code",
   "execution_count": null,
   "metadata": {},
   "outputs": [],
   "source": [
    "myplot(X_pca[:,0:2],np.transpose(pca.components_[2:4, :]))\n",
    "# figure size\n",
    "fig = plt.gcf()\n",
    "fig.set_size_inches(20, 10)\n",
    "plt.title('Biplot for PC3/PC4')\n",
    "plt.xlabel(\"PC3\".format(1))\n",
    "plt.ylabel(\"PC4\".format(2))\n",
    "plt.show()"
   ]
  },
  {
   "cell_type": "code",
   "execution_count": null,
   "metadata": {},
   "outputs": [],
   "source": []
  },
  {
   "cell_type": "code",
   "execution_count": null,
   "metadata": {},
   "outputs": [],
   "source": []
  },
  {
   "cell_type": "code",
   "execution_count": null,
   "metadata": {},
   "outputs": [],
   "source": []
  },
  {
   "cell_type": "code",
   "execution_count": null,
   "metadata": {},
   "outputs": [],
   "source": []
  },
  {
   "cell_type": "markdown",
   "metadata": {},
   "source": [
    "# 10) Data Mining"
   ]
  },
  {
   "cell_type": "code",
   "execution_count": null,
   "metadata": {},
   "outputs": [],
   "source": [
    "from sklearn.preprocessing import StandardScaler\n",
    "\n",
    "dataset_used =df_median_meterD  #df_remove_meterD #df_median_meterD\n",
    "scaler = StandardScaler()\n",
    "X_scaled = scaler.fit_transform(dataset_used)\n",
    "X_scaled\n",
    "y = dataset_used['Class']"
   ]
  },
  {
   "cell_type": "markdown",
   "metadata": {},
   "source": [
    "# Splitting of dataset"
   ]
  },
  {
   "cell_type": "code",
   "execution_count": null,
   "metadata": {},
   "outputs": [],
   "source": [
    "from sklearn.model_selection import train_test_split\n",
    "\n",
    "dataset_used =df_median_meterD  #df_remove_meterD #df_median_meterD\n",
    "\n",
    "scaler = StandardScaler()\n",
    "X_scaled = scaler.fit_transform(dataset_used)\n",
    "\n",
    "y = dataset_used['Class']\n",
    "x_train, x_test, y_train, y_test = train_test_split(X_scaled, y, test_size = 0.3, random_state=0)"
   ]
  },
  {
   "cell_type": "markdown",
   "metadata": {},
   "source": [
    "##  Supervised Learning - LR,SVM,NLSVM,DT,NN,RR"
   ]
  },
  {
   "cell_type": "markdown",
   "metadata": {},
   "source": [
    "# Model LR"
   ]
  },
  {
   "cell_type": "code",
   "execution_count": null,
   "metadata": {},
   "outputs": [],
   "source": [
    "from sklearn.linear_model import LogisticRegression\n",
    "from sklearn.metrics import accuracy_score\n",
    "\n",
    "num_components = [2,4,6,7,8,9,10,13,16,20,22,24,26,28,30,35,40]\n",
    "\n",
    "trainAccuracy = np.zeros(len(num_components))\n",
    "testAccuracy = np.zeros(len(num_components))\n",
    "\n",
    "index = 0\n",
    "for compo in num_components:\n",
    "    pca = PCA(compo)#n_components=20\n",
    "    x_pca = pca.fit_transform(dataset_used)\n",
    "    x_train_pca, x_test_pca, y_train, y_test = train_test_split(x_pca, y, test_size = 0.3, random_state=0)\n",
    "    model_pca = LogisticRegression(max_iter=20000,random_state=0)\n",
    "    model_pca.fit(x_train_pca, y_train)\n",
    "    \n",
    "    Y_predTrain = model_pca.predict(x_train_pca)\n",
    "    Y_predTest = model_pca.predict(x_test_pca)\n",
    "    \n",
    "    trainAccuracy[index] = accuracy_score(y_train, Y_predTrain)\n",
    "    testAccuracy[index] = accuracy_score(y_test, Y_predTest)\n",
    "    index += 1\n",
    "\n",
    "# ###########################################################################\n",
    "# # Plot training and test accuracies\n",
    "# ##########################################################################\n",
    "    \n",
    "plt.plot(num_components,trainAccuracy,'ro-',num_components,testAccuracy,'bv--')\n",
    "plt.title(\"Train Accuracy VS Test Accuracy\")\n",
    "plt.legend(['Training Accuracy','Test Accuracy'])\n",
    "plt.xlabel('Number of Components')\n",
    "plt.ylabel('Accuracy')\n",
    "print(\"Highest training accuracy:\", max(trainAccuracy))\n",
    "print(\"Highest testing accuracy:\", max(testAccuracy))\n",
    "print(\"Lowest testing accuracy:\", min(testAccuracy))"
   ]
  },
  {
   "cell_type": "markdown",
   "metadata": {},
   "source": [
    "# Model SVC"
   ]
  },
  {
   "cell_type": "code",
   "execution_count": null,
   "metadata": {},
   "outputs": [],
   "source": [
    "from sklearn.svm import SVC\n",
    "\n",
    "C = [0.01, 0.1, 0.2, 0.5, 0.8, 1, 5, 10, 20, 50]\n",
    "SVMtrainAcc = []\n",
    "SVMtestAcc = []\n",
    "\n",
    "for param in C:\n",
    "    clf5 = SVC(C=param,kernel='rbf',gamma='auto',random_state=0)\n",
    "    clf5.fit(x_train, y_train)\n",
    "    Y_predTrain = clf5.predict(x_train)\n",
    "    Y_predTest = clf5.predict(x_test)\n",
    "    SVMtrainAcc.append(accuracy_score(y_train, Y_predTrain))\n",
    "    SVMtestAcc.append(accuracy_score(y_test, Y_predTest))\n",
    "\n",
    "plt.plot(C, SVMtrainAcc, 'ro-', C, SVMtestAcc,'bv--')\n",
    "plt.legend(['Training Accuracy','Test Accuracy'])\n",
    "plt.xlabel('C')\n",
    "plt.xscale('log')\n",
    "plt.ylabel('Accuracy')\n",
    "print(\"Highest training accuracy:\", max(SVMtestAcc))\n",
    "print(\"Highest testing accuracy:\", max(SVMtestAcc))\n",
    "print(\"Lowest testing accuracy:\", min(SVMtestAcc))"
   ]
  },
  {
   "cell_type": "markdown",
   "metadata": {},
   "source": [
    "# Decision Tree"
   ]
  },
  {
   "cell_type": "code",
   "execution_count": null,
   "metadata": {},
   "outputs": [],
   "source": [
    "from sklearn.tree import DecisionTreeClassifier\n",
    "\n",
    "x_train, x_test, y_train, y_test = train_test_split(X_scaled, y, test_size = 0.3, random_state=0)\n",
    "\n",
    "clf7 = DecisionTreeClassifier(max_depth=10)\n",
    "clf7.fit(x_train, y_train)\n",
    "\n",
    "clf7.score(x_test, y_test)"
   ]
  },
  {
   "cell_type": "code",
   "execution_count": null,
   "metadata": {},
   "outputs": [],
   "source": [
    "maxdepth = [1,2,3,4,6,8,10,15,18,20,30,40]\n",
    "dt_trainAcc = []\n",
    "dt_testAcc = []\n",
    "\n",
    "for param in C:\n",
    "    clf7=DecisionTreeClassifier(max_depth=param, random_state=0)\n",
    "    clf7.fit(x_train, y_train)\n",
    "    Y_predTrain = clf7.predict(x_train)\n",
    "    Y_predTest = clf7.predict(x_test)\n",
    "    dt_trainAcc.append(accuracy_score(y_train, Y_predTrain))\n",
    "    dt_testAcc.append(accuracy_score(y_test, Y_predTest))\n",
    "\n",
    "plt.plot(C, dt_trainAcc, 'ro-', C, dt_testAcc,'bv--')\n",
    "plt.legend(['Training Accuracy','Test Accuracy'])\n",
    "plt.xlabel('Max Depth')\n",
    "plt.ylabel('Accuracy')\n",
    "print(\"Highest training accuracy:\", max(dt_trainAcc))\n",
    "print(\"Highest testing accuracy:\", max(dt_testAcc))\n",
    "print(\"Lowest testing accuracy:\", min(dt_testAcc))"
   ]
  },
  {
   "cell_type": "code",
   "execution_count": null,
   "metadata": {},
   "outputs": [],
   "source": [
    "from sklearn import tree\n",
    "Y = df_median_meterD['Class']\n",
    "X = df_median_meterD.drop(['Class'],axis=1)\n",
    "\n",
    "clf7 = tree.DecisionTreeClassifier(criterion='entropy',max_depth=3,random_state=0)\n",
    "clf7 = clf7.fit(X, Y)\n",
    "\n",
    "fig = plt.figure(figsize=(25,20))\n",
    "tree.plot_tree(clf7,feature_names=X.columns,class_names=['1','2','3','4'],filled=True, impurity=True)"
   ]
  },
  {
   "cell_type": "markdown",
   "metadata": {},
   "source": [
    "# Model Naives Bayes"
   ]
  },
  {
   "cell_type": "code",
   "execution_count": null,
   "metadata": {},
   "outputs": [],
   "source": [
    "from sklearn.naive_bayes import GaussianNB\n",
    "\n",
    "clf2=GaussianNB()\n",
    "clf2.fit(x_train, y_train)\n",
    "Y_predTrain = clf2.predict(x_train)\n",
    "Y_predTest = clf2.predict(x_test)\n",
    "trainAcc=accuracy_score(y_train, Y_predTrain)\n",
    "testAcc=accuracy_score(y_test, Y_predTest)\n",
    "print(\"\\nTraining Accuracy:\",trainAcc)\n",
    "print(\"\\nTesting Accuracy:\",testAcc)"
   ]
  },
  {
   "cell_type": "code",
   "execution_count": null,
   "metadata": {},
   "outputs": [],
   "source": []
  },
  {
   "cell_type": "markdown",
   "metadata": {},
   "source": [
    "# Model Neural Network"
   ]
  },
  {
   "cell_type": "code",
   "execution_count": null,
   "metadata": {},
   "outputs": [],
   "source": [
    "from sklearn.neural_network import MLPClassifier\n",
    "\n",
    "hidden_layer_sizes = [(10,10,10), (20,20,20), (30,30,30), (40,40,40), (50,50,50), (60,60,60), (70,70,70)]\n",
    "trainAcc = []\n",
    "testAcc = []\n",
    "\n",
    "for k in hidden_layer_sizes:\n",
    "    clf6 = MLPClassifier(solver='adam',hidden_layer_sizes=k, learning_rate='adaptive',random_state=0,max_iter=1000)\n",
    "    clf6.fit(x_train, y_train)\n",
    "    Y_predTrain = clf6.predict(x_train)\n",
    "    Y_predTest = clf6.predict(x_test)\n",
    "    trainAcc.append(accuracy_score(y_train, Y_predTrain))\n",
    "    testAcc.append(accuracy_score(y_test, Y_predTest))\n",
    "hidden_layer_size=[x[0] for x in hidden_layer_sizes]\n",
    "plt.plot(hidden_layer_size, trainAcc, 'ro-', hidden_layer_size, testAcc,'bv--')\n",
    "plt.legend(['Training Accuracy','Test Accuracy'])\n",
    "plt.xlabel('Number of hidden layer')\n",
    "plt.ylabel('Accuracy')\n",
    "print(\"Highest training accuracy:\", max(trainAcc))\n",
    "print(\"Highest testing accuracy:\", max(testAcc))\n",
    "print(\"Lowest testing accuracy:\", min(testAcc))"
   ]
  },
  {
   "cell_type": "code",
   "execution_count": null,
   "metadata": {},
   "outputs": [],
   "source": []
  },
  {
   "cell_type": "markdown",
   "metadata": {},
   "source": [
    "# Unsupervised Learning (KNN, K-means)"
   ]
  },
  {
   "cell_type": "markdown",
   "metadata": {},
   "source": [
    "# KNN"
   ]
  },
  {
   "cell_type": "code",
   "execution_count": null,
   "metadata": {},
   "outputs": [],
   "source": [
    "from sklearn.neighbors import KNeighborsClassifier\n",
    "\n",
    "numNeighbors = [1,3,5,6,8,10,12,14,16,18,20,22,24,26,28,30,35,40]#1, 5, 10, 15, 20, 25, 30\n",
    "trainAcc = []\n",
    "testAcc = []\n",
    "\n",
    "for k in numNeighbors:\n",
    "    clf1 = KNeighborsClassifier(n_neighbors=k, metric='minkowski', p=2)\n",
    "    clf1.fit(x_train, y_train)\n",
    "    Y_predTrain = clf1.predict(x_train)\n",
    "    Y_predTest = clf1.predict(x_test)\n",
    "    trainAcc.append(accuracy_score(y_train, Y_predTrain))\n",
    "    testAcc.append(accuracy_score(y_test, Y_predTest))\n",
    "\n",
    "plt.plot(numNeighbors, trainAcc, 'ro-', numNeighbors, testAcc,'bv--')\n",
    "plt.legend(['Training Accuracy','Test Accuracy'])\n",
    "plt.xlabel('Number of neighbors')\n",
    "plt.ylabel('Accuracy')\n",
    "print(\"Highest training accuracy:\", max(trainAcc))\n",
    "print(\"Highest testing accuracy:\", max(testAcc))\n",
    "print(\"Lowest testing accuracy:\", min(testAcc))"
   ]
  },
  {
   "cell_type": "code",
   "execution_count": null,
   "metadata": {},
   "outputs": [],
   "source": []
  },
  {
   "cell_type": "markdown",
   "metadata": {},
   "source": [
    "# K-means"
   ]
  },
  {
   "cell_type": "code",
   "execution_count": null,
   "metadata": {},
   "outputs": [],
   "source": [
    "plt.scatter(X_pca[:, 0], X_pca[:, 1],\n",
    "            c=dataset['Class'], edgecolor='none', alpha=0.5,\n",
    "            cmap=plt.cm.get_cmap('gist_rainbow_r', 4))\n",
    "plt.xlabel('component 1')\n",
    "plt.ylabel('component 2')\n",
    "plt.title('PCA Scatterplot')\n",
    "plt.colorbar()"
   ]
  },
  {
   "cell_type": "markdown",
   "metadata": {},
   "source": [
    "<font font size=\"5\" color='blue'> This is the original look of PCA scatter plot with the orginal class </font>"
   ]
  },
  {
   "cell_type": "code",
   "execution_count": null,
   "metadata": {},
   "outputs": [],
   "source": [
    "from mpl_toolkits import mplot3d \n",
    " \n",
    "fig = plt.figure(figsize = (12,8)) \n",
    "ax = plt.axes(projection='3d')  \n",
    " \n",
    "sctt = ax.scatter3D(X_pca[:,0], X_pca[:,1], X_pca[:,2], \n",
    "                    c=dataset['Class'], s=50, alpha=0.6) \n",
    "plt.title(\"3D Scatterplot\", pad=15) \n",
    "ax.set_xlabel(\"PC1\") \n",
    "ax.set_ylabel(\"PC2\") \n",
    "ax.set_zlabel(\"PC3\")"
   ]
  },
  {
   "cell_type": "markdown",
   "metadata": {},
   "source": [
    "<font font size=\"5\" color='blue'> This is how it looks in 3D  </font>"
   ]
  },
  {
   "cell_type": "code",
   "execution_count": null,
   "metadata": {},
   "outputs": [],
   "source": [
    "from sklearn.cluster import KMeans\n",
    "wcss =[]\n",
    "for i in range(1,21):\n",
    "    kmeans_pca = KMeans(n_clusters =i,init='k-means++',random_state=0)\n",
    "    kmeans_pca.fit(X_pca)\n",
    "    wcss.append(kmeans_pca.inertia_)"
   ]
  },
  {
   "cell_type": "code",
   "execution_count": null,
   "metadata": {},
   "outputs": [],
   "source": [
    "plt.plot(range(1,21),wcss,marker='o',linestyle='--')\n",
    "plt.xlabel('Number of cluster')\n",
    "plt.ylabel('WCSS')\n",
    "plt.title('K-means with PCA Clustering')\n",
    "plt.show()"
   ]
  },
  {
   "cell_type": "code",
   "execution_count": null,
   "metadata": {},
   "outputs": [],
   "source": [
    "kmeans_pca = KMeans(n_clusters=4,init='k-means++',random_state=0)\n",
    "# fit data into kmeans model\n",
    "kmeans_pca.fit(X_pca)"
   ]
  },
  {
   "cell_type": "code",
   "execution_count": null,
   "metadata": {},
   "outputs": [],
   "source": [
    "df_segm_pca_kmeans = pd.concat([dataset.reset_index(drop=True),pd.DataFrame(X_pca)],axis=1)\n",
    "df_segm_pca_kmeans.columns.values[-4:] =['PC1','PC2','PC3','PC4']\n",
    "df_segm_pca_kmeans['K-means']= kmeans_pca.labels_\n",
    "df_segm_pca_kmeans.head()"
   ]
  },
  {
   "cell_type": "code",
   "execution_count": null,
   "metadata": {},
   "outputs": [],
   "source": [
    "df_segm_pca_kmeans['Label']=df_segm_pca_kmeans['K-means'].map({0:1,1:2,2:3,3:4})\n",
    "\n",
    "import seaborn as sns\n",
    "\n",
    "x_axis= df_segm_pca_kmeans['PC1']\n",
    "y_axis= df_segm_pca_kmeans['PC2']\n",
    "sns.scatterplot(x_axis,y_axis,hue=df_segm_pca_kmeans['Label'],palette=['g','r','c','y'])\n",
    "plt.title('Clusters by PCA with K-means')\n",
    "plt.show()"
   ]
  },
  {
   "cell_type": "markdown",
   "metadata": {},
   "source": [
    "<font font size=\"5\" color='blue'> This is how it will look like after using K means with 4 cluster, it changes too many class and is not accurate at all  </font>"
   ]
  },
  {
   "cell_type": "code",
   "execution_count": null,
   "metadata": {},
   "outputs": [],
   "source": []
  },
  {
   "cell_type": "code",
   "execution_count": null,
   "metadata": {},
   "outputs": [],
   "source": []
  },
  {
   "cell_type": "code",
   "execution_count": null,
   "metadata": {},
   "outputs": [],
   "source": []
  },
  {
   "cell_type": "code",
   "execution_count": null,
   "metadata": {},
   "outputs": [],
   "source": []
  },
  {
   "cell_type": "markdown",
   "metadata": {},
   "source": [
    "# Visualization of Decision boundary\n"
   ]
  },
  {
   "cell_type": "code",
   "execution_count": null,
   "metadata": {},
   "outputs": [],
   "source": [
    "df_median_meterD"
   ]
  },
  {
   "cell_type": "code",
   "execution_count": null,
   "metadata": {},
   "outputs": [],
   "source": [
    "X=df_median_meterD[['Flow Velocity P1', 'Flow Velocity P2']].to_numpy()\n",
    "Y=df_median_meterD[['Class']].to_numpy()\n",
    "Y=Y.reshape(-1)\n"
   ]
  },
  {
   "cell_type": "code",
   "execution_count": null,
   "metadata": {},
   "outputs": [],
   "source": [
    "reds = Y == 1\n",
    "black = Y == 0\n",
    "plt.scatter(X[reds, 0], X[reds, 1], c=\"red\",s=20, edgecolor='k')\n",
    "plt.scatter(X[black, 0], X[black, 1], c=\"yellow\", s=20, edgecolor='k')\n",
    "plt.xlabel(\"Feature 1\")\n",
    "plt.ylabel(\"Feature 2\")\n",
    "plt.title(\"Plot of data:Feature 1 verus Feature 2\")"
   ]
  },
  {
   "cell_type": "code",
   "execution_count": null,
   "metadata": {},
   "outputs": [],
   "source": [
    "X_train, X_test, Y_train, Y_test = train_test_split(X_pca, Y, test_size=0.3, random_state=12)\n"
   ]
  },
  {
   "cell_type": "code",
   "execution_count": null,
   "metadata": {},
   "outputs": [],
   "source": [
    "N=113 # no. of row in the given data is 1000\n",
    "x_min, x_max = X_test[:, 0].min() - 1, X_test[:, 0].max() + 1\n",
    "y_min, y_max = X_test[:, 1].min() - 1, X_test[:, 1].max() + 1\n",
    "\n",
    "xx, yy= np.meshgrid(np.arange(x_min, x_max, 0.1),np.arange(y_min, y_max, 0.1))\n",
    "\n",
    "pca_2 = PCA(n_components=2)\n",
    "pca_2.fit(df_median_meterD)\n",
    "X_pca_2=pca_2.transform(df_median_meterD)\n",
    "print(X_pca_2.shape)\n",
    "\n",
    "# orginal data\n",
    "plt.plot(X[:int(N/2),0],X[:int(N/2),1],'r+',X[int(N/2):,0],X[int(N/2):,1],'k.',ms=5)\n",
    "# plt.plot(X_pca_2[:int(N/2),0],X_pca_2[:int(N/2),1],'r+',X_pca_2[int(N/2):,0],X_pca_2[int(N/2):,1],'k.',ms=5)\n",
    "plt.xlabel('PC1')\n",
    "plt.ylabel('PC2')\n",
    "plt.title('Projection of Data for orginal data')\n",
    "\n",
    "f, axarr = plt.subplots(2, sharex='col', sharey='row', figsize=(10, 8))\n",
    "\n",
    "X_train, X_test, Y_train, Y_test = train_test_split(X_pca_2, Y, test_size=0.3, random_state=12)\n",
    "\n",
    "print(xx.shape)\n",
    "print(yy.shape)\n",
    "clf1 = KNeighborsClassifier(n_neighbors=10, metric='minkowski', p=2)\n",
    "clf1.fit(X_train, Y_train)\n",
    "clf2 = tree.DecisionTreeClassifier(max_depth=10)\n",
    "clf2.fit(X_train, Y_train)\n",
    "for idx, clf, tt in zip([[0], [1]], [clf1, clf2],['KNN', 'Decision Tree']):\n",
    "    Z = clf.predict(np.c_[xx.ravel(), yy.ravel()])\n",
    "    Z = Z.reshape(xx.shape)\n",
    "    axarr[idx[0]].contourf(xx, yy, Z,alpha=0.4)\n",
    "    axarr[idx[0]].set_title(tt)\n",
    "    plt.xlabel('PC1')\n",
    "    plt.ylabel('PC2')\n",
    "    plt.title('Decision tree')\n",
    "plt.show()"
   ]
  },
  {
   "cell_type": "code",
   "execution_count": null,
   "metadata": {},
   "outputs": [],
   "source": []
  },
  {
   "cell_type": "code",
   "execution_count": null,
   "metadata": {},
   "outputs": [],
   "source": [
    "# N=113 # no. of row in the given data is 1000\n",
    "# x_min, x_max = X_test[:, 0].min() - 1, X_test[:, 0].max() + 1\n",
    "# y_min, y_max = X_test[:, 1].min() - 1, X_test[:, 1].max() + 1\n",
    "\n",
    "# xx, yy= np.meshgrid(np.arange(x_min, x_max, 0.1),np.arange(y_min, y_max, 0.1))\n",
    "\n",
    "# pca_2 = PCA(n_components=2)\n",
    "# pca_2.fit(df_median_meterD)\n",
    "# X_pca_2=pca_2.transform(df_median_meterD)\n",
    "# print(X_pca_2.shape)\n",
    "\n",
    "# # orginal data\n",
    "# plt.plot(X[:int(N/2),0],X[:int(N/2),1],'r+',X[int(N/2):,0],X[int(N/2):,1],'k.',ms=5)\n",
    "# # plt.plot(X_pca_2[:int(N/2),0],X_pca_2[:int(N/2),1],'r+',X_pca_2[int(N/2):,0],X_pca_2[int(N/2):,1],'k.',ms=5)\n",
    "# plt.xlabel('PC1')\n",
    "# plt.ylabel('PC2')\n",
    "# plt.title('Projection of Data for orginal data')\n",
    "\n",
    "# f, axarr = plt.subplots(2, sharex='col', sharey='row', figsize=(10, 8))\n",
    "\n",
    "# X_train, X_test, Y_train, Y_test = train_test_split(X_pca_2, Y, test_size=0.3, random_state=12)\n",
    "\n",
    "# print(xx.shape)\n",
    "# print(yy.shape)\n",
    "# # clf1 = KNeighborsClassifier(n_neighbors=10, metric='minkowski', p=2)\n",
    "# # clf1.fit(X_train, Y_train)\n",
    "# # clf2 = tree.DecisionTreeClassifier(max_depth=10)\n",
    "# # clf2.fit(X_train, Y_train)\n",
    "# for idx, clf, tt in zip([[0], [1]], [clf5, clf6],['KNN', 'Decision Tree']):\n",
    "#     Z = clf.predict(np.c_[xx.ravel(), yy.ravel()])\n",
    "#     Z = Z.reshape(xx.shape)\n",
    "#     axarr[idx[0]].contourf(xx, yy, Z,alpha=0.4)\n",
    "#     axarr[idx[0]].set_title(tt)\n",
    "#     plt.xlabel('PC1')\n",
    "#     plt.ylabel('PC2')\n",
    "#     plt.title('Decision tree')\n",
    "# plt.show()"
   ]
  },
  {
   "cell_type": "code",
   "execution_count": null,
   "metadata": {},
   "outputs": [],
   "source": []
  },
  {
   "cell_type": "code",
   "execution_count": null,
   "metadata": {},
   "outputs": [],
   "source": []
  },
  {
   "cell_type": "code",
   "execution_count": null,
   "metadata": {},
   "outputs": [],
   "source": []
  },
  {
   "cell_type": "code",
   "execution_count": null,
   "metadata": {},
   "outputs": [],
   "source": []
  },
  {
   "cell_type": "code",
   "execution_count": null,
   "metadata": {},
   "outputs": [],
   "source": []
  }
 ],
 "metadata": {
  "interpreter": {
   "hash": "36b047f55bcb206410edaa6c1bcfab9de11219125612c3a8f4089902d1591d18"
  },
  "kernelspec": {
   "display_name": "Python 3",
   "language": "python",
   "name": "python3"
  },
  "language_info": {
   "codemirror_mode": {
    "name": "ipython",
    "version": 3
   },
   "file_extension": ".py",
   "mimetype": "text/x-python",
   "name": "python",
   "nbconvert_exporter": "python",
   "pygments_lexer": "ipython3",
   "version": "3.8.5"
  }
 },
 "nbformat": 4,
 "nbformat_minor": 4
}
